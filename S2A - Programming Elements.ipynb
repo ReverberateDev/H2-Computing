{
 "cells": [
  {
   "cell_type": "markdown",
   "id": "74ab9cf5",
   "metadata": {},
   "source": [
    "# Chapter S2A: Programming Elements (H2 Computing 9569)\n",
    "\n",
    "This notebook covers fundamental programming elements including coding standards, arrays, trace tables, data validation/verification, program testing, and recursion."
   ]
  },
  {
   "cell_type": "markdown",
   "id": "cc1a0482",
   "metadata": {},
   "source": [
    "## 1. Coding Standards & Good Programming Style (Syllabus 2.1.1 - 2.1.3)\n",
    "\n",
    "**Coding standards** are rules and guidelines for writing code to ensure it is:\n",
    "*   Well-structured\n",
    "*   Maintainable\n",
    "*   Readable\n",
    "*   Consistent\n",
    "\n",
    "Good **programming style** enhances clarity and elegance.\n",
    "\n",
    "### 1.1 Principles of Good Programming Style:\n",
    "\n",
    "1.  **Use Comments Effectively:**\n",
    "    *   Include header comments (programmer name, date, description, version).\n",
    "    *   Explain the purpose of functions/algorithms (objectives, inputs, outputs).\n",
    "    *   Clarify complex logic, but avoid explaining basic syntax.\n",
    "2.  **Use Meaningful Identifiers:**\n",
    "    *   Variable/function names should be descriptive (e.g., `total_score` instead of `ts`).\n",
    "    *   Avoid single letters unless conventional (like `i`, `j`, `k` for loop counters).\n",
    "3.  **Apply Proper Indentation and White Space:**\n",
    "    *   Use consistent indentation (e.g., 4 spaces) to show code structure (loops, conditionals).\n",
    "    *   Use blank lines to separate logical blocks of code.\n",
    "4.  **Adhere to Specifications:**\n",
    "    *   Ensure the program meets all requirements defined in the problem statement.\n",
    "5.  **Avoid Deep Nesting:**\n",
    "    *   Limit nesting levels of loops and `IF` statements, as excessive nesting reduces readability and can increase execution time. Consider refactoring into functions if nesting becomes too deep.\n",
    "\n",
    "### 1.2 Coding Standards in A-Level Practical Exams\n",
    "\n",
    "Marks are awarded for:\n",
    "*   **Indentation and White Space:** Proper and consistent use.\n",
    "*   **Meaningful Identifiers:** Clear, descriptive names for variables, constants, functions, etc.\n",
    "*   **Comments:** Inclusion of comments to clarify code logic or purpose."
   ]
  },
  {
   "cell_type": "markdown",
   "id": "5c6d8853",
   "metadata": {},
   "source": [
    "## 2. Arrays (Syllabus 2.2.1)\n",
    "\n",
    "An **array** is a data structure that stores a **finite**, **ordered** collection of elements of the **same data type**.\n",
    "\n",
    "*   **Finite:** Fixed number of elements, determined at declaration.\n",
    "*   **Ordered:** Each element has a specific position (index).\n",
    "*   **Same Data Type:** All elements must be integers, reals, characters, etc.\n",
    "*   **Contiguous Memory:** Elements are typically stored next to each other in memory.\n",
    "*   **Access:** Elements are accessed using the array name and an index (e.g., `myArray[3]`).\n",
    "*   **Indexing:**\n",
    "    *   **Pseudo-code:** Often uses 1-based indexing (e.g., `ARRAY[1:10]`). Bounds (`L:U`) are inclusive. Can also use `ARRAY[<size>]`.\n",
    "    *   **Python:** Uses **0-based** indexing (first element is at index 0)."
   ]
  },
  {
   "cell_type": "markdown",
   "id": "e1ce7ec5",
   "metadata": {},
   "source": [
    "### 2.1 One-dimensional (1D) Array\n",
    "A linear sequence of elements.\n",
    "\n",
    "#### Pseudo-code Declaration"
   ]
  },
  {
   "cell_type": "code",
   "execution_count": null,
   "id": "98f498ac",
   "metadata": {},
   "outputs": [],
   "source": [
    "# // Method 1: Using Lower and Upper Bounds (Inclusive)\n",
    "# DECLARE StudentID : ARRAY[1:10] OF INTEGER\n",
    "#\n",
    "# // Method 2: Using Size (Often implies 0-based or 1-based depending on context,\n",
    "# // but Cambridge often assumes 1-based if size is used like this unless specified)\n",
    "# DECLARE Scores : ARRAY[30] OF REAL"
   ]
  },
  {
   "cell_type": "markdown",
   "id": "36565a28",
   "metadata": {},
   "source": [
    "#### Python Implementation (using Lists)\n",
    "Python lists are dynamic but often used to implement array concepts. For fixed-type arrays, libraries like NumPy are common, but standard lists suffice for basic A-Level concepts."
   ]
  },
  {
   "cell_type": "code",
   "execution_count": null,
   "id": "1fc8cca7",
   "metadata": {},
   "outputs": [],
   "source": [
    "# Python list acting as an array (0-based index)\n",
    "# Simulating DECLARE Scores : ARRAY[1:5] OF INTEGER\n",
    "scores = [0] * 5 # Creates a list of 5 zeros -> indices 0, 1, 2, 3, 4\n",
    "\n",
    "# Accessing elements (remember 0-based)\n",
    "scores[0] = 95 # Accessing the first element\n",
    "scores[4] = 78 # Accessing the fifth (last) element\n",
    "\n",
    "print(f\"Scores array (list): {scores}\")\n",
    "print(f\"First score: {scores[0]}\")\n",
    "\n",
    "try:\n",
    "    print(scores[5]) # This would cause an IndexError\n",
    "except IndexError as e:\n",
    "    print(f\"Error accessing index 5: {e}\")"
   ]
  },
  {
   "cell_type": "markdown",
   "id": "d52b8e4f",
   "metadata": {},
   "source": [
    "### 2.2 Two-dimensional (2D) Array\n",
    "An array of arrays, representing a grid or table structure (rows and columns).\n",
    "\n",
    "#### Pseudo-code Declaration"
   ]
  },
  {
   "cell_type": "code",
   "execution_count": null,
   "id": "0c3c9e0f",
   "metadata": {},
   "outputs": [],
   "source": [
    "# DECLARE Attendance : ARRAY[1:5, 1:4] OF CHAR\n",
    "# // Represents a 5x4 grid (5 rows, 4 columns)\n",
    "# // Indices are [row, column]"
   ]
  },
  {
   "cell_type": "markdown",
   "id": "6811c0d1",
   "metadata": {},
   "source": [
    "#### Accessing 2D Array Elements (Pseudo-code)"
   ]
  },
  {
   "cell_type": "code",
   "execution_count": null,
   "id": "eb153ee0",
   "metadata": {},
   "outputs": [],
   "source": [
    "# // Accessing element at Row 3, Column 2\n",
    "# someVar ← Attendance[3, 2]\n",
    "#\n",
    "# // Assigning to element at Row 5, Column 3\n",
    "# Attendance[5, 3] ← 'N'"
   ]
  },
  {
   "cell_type": "markdown",
   "id": "4363c352",
   "metadata": {},
   "source": [
    "#### Python Implementation (using Lists of Lists)"
   ]
  },
  {
   "cell_type": "code",
   "execution_count": null,
   "id": "b7bf125b",
   "metadata": {
    "lines_to_next_cell": 2
   },
   "outputs": [],
   "source": [
    "# Simulating DECLARE Attendance : ARRAY[1:5, 1:4] OF CHAR\n",
    "# Using 0-based indexing for both dimensions\n",
    "\n",
    "rows = 5\n",
    "cols = 4\n",
    "\n",
    "# Create a 5x4 grid initialized with spaces\n",
    "attendance = [[' ' for _ in range(cols)] for _ in range(rows)]\n",
    "\n",
    "# Accessing elements (remember 0-based)\n",
    "# Corresponds to pseudo-code Attendance[3, 2] -> Python attendance[2][1]\n",
    "attendance[2][1] = 'Y'\n",
    "\n",
    "# Corresponds to pseudo-code Attendance[5, 3] -> Python attendance[4][2]\n",
    "attendance[4][2] = 'N'\n",
    "\n",
    "print(\"Attendance grid (list of lists):\")\n",
    "for row_index in range(rows):\n",
    "    print(attendance[row_index])\n",
    "\n",
    "print(f\"\\nElement at Row 3, Col 2 (Python index [2][1]): {attendance[2][1]}\")\n",
    "print(f\"Element at Row 5, Col 3 (Python index [4][2]): {attendance[4][2]}\")"
   ]
  },
  {
   "cell_type": "markdown",
   "id": "91bf1223",
   "metadata": {},
   "source": [
    "### 2.3 Assigning a Group of Elements into an Array\n",
    "Often done using a loop to initialize or populate the array.\n",
    "\n",
    "#### Pseudo-code Example: Initializing an array"
   ]
  },
  {
   "cell_type": "code",
   "execution_count": null,
   "id": "4345ea59",
   "metadata": {},
   "outputs": [],
   "source": [
    "# DECLARE SpellingTest : ARRAY[1:30] OF INTEGER\n",
    "# DECLARE index : INTEGER\n",
    "#\n",
    "# FOR index ← 1 TO 30\n",
    "#   SpellingTest[index] ← -1 // Initialize each element to -1\n",
    "# ENDFOR"
   ]
  },
  {
   "cell_type": "markdown",
   "id": "53bfc013",
   "metadata": {},
   "source": [
    "#### Python Implementation"
   ]
  },
  {
   "cell_type": "code",
   "execution_count": null,
   "id": "4d4d807b",
   "metadata": {
    "lines_to_next_cell": 2
   },
   "outputs": [],
   "source": [
    "# Initialize a list of 30 elements to -1\n",
    "spelling_test = [-1] * 30\n",
    "print(f\"Initialized spelling_test (first 10 elements): {spelling_test[:10]}...\")\n",
    "\n",
    "# Alternative using a loop (more verbose for simple initialization)\n",
    "spelling_test_loop = []\n",
    "for _ in range(30):\n",
    "    spelling_test_loop.append(-1)\n",
    "# print(spelling_test_loop)"
   ]
  },
  {
   "cell_type": "markdown",
   "id": "9f1e1001",
   "metadata": {},
   "source": [
    "## 3. Trace Table (Syllabus 2.2.6)\n",
    "\n",
    "A **trace table** is a technique used to test algorithms by manually simulating the execution step-by-step on paper. It helps track the values of variables, conditions, and outputs to understand the algorithm's flow and detect logic errors (**dry run**).\n",
    "\n",
    "*   **Structure:** Columns for relevant variables, conditions being tested, and any output produced.\n",
    "*   **Process:** Go through the algorithm line by line, updating the table entry for any variable that changes or recording condition results and outputs at each step.\n",
    "*   **Purpose:** Debugging, verifying logic, understanding algorithm behavior with specific inputs.\n",
    "*   **Clarity:** If a variable doesn't change in a step, the cell can be left blank in that row for clarity.\n",
    "\n",
    "*(See PDF Page 4 for examples of trace tables for a simple loop and nested loops).*"
   ]
  },
  {
   "cell_type": "markdown",
   "id": "89bb709a",
   "metadata": {},
   "source": [
    "#### Example: Trace Table for Simple Loop (from PDF, Input = 4)\n",
    "\n",
    "**Pseudo-code:**\n",
    "```pseudocode\n",
    "num ← USERINPUT\n",
    "WHILE num < 100 DO\n",
    "  num ← num * 2\n",
    "ENDWHILE\n",
    "OUTPUT num\n",
    "```\n",
    "\n",
    "**Trace Table:**\n",
    "\n",
    "| Step        | Line Executed         | num | num < 100 | OUTPUT | Notes                     |\n",
    "|-------------|-----------------------|-----|-----------|--------|---------------------------|\n",
    "| 1           | `num ← USERINPUT`     | 4   |           |        | Initial input             |\n",
    "| 2           | `WHILE num < 100 DO`  | 4   | TRUE      |        | Condition met             |\n",
    "| 3           | `num ← num * 2`       | 8   | TRUE      |        | num updated               |\n",
    "| 4           | `WHILE num < 100 DO`  | 8   | TRUE      |        | Loop continues            |\n",
    "| 5           | `num ← num * 2`       | 16  | TRUE      |        | num updated               |\n",
    "| 6           | `WHILE num < 100 DO`  | 16  | TRUE      |        | Loop continues            |\n",
    "| 7           | `num ← num * 2`       | 32  | TRUE      |        | num updated               |\n",
    "| 8           | `WHILE num < 100 DO`  | 32  | TRUE      |        | Loop continues            |\n",
    "| 9           | `num ← num * 2`       | 64  | TRUE      |        | num updated               |\n",
    "| 10          | `WHILE num < 100 DO`  | 64  | TRUE      |        | Loop continues            |\n",
    "| 11          | `num ← num * 2`       | 128 | TRUE      |        | num updated               |\n",
    "| 12          | `WHILE num < 100 DO`  | 128 | FALSE     |        | Condition fails, loop exits |\n",
    "| 13          | `OUTPUT num`          | 128 | FALSE     | 128    | Final output              |"
   ]
  },
  {
   "cell_type": "markdown",
   "id": "3ffb572e",
   "metadata": {},
   "source": [
    "## 4. Data Validation and Verification (Syllabus 2.4.1 - 2.4.2)\n",
    "\n",
    "These are processes to ensure data integrity, but they check different things.\n",
    "\n",
    "### 4.1 Data Verification\n",
    "\n",
    "**Verification** confirms that data has been transferred accurately from one source/medium to another without errors introduced during the transfer (e.g., typing, copying). **It does not check if the original data was correct.**\n",
    "\n",
    "*   **Purpose:** Detect errors during data entry or transmission.\n",
    "*   **Types of Errors Detected:**\n",
    "    *   **Transcription errors:** Mistakes made when copying data (e.g., misreading handwriting, OCR errors).\n",
    "    *   **Transposition errors:** Accidentally swapping adjacent characters (e.g., typing `132` instead of `123`).\n",
    "*   **Techniques:**\n",
    "    *   **Double Entry:** Entering the data twice; the system compares the two entries and flags discrepancies (e.g., password confirmation fields).\n",
    "    *   **Visual Check:** A human compares the entered data on the screen with the original source document.\n",
    "\n",
    "### 4.2 Data Validation\n",
    "\n",
    "**Validation** is an **automated** check performed by the software to ensure that input data is **sensible, reasonable, complete, and within acceptable boundaries** according to predefined rules. **It does not guarantee accuracy** (e.g., a valid date might still be the *wrong* date).\n",
    "\n",
    "*   **Purpose:** Prevent garbage data from being processed.\n",
    "*   **When:** Typically performed *before* data is processed.\n",
    "*   **Common Validation Checks:**\n",
    "\n",
    "| Check Type     | Description                                       | Example                                                                     |\n",
    "|----------------|---------------------------------------------------|-----------------------------------------------------------------------------|\n",
    "| **Range Check**  | Ensures data falls within a defined min/max range. | Month must be between 1 and 12. Score must be between 0 and 100.            |\n",
    "| **Format Check** | Ensures data follows a specific pattern/structure.  | Email address must match pattern `x@y.z`. Postcode must be 6 digits. NRIC format. |\n",
    "| **Length Check** | Ensures data has the correct number of characters. | Password must be at least 8 characters. Phone number must be 8 digits.      |\n",
    "| **Presence Check**| Ensures a required field is not left empty.       | Name field cannot be blank. Email address must be provided.                 |\n",
    "| **Type Check**   | Ensures data is of the correct data type.         | Age must be an integer. Name must be a string.                              |\n",
    "| **Check Digit**  | An extra digit calculated from the data digits, used for self-checking. | Last character of Singapore NRIC/FIN. Last digit of ISBN/barcode. (See Modulus-11 example in PDF p.7). |"
   ]
  },
  {
   "cell_type": "markdown",
   "id": "6e60b1bd",
   "metadata": {},
   "source": [
    "#### Check Digit Example: Modulus-11\n",
    "(Algorithm needs to be understood/memorised if required for exams).\n",
    "\n",
    "**General Steps (for product code 1234):**\n",
    "1.  Assign weights starting from 2 for the rightmost digit, increasing leftwards (4->2, 3->3, 2->4, 1->5).\n",
    "2.  Multiply each digit by its weight: (1\\*5), (2\\*4), (3\\*3), (4\\*2).\n",
    "3.  Sum the products: 5 + 8 + 9 + 8 = 30.\n",
    "4.  Find the remainder when the sum is divided by 11: 30 % 11 = 8.\n",
    "5.  Subtract the remainder from 11: 11 - 8 = 3.\n",
    "6.  The result is the check digit (3). If the result is 10, use 'X'. If 11, use 0 (check specific rules).\n",
    "7.  Complete code: 1234**3**.\n",
    "\n",
    "*(Note: NRIC uses a different specific weighting and letter conversion, also detailed in PDF p.7)*"
   ]
  },
  {
   "cell_type": "markdown",
   "id": "13bcc65c",
   "metadata": {},
   "source": [
    "## 5. Program Testing (Syllabus 2.4.3 - 2.4.4)\n",
    "\n",
    "**Program testing** is the process of executing a program with the intent of finding errors. It's crucial for ensuring software quality and correctness.\n",
    "\n",
    "### Types of Errors:\n",
    "\n",
    "1.  **Syntax Errors:**\n",
    "    *   Violation of the programming language's grammar rules (e.g., misspelt keywords `pritn`, missing colons, mismatched brackets).\n",
    "    *   Detected by the compiler or interpreter during translation.\n",
    "    *   Program **cannot run** until syntax errors are fixed.\n",
    "\n",
    "2.  **Runtime Errors:**\n",
    "    *   Errors that occur **during program execution**.\n",
    "    *   Detected by the operating system or runtime environment.\n",
    "    *   Often cause the program to crash or terminate abnormally.\n",
    "    *   **Examples:**\n",
    "        *   Division by zero.\n",
    "        *   Trying to access an array index out of bounds.\n",
    "        *   Input errors (e.g., entering text when a number is expected, if not handled).\n",
    "        *   File I/O errors (e.g., file not found).\n",
    "        *   Running out of memory (e.g., memory leak).\n",
    "        *   Stack overflow (often due to infinite recursion).\n",
    "        *   Type mismatch during an operation (if not caught by syntax check).\n",
    "        *   Overflow/Underflow (value exceeds data type limits).\n",
    "\n",
    "3.  **Logic Errors:**\n",
    "    *   Errors in the program's design or algorithm.\n",
    "    *   The program runs without crashing but produces **incorrect or unexpected results**.\n",
    "    *   **Most difficult to detect** as there are no error messages.\n",
    "    *   Requires careful testing with various inputs and comparing actual output to expected output.\n",
    "    *   **Examples:** Using the wrong formula (`area = length + width`), incorrect loop condition (`<` instead of `<=`), flawed algorithm steps."
   ]
  },
  {
   "cell_type": "markdown",
   "id": "0733554f",
   "metadata": {},
   "source": [
    "### 5.4 Designing Test Cases\n",
    "\n",
    "A **test case** specifies inputs, execution conditions, testing procedures, and expected results for a single test objective.\n",
    "\n",
    "*   **Atomic:** Should ideally test only one specific feature or condition at a time.\n",
    "*   **Goal:** Validate testing coverage and identify defects.\n",
    "*   **Types of Test Data:** Test cases should use a variety of data to ensure robustness:\n",
    "    *   **Normal Data:** Sensible, typical inputs that should be accepted. (e.g., age = 25, score = 70).\n",
    "    *   **Abnormal/Invalid Data:** Inputs that should be rejected by validation rules. (e.g., age = -5, score = 110, month = 13, non-numeric input for age).\n",
    "    *   **Extreme Data:** Valid data at the limits of acceptable ranges. (e.g., score = 0, score = 100, minimum/maximum length strings).\n",
    "    *   **Boundary Data:** Data points just inside and just outside the valid range boundaries. Includes extreme data and the first invalid values. (e.g., if valid range is 0-100, test -1, 0, 100, 101).\n",
    "\n",
    "### 5.5 Designing Test Plan\n",
    "\n",
    "A **test plan** is a document outlining the scope, approach, resources, and schedule of intended test activities. It typically includes a comprehensive set of test cases.\n",
    "\n",
    "A simple test plan table might include:\n",
    "\n",
    "| Test Case ID | Input(s)        | Purpose / Data Type | Expected Output | Actual Output | Pass/Fail |\n",
    "|--------------|-----------------|---------------------|-----------------|---------------|-----------|\n",
    "| TC01         | 50              | Normal              | Accepted        |               |           |\n",
    "| TC02         | -10             | Abnormal            | Rejected        |               |           |\n",
    "| TC03         | 0               | Extreme/Boundary    | Accepted        |               |           |\n",
    "| TC04         | 100             | Extreme/Boundary    | Accepted        |               |           |\n",
    "| TC05         | -1              | Boundary            | Rejected        |               |           |\n",
    "| TC06         | 101             | Boundary            | Rejected        |               |           |\n",
    "| TC07         | \"abc\"           | Abnormal (Type)     | Rejected/Error  |               |           |\n",
    "\n",
    "*(The 'Actual Output' and 'Pass/Fail' columns are filled in during actual testing).*"
   ]
  },
  {
   "cell_type": "markdown",
   "id": "59b196c1",
   "metadata": {},
   "source": [
    "## 6. Recursion (Syllabus 2.2.5 - 2.2.7)\n",
    "\n",
    "**Recursion** is a programming technique where a function calls itself, either directly or indirectly, to solve a problem.\n",
    "\n",
    "### Features of a Recursive Function:\n",
    "\n",
    "1.  **Base Case(s):** One or more stopping conditions that do not involve a recursive call. This prevents infinite recursion and provides a known result to start the \"unwinding\".\n",
    "2.  **Recursive Step:** The function calls itself with modified arguments that move closer to the base case.\n",
    "3.  **Definition:** Defined in terms of itself (e.g., factorial `Fac(N) = N * Fac(N-1)`).\n",
    "4.  **Finite Calls:** The sequence of calls must eventually reach a base case.\n",
    "\n",
    "### Examples:\n",
    "\n",
    "#### Factorial (N!)"
   ]
  },
  {
   "cell_type": "markdown",
   "id": "19cc4b80",
   "metadata": {},
   "source": [
    "##### Pseudo-code (Recursive Factorial)"
   ]
  },
  {
   "cell_type": "code",
   "execution_count": null,
   "id": "c53cb345",
   "metadata": {},
   "outputs": [],
   "source": [
    "# FUNCTION Fac(N: INTEGER) RETURNS INTEGER\n",
    "#   // Base Case\n",
    "#   IF N = 0 THEN\n",
    "#     RETURN 1\n",
    "#   // Recursive Step\n",
    "#   ELSE\n",
    "#     RETURN N * Fac(N - 1)\n",
    "#   ENDIF\n",
    "# ENDFUNCTION"
   ]
  },
  {
   "cell_type": "markdown",
   "id": "b359ece5",
   "metadata": {},
   "source": [
    "##### Python (Recursive Factorial)"
   ]
  },
  {
   "cell_type": "code",
   "execution_count": null,
   "id": "b8590725",
   "metadata": {
    "lines_to_next_cell": 1
   },
   "outputs": [],
   "source": [
    "def factorial_recursive(n):\n",
    "  if n < 0:\n",
    "    return \"Factorial not defined for negative numbers\"\n",
    "  elif n == 0: # Base case\n",
    "    return 1\n",
    "  else: # Recursive step\n",
    "    return n * factorial_recursive(n - 1)\n",
    "\n",
    "print(f\"Factorial(3) = {factorial_recursive(3)}\")\n",
    "print(f\"Factorial(0) = {factorial_recursive(0)}\")\n",
    "print(f\"Factorial(5) = {factorial_recursive(5)}\")"
   ]
  },
  {
   "cell_type": "markdown",
   "id": "e5390ca2",
   "metadata": {},
   "source": [
    "#### Fibonacci Sequence"
   ]
  },
  {
   "cell_type": "markdown",
   "id": "17ad1798",
   "metadata": {},
   "source": [
    "##### Pseudo-code (Recursive Fibonacci)"
   ]
  },
  {
   "cell_type": "code",
   "execution_count": null,
   "id": "eb2efcbf",
   "metadata": {},
   "outputs": [],
   "source": [
    "# FUNCTION Fibonacci(n: INTEGER) RETURNS INTEGER\n",
    "#   // Base Case 1\n",
    "#   IF n = 0 THEN\n",
    "#     RETURN 0\n",
    "#   // Base Case 2\n",
    "#   ELSE IF n = 1 THEN\n",
    "#     RETURN 1\n",
    "#   // Recursive Step\n",
    "#   ELSE\n",
    "#     RETURN Fibonacci(n - 1) + Fibonacci(n - 2)\n",
    "#   ENDIF\n",
    "# ENDFUNCTION"
   ]
  },
  {
   "cell_type": "markdown",
   "id": "2d0adb02",
   "metadata": {},
   "source": [
    "##### Pseudo-code (Iterative Fibonacci)"
   ]
  },
  {
   "cell_type": "code",
   "execution_count": null,
   "id": "ff5ca1de",
   "metadata": {},
   "outputs": [],
   "source": [
    "# FUNCTION Fibonacci_Iterative(n: INTEGER) RETURNS INTEGER\n",
    "#   DECLARE num1, num2, num3, i : INTEGER\n",
    "#\n",
    "#   IF n = 0 THEN\n",
    "#     RETURN 0\n",
    "#   ELSE IF n = 1 THEN\n",
    "#     RETURN 1\n",
    "#   ELSE\n",
    "#     num1 ← 0\n",
    "#     num2 ← 1\n",
    "#     // Loop starts from 2 because cases 0 and 1 are handled\n",
    "#     FOR i ← 2 TO n\n",
    "#       num3 ← num1 + num2\n",
    "#       num1 ← num2       // Shift values for next iteration\n",
    "#       num2 ← num3\n",
    "#     ENDFOR\n",
    "#     RETURN num3 // The nth Fibonacci number\n",
    "#   ENDIF\n",
    "# ENDFUNCTION"
   ]
  },
  {
   "cell_type": "markdown",
   "id": "373474a9",
   "metadata": {},
   "source": [
    "##### Python (Recursive Fibonacci - often inefficient for larger n)"
   ]
  },
  {
   "cell_type": "code",
   "execution_count": null,
   "id": "24d13c7e",
   "metadata": {
    "lines_to_next_cell": 1
   },
   "outputs": [],
   "source": [
    "def fibonacci_recursive(n):\n",
    "  if n < 0:\n",
    "    return \"Invalid input\"\n",
    "  elif n == 0: # Base case 1\n",
    "    return 0\n",
    "  elif n == 1: # Base case 2\n",
    "    return 1\n",
    "  else: # Recursive step\n",
    "    return fibonacci_recursive(n - 1) + fibonacci_recursive(n - 2)\n",
    "\n",
    "# print(f\"Fibonacci(5) = {fibonacci_recursive(5)}\")\n",
    "# print(f\"Fibonacci(10) = {fibonacci_recursive(10)}\")\n",
    "# Note: This becomes very slow for n > ~35 due to repeated calculations"
   ]
  },
  {
   "cell_type": "markdown",
   "id": "93cbb2b2",
   "metadata": {},
   "source": [
    "##### Python (Iterative Fibonacci - more efficient)"
   ]
  },
  {
   "cell_type": "code",
   "execution_count": null,
   "id": "674e1df3",
   "metadata": {},
   "outputs": [],
   "source": [
    "def fibonacci_iterative(n):\n",
    "    if n < 0:\n",
    "        return \"Invalid input\"\n",
    "    elif n == 0:\n",
    "        return 0\n",
    "    elif n == 1:\n",
    "        return 1\n",
    "    else:\n",
    "        num1 = 0\n",
    "        num2 = 1\n",
    "        for _ in range(2, n + 1):\n",
    "            num3 = num1 + num2\n",
    "            num1 = num2\n",
    "            num2 = num3\n",
    "        return num3\n",
    "\n",
    "print(f\"Iterative Fibonacci(5) = {fibonacci_iterative(5)}\")\n",
    "print(f\"Iterative Fibonacci(10) = {fibonacci_iterative(10)}\")\n",
    "print(f\"Iterative Fibonacci(40) = {fibonacci_iterative(40)}\") # Much faster"
   ]
  },
  {
   "cell_type": "markdown",
   "id": "9901c041",
   "metadata": {},
   "source": [
    "### 6.1 Comparing Recursion and Iteration\n",
    "\n",
    "| Feature         | Recursion                                          | Iteration (Loops)                                    |\n",
    "|-----------------|----------------------------------------------------|------------------------------------------------------|\n",
    "| **Simplicity**    | Often more elegant/simpler code for problems with naturally recursive structures (trees, divide & conquer). | Can be more complex for recursive patterns, simpler for linear tasks. |\n",
    "| **Memory Usage**| Uses call stack memory for each call; risk of **stack overflow** with deep recursion. | Uses fixed memory (loop variables); no stack overflow risk from iteration itself. |\n",
    "| **Exec Speed**  | Can be slower due to function call overhead.       | Generally faster due to less overhead.               |\n",
    "| **Debugging**   | Harder to trace due to multiple function contexts. | Easier to trace loop execution flow.                 |\n",
    "| **Proof**       | Often easier to prove correctness using mathematical induction. | May use loop invariants for proofs.                 |\n",
    "| **Use Cases**   | Tree traversals, divide & conquer (Binary Search, Merge Sort), Factorial, Fibonacci (though inefficiently). | Tasks involving repetition over a sequence/range (summing lists, linear search). |\n",
    "| **Time Complex**| Can sometimes be less efficient (e.g., basic recursive Fibonacci is O(2^n)). | Often more straightforward to analyze; iterative Fibonacci is O(n). |"
   ]
  },
  {
   "cell_type": "markdown",
   "id": "fd38cf18",
   "metadata": {},
   "source": [
    "### 6.2 Use of Call Stack\n",
    "\n",
    "The **call stack** (or execution stack) is a data structure used by the runtime system to manage function calls.\n",
    "\n",
    "*   **Stack Frames:** When a function is called, a **stack frame** (or activation record) is pushed onto the stack. This frame contains:\n",
    "    *   **Return Address:** Where to resume execution in the calling function after the current function finishes.\n",
    "    *   **Parameters:** Copies of arguments passed to the function (or references).\n",
    "    *   **Local Variables:** Variables declared inside the function.\n",
    "    *   (Sometimes) Saved state of the calling function.\n",
    "*   **Pushing:** Calling a function pushes a new frame.\n",
    "*   **Popping:** When a function returns, its stack frame is popped off the stack, and control returns to the return address stored in the frame below it.\n",
    "*   **Recursion & Stack:** Each recursive call pushes a new stack frame. Deep recursion can lead to many frames.\n",
    "*   **Stack Overflow:** If the call stack runs out of memory (exceeds its maximum size) due to too many nested or recursive calls without returning (e.g., infinite recursion), a **stack overflow error** occurs, crashing the program.\n",
    "*   **Unwinding:** The process of returning from recursive calls and popping frames off the stack after the base case is reached.\n",
    "\n",
    "*(See PDF Page 14 for a diagram illustrating stack frames).*"
   ]
  },
  {
   "cell_type": "markdown",
   "id": "c86627d0",
   "metadata": {},
   "source": [
    "## 7. Video References (from PDF)\n",
    "\n",
    "*   **7.1 Trace Tables:** [https://www.youtube.com/watch?v=jqegERorXPI](https://www.youtube.com/watch?v=jqegERorXPI)\n",
    "*   **7.2 Validation/Verification:** [https://www.youtube.com/watch?v=NmwtF0fAUfI](https://www.youtube.com/watch?v=NmwtF0fAUfI)\n",
    "*   **7.3 Errors (Syntax, Runtime, Logic):** [https://www.youtube.com/watch?v=ToPP5UGgJUM](https://www.youtube.com/watch?v=ToPP5UGgJUM)\n",
    "*   **7.4 Test Data:** [https://www.youtube.com/watch?v=tWwcefljMAQ](https://www.youtube.com/watch?v=tWwcefljMAQ)\n",
    "*   **7.5 Recursion (CS50):** [https://www.youtube.com/watch?v=mz6tAJMVmfM](https://www.youtube.com/watch?v=mz6tAJMVmfM)\n",
    "*   **7.6 Call Stack:** [https://www.youtube.com/watch?v=Q2sFmqvpBe0](https://www.youtube.com/watch?v=Q2sFmqvpBe0)"
   ]
  },
  {
   "cell_type": "markdown",
   "id": "bd0358cd",
   "metadata": {},
   "source": [
    "---\n",
    "*End of Summary for Chapter S2A: Programming Elements*\n",
    "---"
   ]
  }
 ],
 "metadata": {
  "jupytext": {
   "encoding": "# -*- coding: utf-8 -*-"
  },
  "kernelspec": {
   "display_name": "Python 3 (ipykernel)",
   "language": "python",
   "name": "python3"
  }
 },
 "nbformat": 4,
 "nbformat_minor": 5
}
