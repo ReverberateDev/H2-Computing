{
 "cells": [
  {
   "cell_type": "markdown",
   "id": "9b35effb",
   "metadata": {},
   "source": [
    "# Chapter S1A: Algorithmic Representation (H2 Computing 9569)\n",
    "\n",
    "This notebook summarizes the key concepts for representing algorithms as required by the H2 Computing syllabus, based on the provided notes. Pseudo-code examples are placed in code cells and commented out."
   ]
  },
  {
   "cell_type": "markdown",
   "id": "87a53a2f",
   "metadata": {},
   "source": [
    "## 1. Algorithm (Syllabus 1.1)\n",
    "\n",
    "An **algorithm** is a fundamental concept in computing. It's defined as:\n",
    "\n",
    "*   A **well-ordered** sequence of steps.\n",
    "*   Consisting of **unambiguous** and **effectively computable** operations.\n",
    "*   That, when executed, **produces an observable result**.\n",
    "*   And **halts** (terminates) in a **finite amount of time**.\n",
    "\n",
    "Essentially, an algorithm is a clear recipe for solving a specific problem or performing a task. The result allows users to verify if the algorithm achieved the desired outcome."
   ]
  },
  {
   "cell_type": "markdown",
   "id": "5d0c73c9",
   "metadata": {},
   "source": [
    "## 2. Flowchart (Syllabus 1.1.1 - 1.1.2)\n",
    "\n",
    "A **flowchart** provides a graphical representation of the steps and logic within an algorithm, process, or system.\n",
    "\n",
    "*   **Purpose:** To visualize the flow of control and operations.\n",
    "*   **Components:** Standard symbols connected by flow lines (usually with arrows).\n",
    "*   **Convention:** Often follows a top-down, left-right flow.\n",
    "\n",
    "### Common Flowchart Symbols:\n",
    "\n",
    "| Symbol         | Name          | Description                                                                 |\n",
    "| -------------- | ------------- | --------------------------------------------------------------------------- |\n",
    "| Oval           | Terminator    | Represents the **Start** or **Stop** points of the algorithm.               |\n",
    "| Parallelogram  | Input/Output  | Represents an action where data is **read (Input)** or **displayed (Output)**. |\n",
    "| Rectangle      | Process       | Represents any processing step, calculation, or assignment.                 |\n",
    "| Diamond        | Decision      | Represents a point where a condition is tested, resulting in different paths (e.g., Yes/No, True/False). |\n",
    "| Small Circle   | Connector     | Joins different parts of the flowchart, often used to avoid crossing lines or continue on another page (requires identical labels). |\n",
    "| Rectangle with<br>side lines | Subroutine    | Represents a call to a predefined process or subroutine (like a function or procedure). |\n",
    "\n",
    "*(Refer to the PDF Page 2 for visual representations of these symbols and Page 3 for an example flowchart finding the largest of three numbers.)*"
   ]
  },
  {
   "cell_type": "markdown",
   "id": "8f32570c",
   "metadata": {},
   "source": [
    "## 3. Pseudo-code (Syllabus 1.1.1)\n",
    "\n",
    "**Pseudo-code** is a way of describing an algorithm using a combination of natural language (like English) and programming language elements.\n",
    "\n",
    "*   **Purpose:** To outline the logic of an algorithm clearly without being tied to the strict syntax rules of a specific programming language. It acts as a bridge between human understanding and actual code.\n",
    "*   **Readability:** Should be easily understandable by programmers.\n",
    "*   **Standard:** While there's no single universal standard, conventions are followed for clarity (like the ones used in the Cambridge syllabus)."
   ]
  },
  {
   "cell_type": "markdown",
   "id": "fd6401d7",
   "metadata": {},
   "source": [
    "### 3.1 Identifiers\n",
    "\n",
    "Names given to elements like variables, constants, functions, procedures, etc.\n",
    "*   **Rules:**\n",
    "    *   Can contain letters, digits, and underscores (`_`).\n",
    "    *   Must **not** start with a digit.\n",
    "    *   Should be meaningful/descriptive.\n",
    "    *   Cannot be keywords.\n",
    "*   **Examples:** `total_Score`, `userName`, `isValid`, `num1` (Valid); `2morrow` (Invalid - starts with digit), `user name` (Invalid - contains space), `email@address` (Invalid - contains '@'), `IF` (Invalid - is a keyword)."
   ]
  },
  {
   "cell_type": "markdown",
   "id": "ad9d8a1f",
   "metadata": {},
   "source": [
    "### 3.2 Keywords\n",
    "\n",
    "Reserved words with predefined meanings in the pseudo-code structure. They cannot be used as identifiers.\n",
    "*   **Examples (based on PDF):** `DECLARE`, `CONSTANT`, `INPUT`, `OUTPUT`, `IF`, `THEN`, `ELSE`, `ENDIF`, `FOR`, `TO`, `STEP`, `ENDFOR`, `WHILE`, `ENDWHILE`, `REPEAT`, `UNTIL`, `PROCEDURE`, `ENDPROCEDURE`, `FUNCTION`, `RETURNS`, `ENDFUNCTION`, `CALL`, `RETURN`, `BYVAL`, `BYREF`, `INTEGER`, `REAL`, `CHAR`, `STRING`, `BOOLEAN`, `TRUE`, `FALSE`, `AND`, `OR`, `NOT`."
   ]
  },
  {
   "cell_type": "markdown",
   "id": "6d5b62a5",
   "metadata": {},
   "source": [
    "### 3.3 Comments\n",
    "\n",
    "Explanatory notes within the code that are ignored during execution.\n",
    "*   **Purpose:** Improve understanding, document code (author, date, purpose), explain complex logic.\n",
    "*   **Syntax:** Preceded by `//`. The comment extends to the end of the line."
   ]
  },
  {
   "cell_type": "code",
   "execution_count": null,
   "id": "523b50bc",
   "metadata": {
    "vscode": {
     "languageId": "python"
    }
   },
   "outputs": [],
   "source": [
    "# --- Pseudo-code Example for Comments ---\n",
    "# // This is a single-line comment\n",
    "# DECLARE count : INTEGER // Variable to store count"
   ]
  },
  {
   "cell_type": "markdown",
   "id": "3cc5da9f",
   "metadata": {},
   "source": [
    "### 3.4 Data Types\n",
    "\n",
    "Define the kind of data a variable or constant can hold and the operations that can be performed on it.\n",
    "\n",
    "| Pseudo-code Type | Description                                     | Example Literals         | Typical Size | Python Equivalent |\n",
    "| ---------------- | ----------------------------------------------- | ------------------------ | ------------ | ----------------- |\n",
    "| `INTEGER`        | Whole numbers (positive, negative, or zero)     | `-33`, `0`, `8`          | 4 bytes      | `int`             |\n",
    "| `REAL`           | Numbers with a fractional part (decimal point) | `-24.8`, `0.0`, `3.142` | 4 bytes      | `float`           |\n",
    "| `CHAR`           | Single character (letter, digit, symbol)        | `'a'`, `'#'`, `'7'`      | 1 byte       | `str` (length 1)  |\n",
    "| `STRING`         | Sequence of zero or more characters           | `\"Hello\"`, `\"\"`          | 1 byte/char  | `str`             |\n",
    "| `BOOLEAN`        | Logical values                                  | `TRUE`, `FALSE`          | 1 byte       | `bool` (`True`, `False`) |\n",
    "\n",
    "**Note:** Python is dynamically typed, meaning you don't usually declare variable types explicitly like in pseudo-code's `DECLARE`. However, understanding these types is crucial for algorithm design. Type hints can be used in Python (`variable: int`)."
   ]
  },
  {
   "cell_type": "markdown",
   "id": "e6a69ff0",
   "metadata": {},
   "source": [
    "### 3.5 Variables\n",
    "\n",
    "A named storage location in memory whose value can change during program execution.\n",
    "*   **Declaration (Pseudo-code):** Explicitly state the variable's name and data type before use."
   ]
  },
  {
   "cell_type": "code",
   "execution_count": null,
   "id": "548467bf",
   "metadata": {
    "vscode": {
     "languageId": "python"
    }
   },
   "outputs": [],
   "source": [
    "# --- Pseudo-code Example for Variable Declaration ---\n",
    "# DECLARE score : INTEGER\n",
    "# DECLARE averageMark : REAL\n",
    "# DECLARE studentName : STRING\n",
    "# DECLARE isComplete : BOOLEAN"
   ]
  },
  {
   "cell_type": "markdown",
   "id": "3758fe7f",
   "metadata": {},
   "source": [
    "*   **Python:** Declaration happens implicitly upon first assignment (`score = 0`)."
   ]
  },
  {
   "cell_type": "markdown",
   "id": "8574e855",
   "metadata": {},
   "source": [
    "### 3.6 Constants\n",
    "\n",
    "A named storage location whose value is fixed and cannot change during program execution.\n",
    "*   **Declaration (Pseudo-code):** Declared (usually at the start) with a fixed value."
   ]
  },
  {
   "cell_type": "code",
   "execution_count": null,
   "id": "22d39c31",
   "metadata": {
    "vscode": {
     "languageId": "python"
    }
   },
   "outputs": [],
   "source": [
    "# --- Pseudo-code Example for Constant Declaration ---\n",
    "# CONSTANT PI = 3.14159\n",
    "# CONSTANT MAX_USERS = 100"
   ]
  },
  {
   "cell_type": "markdown",
   "id": "eacd59f5",
   "metadata": {},
   "source": [
    "*   **Benefits:** Improves readability (using `PI` instead of `3.14159`) and maintainability (change value in one place).\n",
    "*   **Python:** No true constants, but convention dictates using `ALL_CAPS` names for variables that shouldn't be reassigned (`PI = 3.14159`)."
   ]
  },
  {
   "cell_type": "markdown",
   "id": "9f3a2f66",
   "metadata": {},
   "source": [
    "### 3.7 Assignments\n",
    "\n",
    "Giving a value to a variable.\n",
    "*   **Operator (Pseudo-code):** Left arrow (`←`)"
   ]
  },
  {
   "cell_type": "code",
   "execution_count": null,
   "id": "0371f29e",
   "metadata": {
    "vscode": {
     "languageId": "python"
    }
   },
   "outputs": [],
   "source": [
    "# --- Pseudo-code Example for Assignments ---\n",
    "# score ← 0\n",
    "# studentName ← \"Alice\"\n",
    "# score ← score + 10"
   ]
  },
  {
   "cell_type": "markdown",
   "id": "e5145410",
   "metadata": {},
   "source": [
    "*   **Python:** Equals sign (`=`)"
   ]
  },
  {
   "cell_type": "code",
   "execution_count": null,
   "id": "4b9fc57c",
   "metadata": {
    "vscode": {
     "languageId": "python"
    }
   },
   "outputs": [],
   "source": [
    "# --- Python Example for Assignments ---\n",
    "# score = 0\n",
    "# student_name = \"Alice\"\n",
    "# score = score + 10"
   ]
  },
  {
   "cell_type": "markdown",
   "id": "7e39389e",
   "metadata": {},
   "source": [
    "### 3.8 Operators\n",
    "\n",
    "Symbols that perform operations on data (operands).\n",
    "\n",
    "*   **Arithmetic Operators:**\n",
    "    *   Pseudo-code: `+` (add), `-` (subtract), `*` (multiply), `/` (divide)\n",
    "    *   Python: Also includes `//` (integer division), `%` (modulus/remainder), `**` (exponentiation)\n",
    "\n",
    "*   **Relational Operators:** Compare two values, resulting in a `BOOLEAN` (`TRUE`/`FALSE`).\n",
    "    *   Pseudo-code: `>`, `<`, `>=`, `<=`, `=` (equal to), `<>` (not equal to)\n",
    "    *   Python: `>`, `<`, `>=`, `<=`, `==` (equal to), `!=` (not equal to)\n",
    "    *   **CRITICAL:** Note the difference: `=` for comparison in pseudo-code vs. `==` in Python. Assignment is `←` in pseudo-code vs. `=` in Python.\n",
    "\n",
    "*   **Logical Operators:** Combine `BOOLEAN` values.\n",
    "    *   Pseudo-code: `AND`, `OR`, `NOT`\n",
    "    *   Python: `and`, `or`, `not`"
   ]
  },
  {
   "cell_type": "markdown",
   "id": "568e6334",
   "metadata": {},
   "source": [
    "### Pseudo-code Example: Find Largest of Three Numbers (from PDF p.3)"
   ]
  },
  {
   "cell_type": "code",
   "execution_count": null,
   "id": "43bf3158",
   "metadata": {
    "vscode": {
     "languageId": "python"
    }
   },
   "outputs": [],
   "source": [
    "# --- Pseudo-code Example: Find Largest ---\n",
    "# // Pseudo-code to find the largest of three numbers\n",
    "# DECLARE num1, num2, num3, larger : INTEGER // Or REAL if decimals allowed\n",
    "#\n",
    "# INPUT num1\n",
    "# INPUT num2\n",
    "# INPUT num3\n",
    "#\n",
    "# IF num1 > num2 THEN\n",
    "#   larger ← num1\n",
    "# ELSE\n",
    "#   larger ← num2\n",
    "# ENDIF\n",
    "#\n",
    "# IF larger > num3 THEN\n",
    "#   OUTPUT larger // larger already holds the largest of num1/num2\n",
    "# ELSE\n",
    "#   larger ← num3 // num3 is the largest\n",
    "#   OUTPUT larger\n",
    "# ENDIF\n",
    "#\n",
    "# // Alternative for second IF:\n",
    "# // IF num3 > larger THEN\n",
    "# //   larger <- num3\n",
    "# // ENDIF\n",
    "# // OUTPUT larger"
   ]
  },
  {
   "cell_type": "markdown",
   "id": "cb9a2d87",
   "metadata": {},
   "source": [
    "### Python Equivalent"
   ]
  },
  {
   "cell_type": "code",
   "execution_count": null,
   "id": "20520444",
   "metadata": {
    "lines_to_next_cell": 1,
    "vscode": {
     "languageId": "python"
    }
   },
   "outputs": [],
   "source": [
    "# Python equivalent for finding the largest of three numbers\n",
    "\n",
    "def find_largest():\n",
    "    try:\n",
    "        num1 = int(input(\"Enter first number: \"))\n",
    "        num2 = int(input(\"Enter second number: \"))\n",
    "        num3 = int(input(\"Enter third number: \"))\n",
    "\n",
    "        # Compare num1 and num2\n",
    "        if num1 > num2:\n",
    "            larger = num1\n",
    "        else:\n",
    "            larger = num2\n",
    "\n",
    "        # Compare the current largest with num3\n",
    "        if num3 > larger:\n",
    "            larger = num3\n",
    "\n",
    "        print(\"The largest number is:\", larger)\n",
    "\n",
    "    except ValueError:\n",
    "        print(\"Invalid input. Please enter whole numbers.\")\n",
    "\n",
    "# Example call (uncomment to run)\n",
    "# find_largest()\n",
    "\n",
    "# A more Pythonic way using built-in functions:\n",
    "def find_largest_pythonic():\n",
    "     try:\n",
    "        num1 = int(input(\"Enter first number: \"))\n",
    "        num2 = int(input(\"Enter second number: \"))\n",
    "        num3 = int(input(\"Enter third number: \"))\n",
    "        print(\"The largest number is:\", max(num1, num2, num3))\n",
    "     except ValueError:\n",
    "        print(\"Invalid input. Please enter whole numbers.\")\n",
    "\n",
    "# find_largest_pythonic()"
   ]
  },
  {
   "cell_type": "markdown",
   "id": "ff8cb5f7",
   "metadata": {},
   "source": [
    "## 4. Control Structures (Program Constructs) (Syllabus 1.1.3)\n",
    "\n",
    "Control structures dictate the order in which instructions are executed."
   ]
  },
  {
   "cell_type": "markdown",
   "id": "b2ee939d",
   "metadata": {},
   "source": [
    "### 4.1 Sequence\n",
    "\n",
    "Instructions are executed one after another in the order they appear. This is the default flow."
   ]
  },
  {
   "cell_type": "code",
   "execution_count": null,
   "id": "c6bd942e",
   "metadata": {
    "vscode": {
     "languageId": "python"
    }
   },
   "outputs": [],
   "source": [
    "# --- Pseudo-code Example: Sequence ---\n",
    "# INPUT radius\n",
    "# area ← 3.14159 * radius * radius // Process 1\n",
    "# OUTPUT area                   // Process 2"
   ]
  },
  {
   "cell_type": "code",
   "execution_count": null,
   "id": "7169937d",
   "metadata": {
    "vscode": {
     "languageId": "python"
    }
   },
   "outputs": [],
   "source": [
    "# --- Python Example: Sequence ---\n",
    "# radius = float(input(\"Enter radius: \"))\n",
    "# area = 3.14159 * radius * radius # Step 1\n",
    "# print(\"Area is:\", area)         # Step 2"
   ]
  },
  {
   "cell_type": "markdown",
   "id": "16f44ff7",
   "metadata": {},
   "source": [
    "### 4.2 Selection (Conditional Transfer)\n",
    "\n",
    "Allows the program to choose between different paths of execution based on whether a condition is `TRUE` or `FALSE`.\n",
    "\n",
    "*   **`IF-THEN-ELSE` Construct:**"
   ]
  },
  {
   "cell_type": "code",
   "execution_count": null,
   "id": "cfad03db",
   "metadata": {
    "vscode": {
     "languageId": "python"
    }
   },
   "outputs": [],
   "source": [
    "# --- Pseudo-code Example: IF-THEN-ELSE ---\n",
    "# IF <condition> THEN\n",
    "#     // Statements to execute if condition is TRUE\n",
    "#     <statement(s) A>\n",
    "# ELSE\n",
    "#     // Statements to execute if condition is FALSE\n",
    "#     <statement(s) B>\n",
    "# ENDIF\n",
    "#\n",
    "# // Simple IF-THEN (no ELSE part)\n",
    "# IF <condition> THEN\n",
    "#     <statement(s)>\n",
    "# ENDIF"
   ]
  },
  {
   "cell_type": "markdown",
   "id": "da0e6a58",
   "metadata": {},
   "source": [
    "*   **Python Equivalent:**"
   ]
  },
  {
   "cell_type": "code",
   "execution_count": null,
   "id": "b67ba930",
   "metadata": {
    "vscode": {
     "languageId": "python"
    }
   },
   "outputs": [],
   "source": [
    "# --- Python Example: IF-ELSE ---\n",
    "# condition = True # Example condition\n",
    "# if condition:\n",
    "#     # Statements if True\n",
    "#     print(\"Condition is True\")\n",
    "#     pass # pass is a placeholder for no action\n",
    "# else:\n",
    "#     # Statements if False\n",
    "#     print(\"Condition is False\")\n",
    "#     pass\n",
    "#\n",
    "# # Nested / Chained conditions\n",
    "# value = 15\n",
    "# if value < 10:\n",
    "#     # Statements for condition1 True\n",
    "#     print(\"Value is less than 10\")\n",
    "#     pass\n",
    "# elif value < 20: # Equivalent to ELSE IF\n",
    "#     # Statements for condition1 False, condition2 True\n",
    "#     print(\"Value is less than 20 but not less than 10\")\n",
    "#     pass\n",
    "# else:\n",
    "#     # Statements if all preceding conditions are False\n",
    "#     print(\"Value is 20 or greater\")\n",
    "#     pass"
   ]
  },
  {
   "cell_type": "markdown",
   "id": "309dec03",
   "metadata": {},
   "source": [
    "### 4.3 Iteration (Repetition / Loop)\n",
    "\n",
    "Allows a block of code to be executed repeatedly.\n",
    "\n",
    "*   **`FOR` Loop (Count-Controlled):** Used when the number of repetitions is known beforehand."
   ]
  },
  {
   "cell_type": "code",
   "execution_count": null,
   "id": "fa699739",
   "metadata": {
    "vscode": {
     "languageId": "python"
    }
   },
   "outputs": [],
   "source": [
    "# --- Pseudo-code Example: FOR Loop ---\n",
    "# FOR <variable> ← <start_value> TO <end_value> STEP <step_value>\n",
    "#     // Statements to repeat\n",
    "#     <loop body>\n",
    "# ENDFOR\n",
    "#\n",
    "# // STEP is often optional, defaults to 1\n",
    "# FOR counter <- 1 TO 5\n",
    "#     OUTPUT counter\n",
    "# ENDFOR"
   ]
  },
  {
   "cell_type": "code",
   "execution_count": null,
   "id": "032a9774",
   "metadata": {
    "lines_to_next_cell": 2,
    "vscode": {
     "languageId": "python"
    }
   },
   "outputs": [],
   "source": [
    "# --- Python Example: FOR Loop ---\n",
    "# Python equivalent (range stops *before* end value)\n",
    "# Note: We add step_value to end_value in range for inclusive pseudocode behaviour\n",
    "# Example: FOR i <- 1 TO 10 STEP 2\n",
    "# for variable in range(start_value, end_value + step_value, step_value):\n",
    "#     # loop body\n",
    "#     pass\n",
    "\n",
    "# Common case: STEP 1 (e.g., FOR i <- 1 TO 5)\n",
    "# for variable in range(start_value, end_value + 1):\n",
    "#     pass\n",
    "\n",
    "# Example: Print numbers 1 to 5\n",
    "print(\"Printing 1 to 5:\")\n",
    "for i in range(1, 5 + 1): # Goes from 1 up to (but not including) 6\n",
    "    print(i)\n",
    "\n",
    "# Example: FOR count <- 10 TO 0 STEP -2\n",
    "print(\"\\nPrinting 10 down to 0 (step -2):\")\n",
    "start = 10\n",
    "end = 0\n",
    "step = -2\n",
    "# Adjust end for Python's range when step is negative\n",
    "python_end = end -1 if step < 0 else end + 1 # A common way to handle inclusive end\n",
    "for i in range(start, python_end, step):\n",
    "     print(i)"
   ]
  },
  {
   "cell_type": "markdown",
   "id": "f224281d",
   "metadata": {},
   "source": [
    "*   **`WHILE` Loop (Condition-Controlled - Pre-test):** The condition is checked *before* each iteration. The loop body executes only if the condition is `TRUE`. It might not execute at all if the condition is initially `FALSE`."
   ]
  },
  {
   "cell_type": "code",
   "execution_count": null,
   "id": "ff920ee2",
   "metadata": {
    "vscode": {
     "languageId": "python"
    }
   },
   "outputs": [],
   "source": [
    "# --- Pseudo-code Example: WHILE Loop ---\n",
    "# WHILE <condition>\n",
    "#     // Statements to repeat as long as condition is TRUE\n",
    "#     <loop body>\n",
    "# ENDWHILE\n",
    "#\n",
    "# // Example\n",
    "# DECLARE counter : INTEGER\n",
    "# counter ← 0\n",
    "# WHILE counter < 3\n",
    "#    OUTPUT counter\n",
    "#    counter ← counter + 1\n",
    "# ENDWHILE"
   ]
  },
  {
   "cell_type": "code",
   "execution_count": 2,
   "id": "b6ec5680",
   "metadata": {
    "lines_to_next_cell": 2,
    "vscode": {
     "languageId": "python"
    }
   },
   "outputs": [
    {
     "name": "stdout",
     "output_type": "stream",
     "text": [
      "WHILE loop example (0 to 2):\n",
      "0\n",
      "1\n",
      "2\n"
     ]
    }
   ],
   "source": [
    "# --- Python Example: WHILE Loop ---\n",
    "# Python equivalent\n",
    "# condition = True # Must be defined/updated\n",
    "# while condition:\n",
    "#     # loop body\n",
    "#     # IMPORTANT: The loop body must contain logic\n",
    "#     # that can eventually make the condition false,\n",
    "#     # otherwise it's an infinite loop.\n",
    "#     pass\n",
    "\n",
    "# Example matching the pseudo-code\n",
    "print(\"WHILE loop example (0 to 2):\")\n",
    "counter = 0\n",
    "while counter < 3:\n",
    "    print(counter)\n",
    "    counter = counter + 1 # Update condition variable"
   ]
  },
  {
   "cell_type": "markdown",
   "id": "0f147ad9",
   "metadata": {},
   "source": [
    "*   **`REPEAT-UNTIL` Loop (Condition-Controlled - Post-test):** The loop body is executed *at least once*. The condition is checked *after* the loop body. The loop continues as long as the condition is `FALSE` and terminates when it becomes `TRUE`."
   ]
  },
  {
   "cell_type": "code",
   "execution_count": null,
   "id": "ec368492",
   "metadata": {
    "vscode": {
     "languageId": "python"
    }
   },
   "outputs": [],
   "source": [
    "# --- Pseudo-code Example: REPEAT-UNTIL Loop ---\n",
    "# REPEAT\n",
    "#     // Statements to repeat\n",
    "#     <loop body>\n",
    "# UNTIL <condition> // Loop stops when condition is TRUE\n",
    "#\n",
    "# // Example\n",
    "# DECLARE counter : INTEGER\n",
    "# counter ← 0\n",
    "# REPEAT\n",
    "#    OUTPUT counter\n",
    "#    counter ← counter + 1\n",
    "# UNTIL counter = 3 // Stops when counter is 3"
   ]
  },
  {
   "cell_type": "code",
   "execution_count": null,
   "id": "b9bf0dc2",
   "metadata": {
    "vscode": {
     "languageId": "python"
    }
   },
   "outputs": [],
   "source": [
    "# --- Python Example: REPEAT-UNTIL Simulation ---\n",
    "# Python equivalent (often simulated with while True and break)\n",
    "\n",
    "# Example matching the pseudo-code\n",
    "print(\"REPEAT-UNTIL simulation (0 to 2):\")\n",
    "counter = 0\n",
    "while True: # Loop indefinitely until explicitly broken\n",
    "    # loop body\n",
    "    print(counter)\n",
    "    counter = counter + 1\n",
    "    # ... statements ...\n",
    "    if counter == 3: # Check the condition at the end (UNTIL condition)\n",
    "        break # Exit loop if condition is True"
   ]
  },
  {
   "cell_type": "markdown",
   "id": "882936fe",
   "metadata": {},
   "source": [
    "#### Loop Example: Input validation (e.g., 8-digit number from PDF p.8/9)"
   ]
  },
  {
   "cell_type": "code",
   "execution_count": null,
   "id": "a33f6edd",
   "metadata": {
    "vscode": {
     "languageId": "python"
    }
   },
   "outputs": [],
   "source": [
    "# --- Pseudo-code Example: WHILE Input Validation ---\n",
    "# // Using WHILE (Pre-test)\n",
    "# DECLARE TelephoneNumber : STRING\n",
    "# INPUT TelephoneNumber\n",
    "# WHILE LENGTH(TelephoneNumber) <> 8 // Condition to continue loop\n",
    "#     OUTPUT \"Telephone number must be 8 digits\"\n",
    "#     INPUT TelephoneNumber\n",
    "# ENDWHILE\n",
    "# // Now TelephoneNumber is guaranteed to be 8 digits (assuming LENGTH works)"
   ]
  },
  {
   "cell_type": "code",
   "execution_count": null,
   "id": "10ce8845",
   "metadata": {
    "vscode": {
     "languageId": "python"
    }
   },
   "outputs": [],
   "source": [
    "# --- Python Example: WHILE Input Validation ---\n",
    "# print(\"\\nWHILE loop for input validation:\")\n",
    "# telephone_number = input(\"Enter 8-digit telephone number: \")\n",
    "# while len(telephone_number) != 8:\n",
    "#     print(\"Input invalid. Telephone number must be 8 digits.\")\n",
    "#     telephone_number = input(\"Enter 8-digit telephone number: \")\n",
    "# print(\"Valid number entered:\", telephone_number)"
   ]
  },
  {
   "cell_type": "code",
   "execution_count": null,
   "id": "2aa98453",
   "metadata": {
    "vscode": {
     "languageId": "python"
    }
   },
   "outputs": [],
   "source": [
    "# --- Pseudo-code Example: REPEAT-UNTIL Input Validation ---\n",
    "# // Using REPEAT-UNTIL (Post-test)\n",
    "# DECLARE TelephoneNumber : STRING\n",
    "# REPEAT\n",
    "#     INPUT TelephoneNumber\n",
    "#     IF LENGTH(TelephoneNumber) <> 8 THEN // Optional: Give feedback inside loop\n",
    "#         OUTPUT \"Telephone number must be 8 digits\"\n",
    "#     ENDIF\n",
    "# UNTIL LENGTH(TelephoneNumber) = 8 // Condition to stop loop\n",
    "# // Now TelephoneNumber is guaranteed to be 8 digits"
   ]
  },
  {
   "cell_type": "code",
   "execution_count": null,
   "id": "3768f4a9",
   "metadata": {
    "vscode": {
     "languageId": "python"
    }
   },
   "outputs": [],
   "source": [
    "# --- Python Example: REPEAT-UNTIL Input Validation ---\n",
    "# print(\"\\nREPEAT-UNTIL simulation for input validation:\")\n",
    "# while True:\n",
    "#     telephone_number = input(\"Enter 8-digit telephone number: \")\n",
    "#     if len(telephone_number) == 8:\n",
    "#         break # Exit loop when condition is met\n",
    "#     else:\n",
    "#         print(\"Input invalid. Telephone number must be 8 digits.\") # Feedback\n",
    "# print(\"Valid number entered:\", telephone_number)"
   ]
  },
  {
   "cell_type": "markdown",
   "id": "3d0380e8",
   "metadata": {},
   "source": [
    "## 5. Modular Design (Syllabus 1.1.5)\n",
    "\n",
    "**Modular Design (Top-Down Design):** The process of breaking down a large, complex program into smaller, self-contained, manageable parts called **modules** (or subroutines, functions, procedures).\n",
    "\n",
    "*   **Structure Diagram:** Often used to visualize the hierarchy of modules (see PDF p.11 WAGES example).\n",
    "*   **Module Interface:** Defines what a module needs (inputs/parameters) and what it provides (outputs/return value).\n",
    "\n",
    "### Advantages of Modular Design:\n",
    "\n",
    "1.  **Collaboration:** Different programmers/teams can work on different modules simultaneously.\n",
    "2.  **Faster Development:** Easier to develop and manage smaller pieces.\n",
    "3.  **Easier Debugging/Testing:** Isolate and test individual modules. Fewer errors likely in smaller code blocks.\n",
    "4.  **Reusability:** Modules written for one program can often be reused in others (e.g., software libraries).\n",
    "5.  **Maintainability:** Easier to understand, update, or fix specific parts of the program without affecting others."
   ]
  },
  {
   "cell_type": "markdown",
   "id": "57bbc14d",
   "metadata": {},
   "source": [
    "### 5.1 Subroutines\n",
    "\n",
    "A general term for a named block of code that performs a specific task within a larger program. Implemented as Procedures or Functions. Called by using their name."
   ]
  },
  {
   "cell_type": "markdown",
   "id": "8f16598c",
   "metadata": {},
   "source": [
    "### 5.2 Procedures\n",
    "\n",
    "A subroutine that performs a task but **does not** return a value through its name. It might modify data passed to it (if passed by reference) or perform actions like output.\n",
    "\n",
    "*   **Definition (Pseudo-code):**"
   ]
  },
  {
   "cell_type": "code",
   "execution_count": null,
   "id": "d6a1950d",
   "metadata": {
    "vscode": {
     "languageId": "python"
    }
   },
   "outputs": [],
   "source": [
    "# --- Pseudo-code Example: Procedure Definition ---\n",
    "# PROCEDURE <identifier> ( <parameter_list> )\n",
    "#     // Statements\n",
    "#     <procedure body>\n",
    "# ENDPROCEDURE\n",
    "# // Example parameter: param1 : DATATYPE\n",
    "# // Example from PDF p.13\n",
    "# PROCEDURE greet (name: STRING)\n",
    "#     OUTPUT \"Hello\", name\n",
    "# ENDPROCEDURE"
   ]
  },
  {
   "cell_type": "markdown",
   "id": "63fd4c09",
   "metadata": {},
   "source": [
    "*   **Calling (Pseudo-code):**"
   ]
  },
  {
   "cell_type": "code",
   "execution_count": null,
   "id": "84dc6789",
   "metadata": {
    "vscode": {
     "languageId": "python"
    }
   },
   "outputs": [],
   "source": [
    "# --- Pseudo-code Example: Procedure Call ---\n",
    "# CALL <identifier> ( <argument_list> )\n",
    "# // Example from PDF p.13\n",
    "# CALL greet(\"Jason\")"
   ]
  },
  {
   "cell_type": "markdown",
   "id": "1f6a433d",
   "metadata": {},
   "source": [
    "*   **Python Equivalent:** A function defined using `def` that either has no `return` statement, or just `return` (which implicitly returns `None`)."
   ]
  },
  {
   "cell_type": "code",
   "execution_count": null,
   "id": "8836c009",
   "metadata": {
    "vscode": {
     "languageId": "python"
    }
   },
   "outputs": [],
   "source": [
    "# --- Python Example: Procedure ---\n",
    "# Example Procedure\n",
    "def greet(name: str): # Type hint is good practice\n",
    "    print(f\"Hello {name}\")\n",
    "\n",
    "# Calling the procedure\n",
    "print(\"Calling Python procedure greet:\")\n",
    "greet(\"Alice\")\n",
    "greet(\"Jason\")"
   ]
  },
  {
   "cell_type": "markdown",
   "id": "8ee45941",
   "metadata": {},
   "source": [
    "### 5.3 Functions\n",
    "\n",
    "A subroutine that performs a task and **returns a single value** through its name. The returned value can then be used in expressions or assigned to variables.\n",
    "\n",
    "*   **Definition (Pseudo-code):**"
   ]
  },
  {
   "cell_type": "code",
   "execution_count": null,
   "id": "62ef54af",
   "metadata": {
    "vscode": {
     "languageId": "python"
    }
   },
   "outputs": [],
   "source": [
    "# --- Pseudo-code Example: Function Definition ---\n",
    "# FUNCTION <identifier> ( <parameter_list> ) RETURNS <return_datatype>\n",
    "#     // Statements\n",
    "#     <function body>\n",
    "#     RETURN <value> // Must return a value of the specified datatype\n",
    "# ENDFUNCTION\n",
    "#\n",
    "# // Example from PDF p.13\n",
    "# FUNCTION find_max (first: INTEGER, second: INTEGER) RETURNS INTEGER\n",
    "#     IF first > second THEN\n",
    "#         RETURN first\n",
    "#     ELSE\n",
    "#         RETURN second\n",
    "#     ENDIF\n",
    "# ENDFUNCTION"
   ]
  },
  {
   "cell_type": "markdown",
   "id": "4c741dc4",
   "metadata": {},
   "source": [
    "*   **Calling (Pseudo-code):** Used within expressions or assignments."
   ]
  },
  {
   "cell_type": "code",
   "execution_count": null,
   "id": "001bf973",
   "metadata": {
    "vscode": {
     "languageId": "python"
    }
   },
   "outputs": [],
   "source": [
    "# --- Pseudo-code Example: Function Call ---\n",
    "# // Assign result to variable\n",
    "# largest ← find_max(7, 11)\n",
    "# OUTPUT largest\n",
    "#\n",
    "# // Use directly in output\n",
    "# OUTPUT \"Larger number is \", find_max(7, 11)"
   ]
  },
  {
   "cell_type": "markdown",
   "id": "c489bd56",
   "metadata": {},
   "source": [
    "*   **Python Equivalent:** A function defined using `def` that includes a `return value` statement."
   ]
  },
  {
   "cell_type": "code",
   "execution_count": null,
   "id": "924bb38a",
   "metadata": {
    "lines_to_next_cell": 2,
    "vscode": {
     "languageId": "python"
    }
   },
   "outputs": [],
   "source": [
    "# --- Python Example: Function ---\n",
    "# Example Function (find max from PDF p.13)\n",
    "def find_max(first: int, second: int) -> int: # Type hints for params and return\n",
    "    if first > second:\n",
    "        return first\n",
    "    else:\n",
    "        return second\n",
    "\n",
    "# Calling the function\n",
    "print(\"\\nCalling Python function find_max:\")\n",
    "larger_num = find_max(7, 11)\n",
    "print(\"Larger number is:\", larger_num) # Output: Larger number is: 11\n",
    "print(\"Larger number is:\", find_max(25, 15)) # Output: Larger number is: 25"
   ]
  },
  {
   "cell_type": "markdown",
   "id": "9fc6aff6",
   "metadata": {},
   "source": [
    "### 5.4 Passed by Value vs. Passed by Reference\n",
    "\n",
    "How arguments (values passed during a call) are handled by parameters (variables receiving values inside the subroutine).\n",
    "\n",
    "*   **Pass by Value (`BYVAL` in Pseudo-code):**\n",
    "    *   A **copy** of the argument's value is passed to the parameter.\n",
    "    *   Changes made to the parameter **inside** the subroutine **do not** affect the original argument outside the subroutine.\n",
    "    *   This is the default assumption in the H2 syllabus unless `BYREF` is specified.\n",
    "\n",
    "*   **Pass by Reference (`BYREF` in Pseudo-code):**\n",
    "    *   The **memory address** (a reference) of the argument is passed to the parameter.\n",
    "    *   The parameter becomes an alias for the original argument.\n",
    "    *   Changes made to the parameter **inside** the subroutine **do** affect the original argument outside the subroutine.\n",
    "\n",
    "*   **Python's Approach (Pass by Object Reference):**\n",
    "    *   Python doesn't strictly use \"pass by value\" or \"pass by reference\" in the classic C/Pascal sense. It uses \"pass by object reference\" (sometimes called \"pass by assignment\" or \"pass by sharing\").\n",
    "    *   **Immutable Objects (like numbers, strings, tuples):** When passed, they behave like **pass by value**. Reassigning the parameter inside the function creates a new local object and doesn't affect the original variable outside.\n",
    "    *   **Mutable Objects (like lists, dictionaries):** When passed, the reference to the *same object* is used.\n",
    "        *   Modifying the *contents* of the object (e.g., `my_list.append(x)`, `my_dict[key] = value`) inside the function **will** affect the original object outside. This *behaves like* pass by reference for object *mutations*.\n",
    "        *   However, *reassigning* the parameter variable itself to a *new* object inside the function (e.g., `my_list = [1, 2, 3]`) **will not** affect the original variable outside the function."
   ]
  },
  {
   "cell_type": "markdown",
   "id": "984b7bd4",
   "metadata": {},
   "source": [
    "#### Example illustrating Python's behavior:"
   ]
  },
  {
   "cell_type": "code",
   "execution_count": null,
   "id": "26e53d70",
   "metadata": {
    "vscode": {
     "languageId": "python"
    }
   },
   "outputs": [],
   "source": [
    "# --- Python Example: Parameter Passing Behavior ---\n",
    "\n",
    "print(\"--- Pass by Value Simulation (Immutable Type - Integer) ---\")\n",
    "def modify_value(num):\n",
    "    print(f\"  Inside modify_value (before): id={id(num)}, value={num}\")\n",
    "    num = num + 10 # Reassignment creates a NEW local object for num\n",
    "    print(f\"  Inside modify_value (after):  id={id(num)}, value={num}\")\n",
    "\n",
    "x = 5\n",
    "print(f\"Outside (before call): id={id(x)}, value={x}\")\n",
    "modify_value(x)\n",
    "print(f\"Outside (after call):  id={id(x)}, value={x}\") # x remains 5\n",
    "print(\"-\" * 30)\n",
    "\n",
    "print(\"--- Pass by Object Reference (Mutable Type - List Content Mod) ---\")\n",
    "def modify_list_content(lst):\n",
    "    print(f\"  Inside modify_list_content (before): id={id(lst)}, value={lst}\")\n",
    "    lst.append(4) # Modifying the *content* of the referenced object\n",
    "    print(f\"  Inside modify_list_content (after):  id={id(lst)}, value={lst}\")\n",
    "\n",
    "my_list = [1, 2, 3]\n",
    "print(f\"Outside (before call): id={id(my_list)}, value={my_list}\")\n",
    "modify_list_content(my_list)\n",
    "print(f\"Outside (after call):  id={id(my_list)}, value={my_list}\") # my_list is now [1, 2, 3, 4]\n",
    "print(\"-\" * 30)\n",
    "\n",
    "print(\"--- Pass by Object Reference (Mutable Type - List Reassignment) ---\")\n",
    "def reassign_list(lst):\n",
    "    print(f\"  Inside reassign_list (before): id={id(lst)}, value={lst}\")\n",
    "    lst = [9, 8, 7] # Reassigning lst to a NEW local list object\n",
    "    print(f\"  Inside reassign_list (after):  id={id(lst)}, value={lst}\")\n",
    "\n",
    "another_list = [1, 2, 3]\n",
    "print(f\"Outside (before call): id={id(another_list)}, value={another_list}\")\n",
    "reassign_list(another_list)\n",
    "print(f\"Outside (after call):  id={id(another_list)}, value={another_list}\") # another_list remains [1, 2, 3]\n",
    "print(\"-\" * 30)"
   ]
  },
  {
   "cell_type": "markdown",
   "id": "45e452bc",
   "metadata": {},
   "source": [
    "**Key Takeaway:** While Python doesn't have explicit `BYREF`, modifying mutable objects within a function affects the caller, achieving a similar outcome for those specific operations. For immutable types or reassignment, it behaves like pass by value."
   ]
  },
  {
   "cell_type": "markdown",
   "id": "ec2c3bdc",
   "metadata": {},
   "source": [
    "## 6. Decision Table (Syllabus 1.1.4)\n",
    "\n",
    "A **decision table** is a tabular method for systematically representing complex logic involving multiple conditions and resulting actions.\n",
    "\n",
    "*   **Purpose:** To clearly model and analyze situations where different combinations of conditions lead to different actions. Ensures all possibilities are considered."
   ]
  },
  {
   "cell_type": "markdown",
   "id": "02053d48",
   "metadata": {},
   "source": [
    "### 6.1 Types of Decision Tables\n",
    "\n",
    "1.  **Limited Entry:** Conditions have binary (Yes/No, True/False) entries, and Actions are marked (e.g., with 'X') if they apply.\n",
    "2.  **Extended Entry:** Conditions and/or Actions can have more than two values (e.g., Condition: \"Color?\", Entries: \"Red\", \"Blue\", \"Green\"; Action: \"Discount %\", Entries: \"5%\", \"10%\", \"15%\").\n",
    "3.  **Mixed Entry:** A mix of Limited and Extended entries."
   ]
  },
  {
   "cell_type": "markdown",
   "id": "964d07a8",
   "metadata": {},
   "source": [
    "### 6.2 Basic Format\n",
    "\n",
    "Divided into four quadrants:\n",
    "\n",
    "| Quadrant                 | Location        | Content                                      |\n",
    "| ------------------------ | --------------- | -------------------------------------------- |\n",
    "| **Conditions Stub**      | Top Left        | Lists all relevant conditions (questions).   |\n",
    "| **Actions Stub**         | Bottom Left     | Lists all possible actions that can be taken. |\n",
    "| **Condition Entries**    | Top Right       | Columns (Rules) showing combinations of condition outcomes (Y/N/— or specific values). |\n",
    "| **Action Entries**       | Bottom Right    | Columns (Rules) showing which actions are performed (X or specific values) for each rule. |\n",
    "\n",
    "Each column represents a **Rule** (a specific combination of condition outcomes and the resulting actions). A dash (`—`) often indicates the condition is irrelevant for that specific rule.\n",
    "\n",
    "*(See PDF p.15 for examples of Limited and Mixed Entry tables for the Credit Worthy Customer scenario).*"
   ]
  },
  {
   "cell_type": "markdown",
   "id": "6d9bab2d",
   "metadata": {},
   "source": [
    "### 6.3 Decision Table Rules\n",
    "\n",
    "*   For `n` binary conditions, there are theoretically `2^n` possible combinations (rules).\n",
    "*   The goal is to map each relevant combination to the correct set of actions."
   ]
  },
  {
   "cell_type": "markdown",
   "id": "2dd4f5c4",
   "metadata": {},
   "source": [
    "### 6.4 Advantages & Disadvantages\n",
    "\n",
    "*   **Advantages:**\n",
    "    *   **Clarity:** Shows cause-and-effect relationships clearly.\n",
    "    *   **Completeness:** Helps ensure all combinations are considered (easy to check 2^n possibilities).\n",
    "    *   **Conciseness:** Can summarize complex logic compactly.\n",
    "    *   **Accuracy:** Reduces ambiguity compared to narrative descriptions.\n",
    "    *   **Easy to Trace:** Follow a column (rule) from conditions to actions.\n",
    "*   **Disadvantages:**\n",
    "    *   **Scalability:** Can become large and difficult to manage/understand if there are many conditions (e.g., 5 conditions = 32 rules).\n",
    "    *   **Sequence:** Doesn't explicitly show the sequence of actions as well as a flowchart.\n",
    "    *   **Familiarity:** May be less intuitive initially than flowcharts for some."
   ]
  },
  {
   "cell_type": "markdown",
   "id": "b4c217c7",
   "metadata": {},
   "source": [
    "### 6.5 Decision Tree\n",
    "\n",
    "An alternative graphical representation of the logic found in a decision table.\n",
    "*   Structure: Root node branches based on conditions, leading eventually to leaf nodes representing actions.\n",
    "*   Readability: Can be easier to follow the path for a specific scenario than scanning a table.\n",
    "*(See PDF p.17 for the Credit Worthy Customer decision tree).*"
   ]
  },
  {
   "cell_type": "markdown",
   "id": "a56905fb",
   "metadata": {},
   "source": [
    "### 6.6 Removing Redundancies / Simplification\n",
    "\n",
    "Decision tables can often be simplified:\n",
    "1.  **Identify Impossible Rules:** Columns representing combinations that cannot logically occur can be removed (marked with `*` during analysis, then omitted). *(See \"Go to work\" example, p.17)*.\n",
    "2.  **Combine Rules:** If two rules have the same actions, and differ by only one condition entry (one 'Y', one 'N'), check if that condition actually matters for those actions. If it doesn't, combine the rules into one and replace the Y/N for that condition with a dash (`—`, meaning \"don't care\").\n",
    "3.  **Check \"Don't Care\" (`—`):** When a condition has a dash, it means its value (Y or N) doesn't affect the outcome for that rule.\n",
    "\n",
    "#### Example: Simplified Table (Produce Toys - from PDF p.18/19)\n",
    "\n",
    "**Original Conditions/Actions:**\n",
    "*   Conditions: All dimensions correct? (C1), Safety tests passed? (C2), Paint tests passed? (C3)\n",
    "*   Actions: Accept product (A1), Repair product (A2), Reject product (A3)\n",
    "\n",
    "**Logic:**\n",
    "*   Accept if C1=Y, C2=Y, C3=Y (Rule 1)\n",
    "*   Repair if C1=Y and (exactly one of C2, C3 is N) (Rules 2, 3)\n",
    "*   Reject otherwise (Rules 4, 5, 6, 7, 8)\n",
    "\n",
    "**Simplified Table (Based on PDF p.19 Exercise):**\n",
    "\n",
    "| CONDITIONS                | Rule 1 | Rule 2 | Rule 3 | Rule 4 | Rule 5 |\n",
    "| :------------------------ | :----: | :----: | :----: | :----: | :----: |\n",
    "| All dimensions correct?   | Y      | Y      | Y      | Y      | N      |\n",
    "| Safety tests are passed?  | Y      | Y      | N      | N      | —      |\n",
    "| Paint tests are passed?   | Y      | N      | Y      | N      | —      |\n",
    "| **ACTIONS**               |        |        |        |        |        |\n",
    "| Accept product            | X      |        |        |        |        |\n",
    "| Repair product            |        | X      | X      |        |        |\n",
    "| Reject product            |        |        |        | X      | X      |\n",
    "\n",
    "*Explanation of Simplification:*\n",
    "*   Rule 1 (Y, Y, Y) -> Accept.\n",
    "*   Rule 2 (Y, Y, N) -> Repair.\n",
    "*   Rule 3 (Y, N, Y) -> Repair.\n",
    "*   Rule 4 (Y, N, N) -> Reject (Doesn't meet Repair criteria).\n",
    "*   Rules 5, 6, 7, 8 all have C1=N. In all these cases, the product is Rejected regardless of C2 or C3. They are combined into a single Rule 5 where C1=N and C2/C3 are irrelevant (`—`)."
   ]
  },
  {
   "cell_type": "markdown",
   "id": "f7609a56",
   "metadata": {},
   "source": [
    "## 7. References\n",
    "\n",
    "*   Pseudocode guide for teachers: Cambridge International AS & A level Computer Science 9618. Cambridge University Press & Assessment.\n",
    "    *   [https://www.cambridgeinternational.org/Images/697401-2026-pseudocode-guide-for-teachers.pdf](https://www.cambridgeinternational.org/Images/697401-2026-pseudocode-guide-for-teachers.pdf)"
   ]
  },
  {
   "cell_type": "markdown",
   "id": "d0b61eac",
   "metadata": {},
   "source": [
    "---\n",
    "*End of Summary for Chapter S1A: Algorithmic Representation*\n",
    "---"
   ]
  }
 ],
 "metadata": {
  "jupytext": {
   "encoding": "# -*- coding: utf-8 -*-"
  },
  "kernelspec": {
   "display_name": "Python 3 (ipykernel)",
   "language": "python",
   "name": "python3"
  }
 },
 "nbformat": 4,
 "nbformat_minor": 5
}
