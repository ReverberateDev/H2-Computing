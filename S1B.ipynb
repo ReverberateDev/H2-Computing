{
 "cells": [
  {
   "cell_type": "markdown",
   "id": "68c862de",
   "metadata": {},
   "source": [
    "# Chapter S1B: Searching Algorithms (H2 Computing 9569)\n",
    "\n",
    "This notebook summarizes the key concepts of searching algorithms as covered in the H2 Computing syllabus."
   ]
  },
  {
   "cell_type": "markdown",
   "id": "46ed3796",
   "metadata": {},
   "source": [
    "## 1. Introduction to Searching (Syllabus 1.2.3 - 1.2.4)\n",
    "\n",
    "**Searching** is the process of finding a specific data item (the **target** or **search key**) within a collection of data items (like an array or list).\n",
    "\n",
    "Common reasons for searching:\n",
    "*   Check if an item exists (validation).\n",
    "*   Find an item to retrieve associated data (e.g., in paired arrays).\n",
    "*   Locate an item for editing or deletion.\n",
    "\n",
    "The efficiency of searching can depend heavily on whether the data is sorted."
   ]
  },
  {
   "cell_type": "markdown",
   "id": "b05fa64a",
   "metadata": {},
   "source": [
    "## 2. Linear Search (Syllabus 1.2.3 - 1.2.4)\n",
    "\n",
    "**Linear Search** (or Sequential Search) examines elements in a sequence one by one, starting from a chosen point (usually the beginning), until the target element is found or the end of the sequence is reached.\n",
    "\n",
    "*   **Process:** Compare the search key with each element sequentially.\n",
    "*   **Input:** Search key (target) and the data set (e.g., array).\n",
    "*   **Output:** Indication of whether the item was found (and potentially its location/index or associated data).\n",
    "*   **Advantage:** Works on **both ordered and unordered** data. Simple to implement.\n",
    "*   **Disadvantage:** Can be very inefficient for large datasets."
   ]
  },
  {
   "cell_type": "markdown",
   "id": "dceda004",
   "metadata": {},
   "source": [
    "### 2.1 Linear Search on an Unordered Array\n",
    "\n",
    "Every element might need to be checked because the target could be anywhere. The search stops only when the item is found or all items have been checked."
   ]
  },
  {
   "cell_type": "markdown",
   "id": "eab16339",
   "metadata": {},
   "source": [
    "#### Pseudo-code (Procedure - Unordered)\n",
    "Finds the item and prints it, or prints \"not found\". Uses a flag `element_found` and an `Exit loop` statement (though exiting via the WHILE condition is more common)."
   ]
  },
  {
   "cell_type": "code",
   "execution_count": null,
   "id": "5c711331",
   "metadata": {},
   "outputs": [],
   "source": [
    "# PROCEDURE LinearSearchOnArray (searchKey, array)\n",
    "#   // Assuming array is 1-based index as per Cambridge standard\n",
    "#   // and LENGTH() gives the number of elements.\n",
    "#   // Python uses 0-based indexing, adjust accordingly in implementation.\n",
    "#\n",
    "#   DECLARE max_num_elements : INTEGER\n",
    "#   DECLARE element_found : BOOLEAN\n",
    "#   DECLARE index : INTEGER\n",
    "#\n",
    "#   max_num_elements ← LENGTH(array) // Get array size\n",
    "#   element_found ← FALSE            // Flag to track if found\n",
    "#   index ← 1                        // Start at the first element (1-based)\n",
    "#\n",
    "#   WHILE (NOT element_found) AND (index <= max_num_elements)\n",
    "#     IF array[index] = searchKey THEN\n",
    "#       element_found ← TRUE\n",
    "#       // The example uses 'Exit loop', but letting the WHILE condition\n",
    "#       // handle termination after setting flag is often cleaner.\n",
    "#       // If 'Exit loop' implies immediate termination like 'break',\n",
    "#       // the found element needs to be handled *after* the loop.\n",
    "#     ELSE\n",
    "#       index ← index + 1 // Move to the next element\n",
    "#     ENDIF\n",
    "#   ENDWHILE\n",
    "#\n",
    "#   // Check the flag after the loop finishes\n",
    "#   IF element_found = TRUE THEN\n",
    "#     // Need the index where it was found. If using 'Exit loop',\n",
    "#     // the index would be correct. If relying on flag, index\n",
    "#     // might be one position past the last element if found there.\n",
    "#     // Re-checking or storing the found index might be needed depending on exact pseudocode style.\n",
    "#     // Assuming index holds the correct position if found:\n",
    "#     OUTPUT array[index] // Or just OUTPUT \"Found\" or RETURN index\n",
    "#   ELSE\n",
    "#     OUTPUT \"value not found\", searchKey\n",
    "#   ENDIF\n",
    "# ENDPROCEDURE"
   ]
  },
  {
   "cell_type": "markdown",
   "id": "521eca80",
   "metadata": {},
   "source": [
    "#### Python Implementation (Unordered)\n",
    "Returns the index if found, otherwise returns -1 (a common convention)."
   ]
  },
  {
   "cell_type": "code",
   "execution_count": null,
   "id": "b536c845",
   "metadata": {},
   "outputs": [],
   "source": [
    "def linear_search_unordered(search_key, data_list):\n",
    "  \"\"\"\n",
    "  Performs a linear search on an unordered list.\n",
    "\n",
    "  Args:\n",
    "    search_key: The item to search for.\n",
    "    data_list: The list to search within.\n",
    "\n",
    "  Returns:\n",
    "    The index of the first occurrence of search_key if found, otherwise -1.\n",
    "  \"\"\"\n",
    "  index = 0\n",
    "  found_at = -1\n",
    "  while index < len(data_list):\n",
    "    if data_list[index] == search_key:\n",
    "      found_at = index\n",
    "      break # Exit loop once found\n",
    "    index += 1\n",
    "  return found_at\n",
    "\n",
    "# Example usage\n",
    "my_list_unordered = [65, 20, 10, 55, 32, 12, 50]\n",
    "target1 = 37\n",
    "target2 = 32\n",
    "\n",
    "print(f\"Searching for {target1} in {my_list_unordered}:\")\n",
    "result1 = linear_search_unordered(target1, my_list_unordered)\n",
    "if result1 != -1:\n",
    "  print(f\"Found at index {result1}\")\n",
    "else:\n",
    "  print(\"Not found\")\n",
    "\n",
    "print(f\"\\nSearching for {target2} in {my_list_unordered}:\")\n",
    "result2 = linear_search_unordered(target2, my_list_unordered)\n",
    "if result2 != -1:\n",
    "  print(f\"Found at index {result2}\") # Should find at index 4\n",
    "else:\n",
    "  print(\"Not found\")"
   ]
  },
  {
   "cell_type": "markdown",
   "id": "17b2b7a6",
   "metadata": {},
   "source": [
    "### 2.2 Linear Search on an Ordered Array\n",
    "\n",
    "If the data is sorted (e.g., ascending order), we can stop the search early if we encounter an element that is *greater* than the search key. This is because all subsequent elements will also be greater, so the target cannot be present later in the array."
   ]
  },
  {
   "cell_type": "markdown",
   "id": "bfb94cf9",
   "metadata": {},
   "source": [
    "#### Pseudo-code (Function - Ordered)\n",
    "Returns TRUE if found, FALSE otherwise. Leverages the sorted property for early exit."
   ]
  },
  {
   "cell_type": "code",
   "execution_count": null,
   "id": "39b81d88",
   "metadata": {},
   "outputs": [],
   "source": [
    "# FUNCTION LinearSearchOnSortedArray (searchKey: INTEGER, arr: ARRAY) RETURNS BOOLEAN\n",
    "#   // Assumes arr is sorted in ascending order and is 1-based index.\n",
    "#   DECLARE i : INTEGER\n",
    "#   DECLARE max_elements : INTEGER\n",
    "#\n",
    "#   max_elements ← LENGTH(arr)\n",
    "#\n",
    "#   FOR i ← 1 TO max_elements\n",
    "#     IF arr[i] = searchKey THEN\n",
    "#       RETURN TRUE // Found it\n",
    "#     ELSE IF searchKey < arr[i] THEN // Because array is sorted...\n",
    "#       RETURN FALSE // ...it can't be any further, exit early\n",
    "#     ENDIF\n",
    "#     // Otherwise, continue to the next element in the FOR loop\n",
    "#   ENDFOR\n",
    "#\n",
    "#   // If the loop completes without returning, the item wasn't found\n",
    "#   RETURN FALSE\n",
    "# ENDFUNCTION"
   ]
  },
  {
   "cell_type": "markdown",
   "id": "2668e236",
   "metadata": {},
   "source": [
    "#### Python Implementation (Ordered)"
   ]
  },
  {
   "cell_type": "code",
   "execution_count": null,
   "id": "31cefe36",
   "metadata": {
    "lines_to_next_cell": 1
   },
   "outputs": [],
   "source": [
    "def linear_search_ordered(search_key, sorted_list):\n",
    "  \"\"\"\n",
    "  Performs a linear search on an ordered (ascending) list\n",
    "  with early termination.\n",
    "\n",
    "  Args:\n",
    "    search_key: The item to search for.\n",
    "    sorted_list: The sorted list to search within.\n",
    "\n",
    "  Returns:\n",
    "    True if found, False otherwise.\n",
    "  \"\"\"\n",
    "  for item in sorted_list:\n",
    "    if item == search_key:\n",
    "      return True # Found\n",
    "    elif search_key < item:\n",
    "      return False # Can stop early\n",
    "  return False # Reached end of list without finding\n",
    "\n",
    "# Example usage\n",
    "my_list_ordered = [8, 14, 18, 19, 33, 51, 66] # Sorted\n",
    "target3 = 30\n",
    "target4 = 51\n",
    "\n",
    "print(f\"\\nSearching for {target3} in {my_list_ordered}:\")\n",
    "print(f\"Found: {linear_search_ordered(target3, my_list_ordered)}\") # Should be False, stops after checking 33\n",
    "\n",
    "print(f\"\\nSearching for {target4} in {my_list_ordered}:\")\n",
    "print(f\"Found: {linear_search_ordered(target4, my_list_ordered)}\") # Should be True"
   ]
  },
  {
   "cell_type": "markdown",
   "id": "374e32de",
   "metadata": {},
   "source": [
    "### 2.3 Recursive Algorithm for Linear Search\n",
    "\n",
    "Linear search can also be implemented using recursion. Here are three approaches mentioned in the notes:\n",
    "\n",
    "1.  **Check First, Recurse on Rest:** Check `arr[first]`. If not a match, recurse on the sub-array starting from `first+1`.\n",
    "2.  **Check Last, Recurse on Rest:** Check `arr[last]`. If not a match, recurse on the sub-array ending at `last-1`.\n",
    "3.  **Check Both Ends, Recurse on Middle:** Check `arr[first]` and `arr[last]`. If no match, recurse on the sub-array between `first+1` and `last-1`."
   ]
  },
  {
   "cell_type": "markdown",
   "id": "89037837",
   "metadata": {},
   "source": [
    "#### Pseudo-code (Recursive Approaches)"
   ]
  },
  {
   "cell_type": "code",
   "execution_count": null,
   "id": "f9af28ec",
   "metadata": {},
   "outputs": [],
   "source": [
    "# // Approach 1: Check First (Returns index or FALSE)\n",
    "# FUNCTION recSearch1 (arr, first: INTEGER, searchKey)\n",
    "#   // Base case 1: Index out of bounds (search exhausted)\n",
    "#   IF first >= LENGTH(arr) + 1 THEN // Check bounds (adjust for 1-based index)\n",
    "#      RETURN FALSE\n",
    "#   // Base case 2: Found at current 'first' position\n",
    "#   ELSE IF arr[first] = searchKey THEN\n",
    "#      RETURN first\n",
    "#   // Recursive step: Search in the rest of the array\n",
    "#   ELSE\n",
    "#      RETURN recSearch1(arr, first + 1, searchKey)\n",
    "#   ENDIF\n",
    "# ENDFUNCTION\n",
    "#\n",
    "# // Approach 2: Check Last (Returns index or FALSE)\n",
    "# FUNCTION recSearch2 (arr, last: INTEGER, searchKey)\n",
    "#   // Base case 1: Index out of bounds (search exhausted)\n",
    "#   IF last < 1 THEN\n",
    "#      RETURN FALSE\n",
    "#   // Base case 2: Found at current 'last' position\n",
    "#   ELSE IF arr[last] = searchKey THEN\n",
    "#      RETURN last\n",
    "#   // Recursive step: Search in the preceding part of the array\n",
    "#   ELSE\n",
    "#      RETURN recSearch2(arr, last - 1, searchKey)\n",
    "#   ENDIF\n",
    "# ENDFUNCTION\n",
    "#\n",
    "# // Approach 3: Check Both Ends (Returns index or FALSE)\n",
    "# FUNCTION recSearch3 (arr, first: INTEGER, last: INTEGER, searchKey)\n",
    "#   // Base case 1: Invalid range (search exhausted)\n",
    "#   IF first > last THEN\n",
    "#      RETURN FALSE\n",
    "#   // Base case 2: Found at 'first'\n",
    "#   ELSE IF arr[first] = searchKey THEN\n",
    "#      RETURN first\n",
    "#   // Base case 3: Found at 'last'\n",
    "#   ELSE IF arr[last] = searchKey THEN\n",
    "#      RETURN last\n",
    "#   // Recursive step: Search in the inner sub-array\n",
    "#   ELSE\n",
    "#      RETURN recSearch3(arr, first + 1, last - 1, searchKey)\n",
    "#   ENDIF\n",
    "# ENDFUNCTION"
   ]
  },
  {
   "cell_type": "markdown",
   "id": "1df34077",
   "metadata": {},
   "source": [
    "#### Python Implementation (Recursive Approach 1)"
   ]
  },
  {
   "cell_type": "code",
   "execution_count": null,
   "id": "eb537711",
   "metadata": {
    "lines_to_next_cell": 1
   },
   "outputs": [],
   "source": [
    "def recursive_linear_search_v1(data_list, search_key, index=0):\n",
    "  \"\"\"\n",
    "  Recursive linear search (Approach 1: check first).\n",
    "\n",
    "  Args:\n",
    "    data_list: The list to search.\n",
    "    search_key: The item to find.\n",
    "    index: The current starting index for the search (default 0).\n",
    "\n",
    "  Returns:\n",
    "    The index where the item is found, or -1 if not found.\n",
    "  \"\"\"\n",
    "  # Base case 1: Index out of bounds\n",
    "  if index >= len(data_list):\n",
    "    return -1\n",
    "  # Base case 2: Found at current index\n",
    "  elif data_list[index] == search_key:\n",
    "    return index\n",
    "  # Recursive step: Search the rest of the list\n",
    "  else:\n",
    "    return recursive_linear_search_v1(data_list, search_key, index + 1)\n",
    "\n",
    "# Example usage\n",
    "print(f\"\\nRecursive search for {target2} in {my_list_unordered}:\")\n",
    "result_rec = recursive_linear_search_v1(my_list_unordered, target2)\n",
    "if result_rec != -1:\n",
    "  print(f\"Found at index {result_rec}\")\n",
    "else:\n",
    "  print(\"Not found\")\n",
    "\n",
    "print(f\"\\nRecursive search for {target1} in {my_list_unordered}:\")\n",
    "result_rec_fail = recursive_linear_search_v1(my_list_unordered, target1)\n",
    "if result_rec_fail != -1:\n",
    "    print(f\"Found at index {result_rec_fail}\")\n",
    "else:\n",
    "    print(\"Not found\")"
   ]
  },
  {
   "cell_type": "markdown",
   "id": "45f5f453",
   "metadata": {},
   "source": [
    "### 2.4 Time Complexity of Linear Search\n",
    "\n",
    "**Time complexity** measures how the execution time (number of operations) of an algorithm grows relative to the input size (n). We often use **Big O notation**.\n",
    "\n",
    "For Linear Search on a list of size **n**:\n",
    "\n",
    "| Case          | Condition                       | Comparisons (approx) | Time Complexity |\n",
    "|---------------|---------------------------------|----------------------|-----------------|\n",
    "| **Best Case** | Target is the first element     | 1                    | **O(1)**        |\n",
    "| **Worst Case**| Target is the last element, OR<br>Target is not present | n                    | **O(n)**        |\n",
    "| **Average Case**| Target is somewhere in the middle | n/2                  | **O(n)**        |\n",
    "\n",
    "**Conclusion:** Linear search has a **linear time complexity (O(n))** in the worst and average cases. The time taken grows proportionally with the size of the list."
   ]
  },
  {
   "cell_type": "markdown",
   "id": "8aeb64c3",
   "metadata": {},
   "source": [
    "## 3. Binary Search (Syllabus 1.2.3 - 1.2.4)\n",
    "\n",
    "**Binary Search** is a highly efficient searching algorithm that works on **SORTED** data structures. It follows a **divide and conquer** strategy.\n",
    "\n",
    "*   **Pre-condition:** The array/list **must be sorted** (e.g., ascending or descending).\n",
    "*   **Process:**\n",
    "    1.  Compare the search key with the middle element of the current search space.\n",
    "    2.  If they match, the item is found.\n",
    "    3.  If the search key is smaller than the middle element, repeat the search on the **lower half** of the current space.\n",
    "    4.  If the search key is larger than the middle element, repeat the search on the **upper half** of the current space.\n",
    "    5.  Continue halving the search space until the item is found or the search space becomes empty (item not present).\n",
    "*   **Advantage:** Significantly faster than linear search for large datasets (logarithmic time complexity).\n",
    "*   **Disadvantage:** Requires the data to be sorted beforehand. Sorting itself takes time. Inserts/deletes into a sorted array are slower as they may require shifting elements."
   ]
  },
  {
   "cell_type": "markdown",
   "id": "c9aab236",
   "metadata": {},
   "source": [
    "### 3.1 Iterative Binary Search Algorithm"
   ]
  },
  {
   "cell_type": "markdown",
   "id": "4b537ca2",
   "metadata": {},
   "source": [
    "#### Pseudo-code (Function - Iterative)\n",
    "Returns TRUE if found, FALSE otherwise. Uses `low`, `high`, and `mid` pointers/indices."
   ]
  },
  {
   "cell_type": "code",
   "execution_count": null,
   "id": "4b450fa7",
   "metadata": {},
   "outputs": [],
   "source": [
    "# FUNCTION BinarySearch (searchKey: INTEGER, arr: ARRAY) RETURNS BOOLEAN\n",
    "#   // Assumes arr is sorted in ascending order and is 1-based index.\n",
    "#   DECLARE low, high, mid: INTEGER\n",
    "#\n",
    "#   low ← 1                  // Start index of search space\n",
    "#   high ← LENGTH(arr)       // End index of search space\n",
    "#\n",
    "#   WHILE low <= high DO     // While search space is valid\n",
    "#     // Calculate middle index (integer division)\n",
    "#     mid ← INT((low + high) / 2)\n",
    "#\n",
    "#     IF searchKey = arr[mid] THEN\n",
    "#       RETURN TRUE        // Found\n",
    "#     ELSE IF searchKey < arr[mid] THEN\n",
    "#       // Target is in the lower half, adjust 'high'\n",
    "#       high ← mid - 1\n",
    "#     ELSE // searchKey > arr[mid]\n",
    "#       // Target is in the upper half, adjust 'low'\n",
    "#       low ← mid + 1\n",
    "#     ENDIF\n",
    "#   ENDWHILE\n",
    "#\n",
    "#   // If loop finishes, low > high, meaning item not found\n",
    "#   RETURN FALSE\n",
    "# ENDFUNCTION"
   ]
  },
  {
   "cell_type": "markdown",
   "id": "ab6f0a20",
   "metadata": {},
   "source": [
    "#### Python Implementation (Iterative)\n",
    "Returns the index if found, otherwise -1. Uses 0-based indexing."
   ]
  },
  {
   "cell_type": "code",
   "execution_count": null,
   "id": "6aca16d3",
   "metadata": {},
   "outputs": [],
   "source": [
    "def binary_search_iterative(search_key, sorted_list):\n",
    "  \"\"\"\n",
    "  Performs an iterative binary search on a sorted list.\n",
    "\n",
    "  Args:\n",
    "    search_key: The item to search for.\n",
    "    sorted_list: The sorted list to search within.\n",
    "\n",
    "  Returns:\n",
    "    The index where search_key is found, or -1 if not found.\n",
    "  \"\"\"\n",
    "  low = 0\n",
    "  high = len(sorted_list) - 1\n",
    "  found_at = -1\n",
    "\n",
    "  while low <= high:\n",
    "    mid = (low + high) // 2 # Integer division for middle index\n",
    "    # print(f\"Low: {low}, High: {high}, Mid: {mid}, Checking: {sorted_list[mid]}\") # Debugging trace\n",
    "\n",
    "    if search_key == sorted_list[mid]:\n",
    "      found_at = mid\n",
    "      break # Found\n",
    "    elif search_key < sorted_list[mid]:\n",
    "      high = mid - 1 # Search lower half\n",
    "    else: # search_key > sorted_list[mid]\n",
    "      low = mid + 1 # Search upper half\n",
    "\n",
    "  return found_at\n",
    "\n",
    "# Example usage (using the ordered list from before)\n",
    "target5 = 24\n",
    "target6 = 66\n",
    "target7 = 50 # Not in list\n",
    "\n",
    "print(f\"\\nBinary Searching for {target5} in {my_list_ordered}:\")\n",
    "result_bin1 = binary_search_iterative(target5, [8, 16, 24, 32, 40, 48, 56, 64, 72]) # Example from PDF\n",
    "if result_bin1 != -1:\n",
    "    print(f\"Found at index {result_bin1}\")\n",
    "else:\n",
    "    print(\"Not found\")\n",
    "\n",
    "\n",
    "print(f\"\\nBinary Searching for {target6} in {my_list_ordered}:\")\n",
    "result_bin2 = binary_search_iterative(target6, my_list_ordered)\n",
    "if result_bin2 != -1:\n",
    "    print(f\"Found at index {result_bin2}\")\n",
    "else:\n",
    "    print(\"Not found\")\n",
    "\n",
    "print(f\"\\nBinary Searching for {target7} in {my_list_ordered}:\")\n",
    "result_bin3 = binary_search_iterative(target7, my_list_ordered)\n",
    "if result_bin3 != -1:\n",
    "    print(f\"Found at index {result_bin3}\")\n",
    "else:\n",
    "    print(\"Not found\")"
   ]
  },
  {
   "cell_type": "markdown",
   "id": "1fa59a68",
   "metadata": {},
   "source": [
    "### 3.2 Recursive Binary Search Algorithm"
   ]
  },
  {
   "cell_type": "markdown",
   "id": "c01ca9ee",
   "metadata": {},
   "source": [
    "#### Pseudo-code (Function - Recursive)\n",
    "Passes `low` and `high` bounds as parameters for the current search space."
   ]
  },
  {
   "cell_type": "code",
   "execution_count": null,
   "id": "3465a9ba",
   "metadata": {},
   "outputs": [],
   "source": [
    "# FUNCTION BinarySearchRec(low: INTEGER, high: INTEGER, key: INTEGER, arr: ARRAY) RETURNS BOOLEAN\n",
    "#   // Assumes arr is sorted ascending, 1-based index.\n",
    "#   // Initial call might be: BinarySearchRec(1, LENGTH(arr), searchKey, theArray)\n",
    "#   DECLARE mid : INTEGER\n",
    "#\n",
    "#   // Base case 1: Search space is invalid (low > high)\n",
    "#   IF low > high THEN\n",
    "#     RETURN FALSE\n",
    "#   ELSE\n",
    "#     mid ← INT((low + high) / 2)\n",
    "#\n",
    "#     // Base case 2: Found at mid\n",
    "#     IF key = arr[mid] THEN\n",
    "#       RETURN TRUE\n",
    "#     // Recursive step 1: Search lower half\n",
    "#     ELSE IF key < arr[mid] THEN\n",
    "#       RETURN BinarySearchRec(low, mid - 1, key, arr)\n",
    "#     // Recursive step 2: Search upper half\n",
    "#     ELSE // key > arr[mid]\n",
    "#       RETURN BinarySearchRec(mid + 1, high, key, arr)\n",
    "#     ENDIF\n",
    "#   ENDIF\n",
    "# ENDFUNCTION"
   ]
  },
  {
   "cell_type": "markdown",
   "id": "a8141e3c",
   "metadata": {},
   "source": [
    "#### Python Implementation (Recursive)\n",
    "Returns index if found, -1 otherwise. Uses 0-based indexing."
   ]
  },
  {
   "cell_type": "code",
   "execution_count": null,
   "id": "5961241a",
   "metadata": {
    "lines_to_next_cell": 2
   },
   "outputs": [],
   "source": [
    "def binary_search_recursive(search_key, sorted_list, low=0, high=None):\n",
    "  \"\"\"\n",
    "  Performs a recursive binary search on a sorted list.\n",
    "\n",
    "  Args:\n",
    "    search_key: The item to search for.\n",
    "    sorted_list: The sorted list.\n",
    "    low: The starting index of the current search space.\n",
    "    high: The ending index of the current search space.\n",
    "\n",
    "  Returns:\n",
    "    The index where search_key is found, or -1 if not found.\n",
    "  \"\"\"\n",
    "  if high is None:\n",
    "    high = len(sorted_list) - 1 # Initialize high on first call\n",
    "\n",
    "  # print(f\"Rec Low: {low}, High: {high}\") # Debugging trace\n",
    "\n",
    "  # Base case 1: Search space invalid\n",
    "  if low > high:\n",
    "    return -1\n",
    "  else:\n",
    "    mid = (low + high) // 2\n",
    "\n",
    "    # Base case 2: Found\n",
    "    if search_key == sorted_list[mid]:\n",
    "      return mid\n",
    "    # Recursive step 1: Search lower half\n",
    "    elif search_key < sorted_list[mid]:\n",
    "      return binary_search_recursive(search_key, sorted_list, low, mid - 1)\n",
    "    # Recursive step 2: Search upper half\n",
    "    else: # search_key > sorted_list[mid]\n",
    "      return binary_search_recursive(search_key, sorted_list, mid + 1, high)\n",
    "\n",
    "# Example usage\n",
    "print(f\"\\nRecursive Binary Searching for {target5} in {my_list_ordered}:\")\n",
    "result_bin_rec1 = binary_search_recursive(target5, [8, 16, 24, 32, 40, 48, 56, 64, 72])\n",
    "if result_bin_rec1 != -1:\n",
    "    print(f\"Found at index {result_bin_rec1}\")\n",
    "else:\n",
    "    print(\"Not found\")\n",
    "\n",
    "print(f\"\\nRecursive Binary Searching for {target7} in {my_list_ordered}:\")\n",
    "result_bin_rec2 = binary_search_recursive(target7, my_list_ordered)\n",
    "if result_bin_rec2 != -1:\n",
    "    print(f\"Found at index {result_bin_rec2}\")\n",
    "else:\n",
    "    print(\"Not found\")"
   ]
  },
  {
   "cell_type": "markdown",
   "id": "f7c8cfcf",
   "metadata": {},
   "source": [
    "### 3.3 Time Complexity of Binary Search\n",
    "\n",
    "Because binary search halves the search space with each comparison, it's much faster than linear search for large lists.\n",
    "\n",
    "For Binary Search on a sorted list of size **n**:\n",
    "\n",
    "| Case          | Condition                   | Comparisons (approx) | Time Complexity  |\n",
    "|---------------|-----------------------------|----------------------|------------------|\n",
    "| **Best Case** | Target is the middle element| 1                    | **O(1)**         |\n",
    "| **Worst Case**| Target is not present (or found last) | log₂(n)              | **O(log n)**     |\n",
    "| **Average Case**| Target found somewhere    | log₂(n)              | **O(log n)**     |\n",
    "\n",
    "**Conclusion:** Binary search has a **logarithmic time complexity (O(log n))**. The time taken grows very slowly even as the list size increases dramatically. For example, doubling the list size only adds roughly one more comparison in the worst case."
   ]
  },
  {
   "cell_type": "markdown",
   "id": "f1dc8a33",
   "metadata": {},
   "source": [
    "## 4. Comparison of Linear and Binary Search\n",
    "\n",
    "| Feature          | Linear Search                                     | Binary Search                                        |\n",
    "|------------------|---------------------------------------------------|------------------------------------------------------|\n",
    "| **Data Sorting** | **Not Required**                                  | **Required** (Data must be sorted)                   |\n",
    "| **Efficiency (Time)** | O(n) - Slow for large datasets                  | **O(log n)** - Very fast for large datasets          |\n",
    "| **Implementation** | Simpler                                           | Slightly more complex                                |\n",
    "| **Use Case**     | Small lists, unsorted lists, linked lists         | Large, sorted arrays/lists where search speed is critical |\n",
    "| **Data Modification**| Adding items (unsorted) is easy (append O(1)). | Adding/deleting items requires maintaining sort order (can be slow, O(n) for arrays). |"
   ]
  },
  {
   "cell_type": "markdown",
   "id": "28792cf1",
   "metadata": {},
   "source": [
    "## 5. Video References (from PDF)\n",
    "\n",
    "*   **Linear Search:** [https://www.youtube.com/watch?v=TwsgCHYmbbA](https://www.youtube.com/watch?v=TwsgCHYmbbA)\n",
    "*   **Binary Search:** [https://www.youtube.com/watch?v=T98PIp4omUA](https://www.youtube.com/watch?v=T98PIp4omUA)"
   ]
  },
  {
   "cell_type": "markdown",
   "id": "290ff147",
   "metadata": {},
   "source": [
    "---\n",
    "*End of Summary for Chapter S1B: Searching Algorithms*\n",
    "---"
   ]
  }
 ],
 "metadata": {
  "jupytext": {
   "encoding": "# -*- coding: utf-8 -*-"
  },
  "kernelspec": {
   "display_name": "Python 3 (ipykernel)",
   "language": "python",
   "name": "python3"
  }
 },
 "nbformat": 4,
 "nbformat_minor": 5
}
