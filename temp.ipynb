{
 "cells": [
  {
   "cell_type": "markdown",
   "id": "main-title",
   "metadata": {},
   "source": [
    "# Python Basics Revision (H2 Computing 9569)\n",
    "\n",
    "This notebook covers fundamental Python concepts across 11 lessons, aiming to reinforce basics and introduce more advanced techniques relevant for H2 Computing. Method descriptions follow a structured format for clarity."
   ]
  },
  {
   "cell_type": "markdown",
   "id": "lesson1-md-1",
   "metadata": {},
   "source": [
    "## Lesson 1: Introduction\n",
    "\n",
    "This lesson provides a brief introduction to the Python language environment, focusing on execution modes and basic output."
   ]
  },
  {
   "cell_type": "markdown",
   "id": "lesson1-md-2",
   "metadata": {},
   "source": [
    "### 1.1 Python: An Interpreted Language\n",
    "\n",
    "Python is an **interpreted**, high-level, general-purpose programming language. Unlike compiled languages (like C++ or Java), Python code is executed line-by-line by the **interpreter**.\n",
    "\n",
    "**Key Characteristics:**\n",
    "*   **Readability:** Emphasizes clean syntax and indentation.\n",
    "*   **Dynamically Typed:** Variable types are inferred at runtime (type hints can be added for clarity).\n",
    "*   **Garbage Collected:** Automatic memory management.\n",
    "*   **Large Standard Library:** Extensive modules for various tasks.\n",
    "*   **Cross-Platform:** Runs on major operating systems."
   ]
  },
  {
   "cell_type": "markdown",
   "id": "lesson1-md-3",
   "metadata": {},
   "source": [
    "### 1.2 Execution Modes\n",
    "\n",
    "1.  **Interactive Mode (REPL - Read-Evaluate-Print Loop):**\n",
    "    *   Type commands directly at a prompt (`>>>`).\n",
    "    *   Interpreter executes immediately and shows results.\n",
    "    *   Useful for testing snippets, exploring, quick calculations.\n",
    "2.  **Script Mode:**\n",
    "    *   Write code in a `.py` file.\n",
    "    *   Interpreter executes the entire script.\n",
    "    *   Used for developing programs of any significant size."
   ]
  },
  {
   "cell_type": "code",
   "execution_count": null,
   "id": "lesson1-code-1",
   "metadata": {
    "vscode": {
     "languageId": "python"
    }
   },
   "outputs": [],
   "source": [
    "# Example commands for interactive mode:\n",
    "# >>> x = 10\n",
    "# >>> y = 20\n",
    "# >>> x + y\n",
    "# 30\n",
    "\n",
    "# Example script (save as script.py):\n",
    "# print(\"Running from a script!\")\n",
    "# result = 5 ** 3\n",
    "# print(f\"5 to the power of 3 is {result}\")\n",
    "\n",
    "# To run script from terminal: python script.py"
   ]
  },
  {
   "cell_type": "markdown",
   "id": "lesson1-md-4",
   "metadata": {},
   "source": [
    "### 1.3 Basic Output: `print()`\n",
    "\n",
    "The `print()` function displays output. Key parameters include `sep` (separator between arguments) and `end` (character at the end)."
   ]
  },
  {
   "cell_type": "code",
   "execution_count": null,
   "id": "lesson1-code-2",
   "metadata": {
    "vscode": {
     "languageId": "python"
    }
   },
   "outputs": [],
   "source": [
    "print(\"Item 1\", \"Item 2\", \"Item 3\") # Default separator is space\n",
    "print(\"Item 1\", \"Item 2\", \"Item 3\", sep=\" | \") # Custom separator\n",
    "print(\"First line\", end=\". \") # Custom end character\n",
    "print(\"Second line\")"
   ]
  },
  {
   "cell_type": "markdown",
   "id": "lesson1-md-5",
   "metadata": {},
   "source": [
    "### 1.4 Environments\n",
    "\n",
    "Common Python development environments include IDLE (basic), text editors (VS Code, Sublime), IDEs (PyCharm, Spyder), and Notebooks (Jupyter)."
   ]
  },
  {
   "cell_type": "markdown",
   "id": "lesson2-md-1",
   "metadata": {},
   "source": [
    "## Lesson 2: Identifiers\n",
    "\n",
    "This lesson covers the rules and conventions for naming entities in Python."
   ]
  },
  {
   "cell_type": "markdown",
   "id": "lesson2-md-2",
   "metadata": {},
   "source": [
    "### 2.1 Definition and Rules\n",
    "\n",
    "An **identifier** is a name for a variable, function, class, etc.\n",
    "*   Must start with a letter (a-z, A-Z) or underscore (`_`).\n",
    "*   Can contain letters, digits (0-9), and underscores.\n",
    "*   **Cannot** be a keyword (reserved word like `if`, `for`, `class`).\n",
    "*   Are **case-sensitive** (`score` and `Score` are different)."
   ]
  },
  {
   "cell_type": "markdown",
   "id": "lesson2-md-3",
   "metadata": {},
   "source": [
    "### 2.2 Keywords\n",
    "\n",
    "Reserved words with special meaning."
   ]
  },
  {
   "cell_type": "code",
   "execution_count": null,
   "id": "lesson2-code-1",
   "metadata": {
    "vscode": {
     "languageId": "python"
    }
   },
   "outputs": [],
   "source": [
    "import keyword\n",
    "print(keyword.kwlist)"
   ]
  },
  {
   "cell_type": "markdown",
   "id": "lesson2-md-4",
   "metadata": {},
   "source": [
    "### 2.3 Naming Conventions (PEP 8)\n",
    "\n",
    "Good practice for readability:\n",
    "*   **Variables/Functions:** `lowercase_with_underscores` (snake_case) - e.g., `user_age`, `calculate_sum()`.\n",
    "*   **Constants:** `ALL_CAPS_WITH_UNDERSCORES` - e.g., `MAX_VALUE`, `PI`.\n",
    "*   **Classes:** `CapitalizedWords` (CamelCase/PascalCase) - e.g., `Student`, `DataParser`.\n",
    "*   **Internal Use:** Start with underscore (`_internal_var`).\n",
    "*   **Name Mangling:** Start with double underscore (`__private_var`) within classes."
   ]
  },
  {
   "cell_type": "code",
   "execution_count": null,
   "id": "lesson2-code-2",
   "metadata": {
    "vscode": {
     "languageId": "python"
    }
   },
   "outputs": [],
   "source": [
    "MAX_USERS = 100\n",
    "user_count = 0\n",
    "\n",
    "def process_data(data_list):\n",
    "    _temp_result = sum(data_list) # Internal variable convention\n",
    "    return _temp_result / len(data_list)\n",
    "\n",
    "class Car:\n",
    "    def __init__(self, make):\n",
    "        self.make = make\n",
    "        self.__speed = 0 # 'Private' variable via name mangling\n",
    "\n",
    "    def accelerate(self):\n",
    "        self.__speed += 10\n",
    "\n",
    "my_car = Car(\"Toyota\")\n",
    "# print(my_car.__speed) # Error\n",
    "# Accessing mangled name: print(my_car._Car__speed)"
   ]
  },
  {
   "cell_type": "markdown",
   "id": "lesson3-md-1",
   "metadata": {},
   "source": [
    "## Lesson 3: Numbers\n",
    "\n",
    "This lesson covers Python's numeric types and operations."
   ]
  },
  {
   "cell_type": "markdown",
   "id": "lesson3-md-2",
   "metadata": {},
   "source": [
    "### 3.1 Numeric Types\n",
    "\n",
    "*   **`int`:** Whole numbers (positive, negative, zero). Can be arbitrarily large.\n",
    "*   **`float`:** Numbers with a decimal point. Represented using IEEE 754 standard, which can lead to small precision issues.\n",
    "*   **`complex`:** Numbers with a real and imaginary part (using `j` or `J` suffix). Less common in typical H2 scope but exist."
   ]
  },
  {
   "cell_type": "code",
   "execution_count": null,
   "id": "lesson3-code-1",
   "metadata": {
    "vscode": {
     "languageId": "python"
    }
   },
   "outputs": [],
   "source": [
    "integer_var = 100\n",
    "float_var = 3.14159\n",
    "large_int = 1_000_000_000 # Underscores for readability\n",
    "complex_var = 2 + 3j\n",
    "\n",
    "print(type(integer_var), integer_var)\n",
    "print(type(float_var), float_var)\n",
    "print(type(large_int), large_int)\n",
    "print(type(complex_var), complex_var)"
   ]
  },
  {
   "cell_type": "markdown",
   "id": "lesson3-md-3",
   "metadata": {},
   "source": [
    "### 3.2 Arithmetic Operators\n",
    "\n",
    "| Operator | Description        | Example       | Result |\n",
    "|----------|--------------------|---------------|--------|\n",
    "| `+`      | Addition           | `5 + 3`       | `8`    |\n",
    "| `-`      | Subtraction        | `5 - 3`       | `2`    |\n",
    "| `*`      | Multiplication     | `5 * 3`       | `15`   |\n",
    "| `/`      | True Division      | `5 / 3`       | `1.666...` |\n",
    "| `//`     | Floor Division     | `5 // 3`      | `1`    |\n",
    "| `%`      | Modulus (Remainder)| `5 % 3`       | `2`    |\n",
    "| `**`     | Exponentiation     | `5 ** 3`      | `125`  |"
   ]
  },
  {
   "cell_type": "markdown",
   "id": "lesson3-md-4",
   "metadata": {},
   "source": [
    "### 3.3 Built-in Functions and `math` Module\n",
    "\n",
    "#### Built-in Functions\n",
    "\n",
    "**`abs(x)`**\n",
    "Returns the absolute value of x.\n",
    "**Syntax**\n",
    "`abs(x)`\n",
    "**Parameter Values**\n",
    "| Parameter | Description                 |\n",
    "|-----------|-----------------------------|\n",
    "| `x`       | Required. A number (int, float, complex). |\n",
    "\n",
    "**`round(number, ndigits=None)`**\n",
    "Rounds a number to a specified number of decimal places. If `ndigits` is omitted or `None`, rounds to the nearest integer. Note: Rounds to the nearest even number for .5 cases (e.g., `round(2.5)` is 2, `round(3.5)` is 4).\n",
    "**Syntax**\n",
    "`round(number, ndigits)`\n",
    "**Parameter Values**\n",
    "| Parameter | Description                                      |\n",
    "|-----------|--------------------------------------------------|\n",
    "| `number`  | Required. The number to round.                  |\n",
    "| `ndigits` | Optional. Number of decimals to round to. Default None. |\n",
    "\n",
    "**`pow(base, exp, mod=None)`**\n",
    "Returns `base` to the power of `exp`. If `mod` is provided, returns `(base ** exp) % mod` (computed more efficiently).\n",
    "**Syntax**\n",
    "`pow(base, exp, mod)`\n",
    "**Parameter Values**\n",
    "| Parameter | Description                           |\n",
    "|-----------|---------------------------------------|\n",
    "| `base`    | Required. The base number.            |\n",
    "| `exp`     | Required. The exponent.               |\n",
    "| `mod`     | Optional. The modulus.                |\n",
    "\n",
    "#### `math` Module Functions\n",
    "The `math` module provides more advanced functions. You need to `import math` first.\n",
    "\n",
    "**`math.sqrt(x)`**\n",
    "Returns the square root of x.\n",
    "**Syntax**\n",
    "`math.sqrt(x)`\n",
    "**Parameter Values**\n",
    "| Parameter | Description                 |\n",
    "|-----------|-----------------------------|\n",
    "| `x`       | Required. A non-negative number. |\n",
    "\n",
    "**`math.ceil(x)`**\n",
    "Returns the smallest integer greater than or equal to x (ceiling).\n",
    "**Syntax**\n",
    "`math.ceil(x)`\n",
    "**Parameter Values**\n",
    "| Parameter | Description                 |\n",
    "|-----------|-----------------------------|\n",
    "| `x`       | Required. A number.         |\n",
    "\n",
    "**`math.floor(x)`**\n",
    "Returns the largest integer less than or equal to x (floor).\n",
    "**Syntax**\n",
    "`math.floor(x)`\n",
    "**Parameter Values**\n",
    "| Parameter | Description                 |\n",
    "|-----------|-----------------------------|\n",
    "| `x`       | Required. A number.         |\n",
    "\n",
    "**`math.log(x, base=math.e)`**\n",
    "Returns the logarithm of x to the given base. If base is omitted, returns the natural logarithm (base e).\n",
    "**Syntax**\n",
    "`math.log(x, base)`\n",
    "**Parameter Values**\n",
    "| Parameter | Description                           |\n",
    "|-----------|---------------------------------------|\n",
    "| `x`       | Required. A positive number.          |\n",
    "| `base`    | Optional. The logarithmic base. Default `math.e`. |\n",
    "\n",
    "**`math.log10(x)`**\n",
    "Returns the base-10 logarithm of x.\n",
    "**Syntax**\n",
    "`math.log10(x)`\n",
    "**Parameter Values**\n",
    "| Parameter | Description                           |\n",
    "|-----------|---------------------------------------|\n",
    "| `x`       | Required. A positive number.          |\n",
    "\n",
    "**`math.sin(x)`, `math.cos(x)`, `math.tan(x)`**\n",
    "Trigonometric functions (x is in radians).\n",
    "**Syntax**\n",
    "`math.sin(x)`\n",
    "**Parameter Values**\n",
    "| Parameter | Description                        |\n",
    "|-----------|------------------------------------|\n",
    "| `x`       | Required. Angle in radians.        |\n",
    "\n",
    "**`math.degrees(x)`, `math.radians(x)`**\n",
    "Convert angle x from radians to degrees / degrees to radians.\n",
    "**Syntax**\n",
    "`math.degrees(x)` or `math.radians(x)`\n",
    "**Parameter Values**\n",
    "| Parameter | Description                             |\n",
    "|-----------|-----------------------------------------|\n",
    "| `x`       | Required. Angle in radians or degrees.  |\n",
    "\n",
    "**Constants:** `math.pi`, `math.e`"
   ]
  },
  {
   "cell_type": "code",
   "execution_count": null,
   "id": "lesson3-code-2",
   "metadata": {
    "vscode": {
     "languageId": "python"
    }
   },
   "outputs": [],
   "source": [
    "import math\n",
    "\n",
    "print(f\"abs(-10) = {abs(-10)}\")\n",
    "print(f\"round(3.14159, 2) = {round(3.14159, 2)}\")\n",
    "print(f\"round(2.5) = {round(2.5)}\") # Rounds to nearest even -> 2\n",
    "print(f\"round(3.5) = {round(3.5)}\") # Rounds to nearest even -> 4\n",
    "print(f\"pow(2, 5) = {pow(2, 5)}\")\n",
    "\n",
    "print(f\"math.sqrt(16) = {math.sqrt(16)}\")\n",
    "print(f\"math.ceil(4.2) = {math.ceil(4.2)}\") # Smallest integer >= x\n",
    "print(f\"math.floor(4.8) = {math.floor(4.8)}\") # Largest integer <= x\n",
    "print(f\"math.pi = {math.pi}\")\n",
    "print(f\"math.log10(100) = {math.log10(100)}\")\n",
    "print(f\"math.sin(math.pi / 2) = {math.sin(math.pi / 2)}\")"
   ]
  },
  {
   "cell_type": "markdown",
   "id": "lesson3-md-5",
   "metadata": {},
   "source": [
    "### 3.4 Floating-Point Considerations\n",
    "\n",
    "Due to the way floats are stored, calculations can sometimes have small inaccuracies. Be cautious when comparing floats for exact equality."
   ]
  },
  {
   "cell_type": "code",
   "execution_count": null,
   "id": "lesson3-code-3",
   "metadata": {
    "vscode": {
     "languageId": "python"
    }
   },
   "outputs": [],
   "source": [
    "a = 0.1\n",
    "b = 0.2\n",
    "sum_val = a + b\n",
    "print(f\"0.1 + 0.2 = {sum_val}\") # Might show 0.30000000000000004\n",
    "print(f\"Is sum == 0.3? {sum_val == 0.3}\") # Likely False\n",
    "\n",
    "# Better comparison using tolerance\n",
    "tolerance = 1e-9 # A small tolerance value\n",
    "print(f\"Is sum close to 0.3? {abs(sum_val - 0.3) < tolerance}\") # True\n",
    "\n",
    "# Or using math.isclose()\n",
    "import math\n",
    "print(f\"Is sum close using math.isclose? {math.isclose(sum_val, 0.3)}\") # True"
   ]
  },
  {
   "cell_type": "markdown",
   "id": "lesson4-md-1",
   "metadata": {},
   "source": [
    "## Lesson 4: Strings\n",
    "\n",
    "This lesson covers string manipulation in Python."
   ]
  },
  {
   "cell_type": "markdown",
   "id": "lesson4-md-2",
   "metadata": {},
   "source": [
    "### 4.1 Creating Strings\n",
    "\n",
    "Strings are sequences of characters, enclosed in single (`'`) or double (`\"`) quotes. Triple quotes (`'''` or `\"\"\"`) are used for multi-line strings or docstrings."
   ]
  },
  {
   "cell_type": "code",
   "execution_count": null,
   "id": "lesson4-code-1",
   "metadata": {
    "vscode": {
     "languageId": "python"
    }
   },
   "outputs": [],
   "source": [
    "s1 = 'This is a string.'\n",
    "s2 = \"This is also a string.\"\n",
    "s3 = \"It's a string with an apostrophe.\"\n",
    "s4 = 'He said, \"Hello!\"'\n",
    "s5 = \"\"\"This is a\n",
    "multi-line\n",
    "string.\"\"\"\n",
    "\n",
    "print(s1)\n",
    "print(s5)"
   ]
  },
  {
   "cell_type": "markdown",
   "id": "lesson4-md-3",
   "metadata": {},
   "source": [
    "### 4.2 Indexing and Slicing\n",
    "\n",
    "Access individual characters using indexing (0-based) and subsequences using slicing `[start:stop:step]`."
   ]
  },
  {
   "cell_type": "code",
   "execution_count": null,
   "id": "lesson4-code-2",
   "metadata": {
    "vscode": {
     "languageId": "python"
    }
   },
   "outputs": [],
   "source": [
    "text = \"Python Programming\"\n",
    "\n",
    "# Indexing\n",
    "print(f\"First char: {text[0]}\")  # P\n",
    "print(f\"Last char: {text[-1]}\") # g (negative index counts from end)\n",
    "\n",
    "# Slicing\n",
    "print(f\"Slice [0:6]: {text[0:6]}\") # Python (index 6 is exclusive)\n",
    "print(f\"Slice [:6]: {text[:6]}\")   # Python (start defaults to 0)\n",
    "print(f\"Slice [7:]: {text[7:]}\")   # Programming (end defaults to length)\n",
    "print(f\"Slice [-11:]: {text[-11:]}\")# Programming\n",
    "print(f\"Slice [::2]: {text[::2]}\")  # Pto rgamn (every 2nd char)\n",
    "print(f\"Reverse [::-1]: {text[::-1]}\") # gnimmargorP nohtyP"
   ]
  },
  {
   "cell_type": "markdown",
   "id": "lesson4-md-4",
   "metadata": {},
   "source": [
    "### 4.3 Immutability\n",
    "\n",
    "Strings are **immutable**. You cannot change a character within a string directly. Operations that seem to modify strings actually create new strings."
   ]
  },
  {
   "cell_type": "code",
   "execution_count": null,
   "id": "lesson4-code-3",
   "metadata": {
    "vscode": {
     "languageId": "python"
    }
   },
   "outputs": [],
   "source": [
    "my_string = \"Hello\"\n",
    "# my_string[0] = 'J' # This will cause a TypeError\n",
    "\n",
    "# To change, create a new string\n",
    "new_string = \"J\" + my_string[1:]\n",
    "print(f\"Original: {my_string}\")\n",
    "print(f\"New: {new_string}\")"
   ]
  },
  {
   "cell_type": "markdown",
   "id": "lesson4-md-5",
   "metadata": {},
   "source": [
    "### 4.4 Common String Methods\n",
    "\n",
    "These methods return new strings or other values, as strings are immutable.\n",
    "\n",
    "**`len(string)`**\n",
    "Built-in function, not a method. Returns the number of characters in the string.\n",
    "**Syntax**\n",
    "`len(string)`\n",
    "**Parameter Values**\n",
    "| Parameter | Description                 |\n",
    "|-----------|-----------------------------|\n",
    "| `string`  | Required. The string object. |\n",
    "\n",
    "**`string.lower()`**\n",
    "Returns a copy of the string converted to lowercase.\n",
    "**Syntax**\n",
    "`string.lower()`\n",
    "**Parameter Values**\n",
    "Takes no parameters.\n",
    "\n",
    "**`string.upper()`**\n",
    "Returns a copy of the string converted to uppercase.\n",
    "**Syntax**\n",
    "`string.upper()`\n",
    "**Parameter Values**\n",
    "Takes no parameters.\n",
    "\n",
    "**`string.strip([chars])`**\n",
    "Returns a copy of the string with leading and trailing characters removed. If `chars` is omitted or `None`, removes whitespace.\n",
    "**Syntax**\n",
    "`string.strip(chars)`\n",
    "**Parameter Values**\n",
    "| Parameter | Description                                      |\n",
    "|-----------|--------------------------------------------------|\n",
    "| `chars`   | Optional. A string specifying the set of characters to be removed. Default is whitespace. |\n",
    "\n",
    "**`string.lstrip([chars])` / `string.rstrip([chars])`**\n",
    "Similar to `strip()`, but remove characters only from the left/right side respectively.\n",
    "**Syntax**\n",
    "`string.lstrip(chars)` or `string.rstrip(chars)`\n",
    "**Parameter Values**\n",
    "| Parameter | Description                                      |\n",
    "|-----------|--------------------------------------------------|\n",
    "| `chars`   | Optional. A string specifying the set of characters to be removed. Default is whitespace. |\n",
    "\n",
    "**`string.startswith(prefix, start=0, end=len(string))`**\n",
    "Returns `True` if the string starts with the specified `prefix`, `False` otherwise. Optional `start` and `end` define the slice to check.\n",
    "**Syntax**\n",
    "`string.startswith(prefix, start, end)`\n",
    "**Parameter Values**\n",
    "| Parameter | Description                                      |\n",
    "|-----------|--------------------------------------------------|\n",
    "| `prefix`  | Required. The prefix to check for. Can be a string or tuple of strings. |\n",
    "| `start`   | Optional. The starting index of the slice to check. Default 0. |\n",
    "| `end`     | Optional. The ending index (exclusive) of the slice to check. Default string length. |\n",
    "\n",
    "**`string.endswith(suffix, start=0, end=len(string))`**\n",
    "Returns `True` if the string ends with the specified `suffix`, `False` otherwise. Optional `start` and `end` define the slice to check.\n",
    "**Syntax**\n",
    "`string.endswith(suffix, start, end)`\n",
    "**Parameter Values**\n",
    "| Parameter | Description                                      |\n",
    "|-----------|--------------------------------------------------|\n",
    "| `suffix`  | Required. The suffix to check for. Can be a string or tuple of strings. |\n",
    "| `start`   | Optional. The starting index of the slice to check. Default 0. |\n",
    "| `end`     | Optional. The ending index (exclusive) of the slice to check. Default string length. |\n",
    "\n",
    "**`string.find(substring, start=0, end=len(string))`**\n",
    "Returns the lowest index in the string where `substring` is found within the slice `[start:end]`. Returns -1 if `substring` is not found.\n",
    "**Syntax**\n",
    "`string.find(substring, start, end)`\n",
    "**Parameter Values**\n",
    "| Parameter   | Description                                      |\n",
    "|-------------|--------------------------------------------------|\n",
    "| `substring` | Required. The substring to search for.         |\n",
    "| `start`     | Optional. The starting index of the slice to search. Default 0. |\n",
    "| `end`       | Optional. The ending index (exclusive) of the slice to search. Default string length. |\n",
    "\n",
    "**`string.index(substring, start=0, end=len(string))`**\n",
    "Like `find()`, but raises a `ValueError` if the `substring` is not found.\n",
    "**Syntax**\n",
    "`string.index(substring, start, end)`\n",
    "**Parameter Values**\n",
    "| Parameter   | Description                                      |\n",
    "|-------------|--------------------------------------------------|\n",
    "| `substring` | Required. The substring to search for.         |\n",
    "| `start`     | Optional. The starting index of the slice to search. Default 0. |\n",
    "| `end`       | Optional. The ending index (exclusive) of the slice to search. Default string length. |\n",
    "\n",
    "**`string.replace(old, new, count=-1)`**\n",
    "Returns a copy of the string where all occurrences of `old` are replaced with `new`. If `count` is given, only replace the first `count` occurrences.\n",
    "**Syntax**\n",
    "`string.replace(old, new, count)`\n",
    "**Parameter Values**\n",
    "| Parameter | Description                                      |\n",
    "|-----------|--------------------------------------------------|\n",
    "| `old`     | Required. The substring to be replaced.          |\n",
    "| `new`     | Required. The substring to replace with.         |\n",
    "| `count`   | Optional. Maximum number of replacements. Default -1 (all). |\n",
    "\n",
    "**`string.split(separator=None, maxsplit=-1)`**\n",
    "Returns a list of the words in the string, using `separator` as the delimiter. If `separator` is `None` (default), splits by whitespace. If `maxsplit` is specified, at most `maxsplit` splits are done.\n",
    "**Syntax**\n",
    "`string.split(separator, maxsplit)`\n",
    "**Parameter Values**\n",
    "| Parameter   | Description                                      |\n",
    "|-------------|--------------------------------------------------|\n",
    "| `separator` | Optional. The delimiter to split by. Default is any whitespace. |\n",
    "| `maxsplit`  | Optional. Maximum number of splits. Default -1 (all). |\n",
    "\n",
    "**`separator.join(iterable)`**\n",
    "Returns a string which is the concatenation of the strings in `iterable`, separated by the `separator` string.\n",
    "**Syntax**\n",
    "`separator.join(iterable)`\n",
    "**Parameter Values**\n",
    "| Parameter   | Description                                      |\n",
    "|-------------|--------------------------------------------------|\n",
    "| `iterable`  | Required. An iterable containing string elements to be joined. |\n",
    "| `separator` | The string used to separate elements in the joined output. |"
   ]
  },
  {
   "cell_type": "code",
   "execution_count": null,
   "id": "lesson4-code-4",
   "metadata": {
    "vscode": {
     "languageId": "python"
    }
   },
   "outputs": [],
   "source": [
    "data = \"  Some data, with spaces.  \"\n",
    "print(f\"Length: {len(data)}\")\n",
    "print(f\"Stripped: '{data.strip()}'\")\n",
    "print(f\"Uppercase: {data.upper()}\")\n",
    "print(f\"Find 'data': {data.find('data')}\")\n",
    "print(f\"Find 'xyz': {data.find('xyz')}\")\n",
    "print(f\"Replace spaces: {data.replace(' ', '_')}\")\n",
    "\n",
    "words = data.strip().split(',') # Split by comma\n",
    "print(f\"Split by ',': {words}\")\n",
    "\n",
    "sentence = \"This is a sample sentence.\"\n",
    "word_list = sentence.split() # Split by whitespace\n",
    "print(f\"Split by space: {word_list}\")\n",
    "\n",
    "joined_string = \"--\".join(word_list)\n",
    "print(f\"Joined with '--': {joined_string}\")"
   ]
  },
  {
   "cell_type": "markdown",
   "id": "lesson4-md-6",
   "metadata": {},
   "source": [
    "### 4.5 String Formatting\n",
    "\n",
    "Modern Python primarily uses **f-strings** (formatted string literals) for embedding expressions inside string literals."
   ]
  },
  {
   "cell_type": "code",
   "execution_count": null,
   "id": "lesson4-code-5",
   "metadata": {
    "vscode": {
     "languageId": "python"
    }
   },
   "outputs": [],
   "source": [
    "name = \"Bob\"\n",
    "age = 25\n",
    "pi = 3.14159265\n",
    "\n",
    "# f-string formatting\n",
    "greeting = f\"Hello, my name is {name} and I am {age} years old.\"\n",
    "print(greeting)\n",
    "\n",
    "# f-strings with format specifiers\n",
    "print(f\"Pi rounded to 2 decimal places: {pi:.2f}\")\n",
    "print(f\"Age represented with padding: {age:03d}\") # Pad with zeros to width 3\n",
    "print(f\"Value aligned in 10 spaces: {age:>10}\") # Right-align in 10 spaces\n",
    "\n",
    "# Older .format() method (still works)\n",
    "older_greeting = \"Hello, my name is {} and I am {} years old.\".format(name, age)\n",
    "print(older_greeting)\n",
    "\n",
    "# Even older % formatting (generally avoid in new code)\n",
    "oldest_greeting = \"Hello, my name is %s and I am %d years old.\" % (name, age)\n",
    "print(oldest_greeting)"
   ]
  },
  {
   "cell_type": "markdown",
   "id": "lesson5-md-1",
   "metadata": {},
   "source": [
    "## Lesson 5: Lists\n",
    "\n",
    "This lesson covers Python's versatile list data structure."
   ]
  },
  {
   "cell_type": "markdown",
   "id": "lesson5-md-2",
   "metadata": {},
   "source": [
    "### 5.1 Creating and Accessing Lists\n",
    "\n",
    "Lists are ordered, mutable (changeable) sequences of items, enclosed in square brackets `[]`. Items can be of different types."
   ]
  },
  {
   "cell_type": "code",
   "execution_count": null,
   "id": "lesson5-code-1",
   "metadata": {
    "vscode": {
     "languageId": "python"
    }
   },
   "outputs": [],
   "source": [
    "empty_list = []\n",
    "numbers = [1, 2, 3, 5, 8]\n",
    "mixed_list = [\"apple\", 3.14, True, None, [10, 20]]\n",
    "\n",
    "print(f\"Numbers list: {numbers}\")\n",
    "print(f\"Mixed list: {mixed_list}\")\n",
    "\n",
    "# Accessing (like strings)\n",
    "print(f\"First number: {numbers[0]}\")\n",
    "print(f\"Last item in mixed: {mixed_list[-1]}\")\n",
    "print(f\"Nested list item: {mixed_list[-1][0]}\") # Access item within nested list\n",
    "\n",
    "# Slicing (like strings)\n",
    "print(f\"Slice of numbers [1:4]: {numbers[1:4]}\") # [2, 3, 5]"
   ]
  },
  {
   "cell_type": "markdown",
   "id": "lesson5-md-3",
   "metadata": {},
   "source": [
    "### 5.2 Mutability\n",
    "\n",
    "Unlike strings, lists are **mutable**. You can change individual items, add new items, or remove items."
   ]
  },
  {
   "cell_type": "code",
   "execution_count": null,
   "id": "lesson5-code-2",
   "metadata": {
    "vscode": {
     "languageId": "python"
    }
   },
   "outputs": [],
   "source": [
    "colors = [\"red\", \"green\", \"blue\"]\n",
    "print(f\"Original colors: {colors}\")\n",
    "\n",
    "# Change an item\n",
    "colors[1] = \"yellow\"\n",
    "print(f\"After modification: {colors}\")\n",
    "\n",
    "# Modify using slice assignment\n",
    "colors[0:2] = [\"orange\", \"purple\"]\n",
    "print(f\"After slice assignment: {colors}\")"
   ]
  },
  {
   "cell_type": "markdown",
   "id": "lesson5-md-4",
   "metadata": {},
   "source": [
    "### 5.3 Common List Methods\n",
    "\n",
    "**Methods that modify the list in-place:**\n",
    "\n",
    "**`list.append(item)`**\n",
    "Adds an item to the end of the list.\n",
    "**Syntax**\n",
    "`list.append(item)`\n",
    "**Parameter Values**\n",
    "| Parameter | Description                                  |\n",
    "|-----------|----------------------------------------------|\n",
    "| `item`    | Required. The item to add to the list.       |\n",
    "\n",
    "**`list.insert(index, item)`**\n",
    "Inserts an item at a specified index.\n",
    "**Syntax**\n",
    "`list.insert(index, item)`\n",
    "**Parameter Values**\n",
    "| Parameter | Description                                  |\n",
    "|-----------|----------------------------------------------|\n",
    "| `index`   | Required. The index where to insert the item. |\n",
    "| `item`    | Required. The item to insert.                |\n",
    "\n",
    "**`list.extend(iterable)`**\n",
    "Appends all items from an iterable (like another list, tuple, set) to the end of the list.\n",
    "**Syntax**\n",
    "`list.extend(iterable)`\n",
    "**Parameter Values**\n",
    "| Parameter  | Description                                  |\n",
    "|------------|----------------------------------------------|\n",
    "| `iterable` | Required. Any iterable object (list, tuple, set, etc.). |\n",
    "\n",
    "**`list.pop(index=-1)`**\n",
    "Removes and returns the item at the specified index. If no index is specified, removes and returns the last item.\n",
    "**Syntax**\n",
    "`list.pop(index)`\n",
    "**Parameter Values**\n",
    "| Parameter | Description                                  |\n",
    "|-----------|----------------------------------------------|\n",
    "| `index`   | Optional. The index of the item to remove. Default is -1 (last item). |\n",
    "\n",
    "**`list.remove(item)`**\n",
    "Removes the first occurrence of the specified item. Raises a `ValueError` if the item is not found.\n",
    "**Syntax**\n",
    "`list.remove(item)`\n",
    "**Parameter Values**\n",
    "| Parameter | Description                                  |\n",
    "|-----------|----------------------------------------------|\n",
    "| `item`    | Required. The item to remove.                |\n",
    "\n",
    "**`list.sort(key=None, reverse=False)`**\n",
    "Sorts the list in-place. `key` specifies a function to be called on each list element prior to making comparisons. `reverse=True` sorts in descending order.\n",
    "**Syntax**\n",
    "`list.sort(key=function, reverse=boolean)`\n",
    "**Parameter Values**\n",
    "| Parameter | Description                                  |\n",
    "|-----------|----------------------------------------------|\n",
    "| `key`     | Optional. A function to specify sorting criteria. Default None. |\n",
    "| `reverse` | Optional. `True` for descending, `False` for ascending. Default `False`. |\n",
    "\n",
    "**`list.reverse()`**\n",
    "Reverses the order of the elements in the list in-place.\n",
    "**Syntax**\n",
    "`list.reverse()`\n",
    "**Parameter Values**\n",
    "Takes no parameters.\n",
    "\n",
    "**Methods that return information or new lists:**\n",
    "\n",
    "**`len(list)`**\n",
    "Built-in function. Returns the number of items in the list.\n",
    "**Syntax**\n",
    "`len(list)`\n",
    "**Parameter Values**\n",
    "| Parameter | Description                 |\n",
    "|-----------|-----------------------------|\n",
    "| `list`    | Required. The list object.  |\n",
    "\n",
    "**`list.index(item, start=0, end=len(list))`**\n",
    "Returns the index of the first occurrence of the specified item. Raises `ValueError` if not found. Optional `start` and `end` define the slice to search.\n",
    "**Syntax**\n",
    "`list.index(item, start, end)`\n",
    "**Parameter Values**\n",
    "| Parameter | Description                                  |\n",
    "|-----------|----------------------------------------------|\n",
    "| `item`    | Required. The item to search for.            |\n",
    "| `start`   | Optional. The index to start the search from. Default 0. |\n",
    "| `end`     | Optional. The index to end the search at (exclusive). Default list length. |\n",
    "\n",
    "**`list.count(item)`**\n",
    "Returns the number of times the specified item appears in the list.\n",
    "**Syntax**\n",
    "`list.count(item)`\n",
    "**Parameter Values**\n",
    "| Parameter | Description                                  |\n",
    "|-----------|----------------------------------------------|\n",
    "| `item`    | Required. The item to count.                 |\n",
    "\n",
    "**`sorted(iterable, key=None, reverse=False)`**\n",
    "Built-in function. Returns a *new* sorted list from the items in the iterable (does not modify the original).\n",
    "**Syntax**\n",
    "`sorted(iterable, key=function, reverse=boolean)`\n",
    "**Parameter Values**\n",
    "| Parameter  | Description                                  |\n",
    "|------------|----------------------------------------------|\n",
    "| `iterable` | Required. Sequence to sort (list, tuple, etc.). |\n",
    "| `key`      | Optional. Function to specify sorting criteria. Default None. |\n",
    "| `reverse`  | Optional. `True` for descending. Default `False`. |\n",
    "\n",
    "**`list.copy()`**\n",
    "Returns a shallow copy of the list.\n",
    "**Syntax**\n",
    "`list.copy()`\n",
    "**Parameter Values**\n",
    "Takes no parameters.\n",
    "\n",
    "**`list.clear()`**\n",
    "Removes all items from the list (makes it empty) in-place.\n",
    "**Syntax**\n",
    "`list.clear()`\n",
    "**Parameter Values**\n",
    "Takes no parameters."
   ]
  },
  {
   "cell_type": "code",
   "execution_count": null,
   "id": "lesson5-code-3",
   "metadata": {
    "vscode": {
     "languageId": "python"
    }
   },
   "outputs": [],
   "source": [
    "items = [10, 30, 20]\n",
    "print(f\"Initial items: {items}\")\n",
    "\n",
    "items.append(40)\n",
    "print(f\"After append(40): {items}\")\n",
    "\n",
    "items.insert(1, 15) # Insert 15 at index 1\n",
    "print(f\"After insert(1, 15): {items}\")\n",
    "\n",
    "items.extend([50, 60])\n",
    "print(f\"After extend([50, 60]): {items}\")\n",
    "\n",
    "popped_item = items.pop() # Remove last item\n",
    "print(f\"Popped item: {popped_item}, List now: {items}\")\n",
    "\n",
    "items.remove(30)\n",
    "print(f\"After remove(30): {items}\")\n",
    "\n",
    "items.sort(reverse=True) # In-place sort descending\n",
    "print(f\"After sort(reverse=True): {items}\")\n",
    "\n",
    "items.reverse() # In-place reverse\n",
    "print(f\"After reverse(): {items}\")\n",
    "\n",
    "print(f\"Count of 10: {items.count(10)}\")\n",
    "print(f\"Index of 20: {items.index(20)}\")\n",
    "\n",
    "unsorted_nums = [5, 1, 4, 2, 3]\n",
    "sorted_copy = sorted(unsorted_nums) # Create a new sorted list\n",
    "print(f\"Original unsorted: {unsorted_nums}\")\n",
    "print(f\"New sorted copy: {sorted_copy}\")\n",
    "\n",
    "copied_list = items.copy()\n",
    "print(f\"Copied list: {copied_list}\")\n",
    "copied_list.clear()\n",
    "print(f\"Cleared copy: {copied_list}\")\n",
    "print(f\"Original items (unaffected): {items}\")"
   ]
  },
  {
   "cell_type": "markdown",
   "id": "lesson5-md-5",
   "metadata": {},
   "source": [
    "### 5.4 List Comprehensions\n",
    "\n",
    "A concise way to create lists based on existing iterables. Often more readable and efficient than traditional loops for simple list creation.\n",
    "\n",
    "**Syntax:** `[expression for item in iterable if condition]`"
   ]
  },
  {
   "cell_type": "code",
   "execution_count": null,
   "id": "lesson5-code-4",
   "metadata": {
    "vscode": {
     "languageId": "python"
    }
   },
   "outputs": [],
   "source": [
    "# Example 1: Squares of numbers 0 to 9\n",
    "squares = []\n",
    "for x in range(10):\n",
    "    squares.append(x**2)\n",
    "print(f\"Squares (loop): {squares}\")\n",
    "\n",
    "squares_comp = [x**2 for x in range(10)]\n",
    "print(f\"Squares (comp): {squares_comp}\")\n",
    "\n",
    "# Example 2: Even numbers from 0 to 19\n",
    "evens = []\n",
    "for x in range(20):\n",
    "    if x % 2 == 0:\n",
    "        evens.append(x)\n",
    "print(f\"Evens (loop): {evens}\")\n",
    "\n",
    "evens_comp = [x for x in range(20) if x % 2 == 0]\n",
    "print(f\"Evens (comp): {evens_comp}\")\n",
    "\n",
    "# Example 3: Extract first letters and uppercase\n",
    "words = [\"apple\", \"banana\", \"cherry\"]\n",
    "first_letters = [word[0].upper() for word in words]\n",
    "print(f\"First letters: {first_letters}\")\n",
    "\n",
    "# Example 4: Nested list comprehension (creating pairs)\n",
    "pairs = [(x, y) for x in [1, 2] for y in ['a', 'b']]\n",
    "print(f\"Pairs: {pairs}\") # [(1, 'a'), (1, 'b'), (2, 'a'), (2, 'b')]"
   ]
  },
  {
   "cell_type": "markdown",
   "id": "lesson6-md-1",
   "metadata": {},
   "source": [
    "## Lesson 6: Conditionals\n",
    "\n",
    "This lesson covers how to control program flow based on conditions."
   ]
  },
  {
   "cell_type": "markdown",
   "id": "lesson6-md-2",
   "metadata": {},
   "source": [
    "### 6.1 `if`, `elif`, `else` Statements\n",
    "\n",
    "These statements allow code execution to depend on whether conditions evaluate to `True` or `False`.\n",
    "\n",
    "*   `if condition:`: Executes the block if `condition` is `True`.\n",
    "*   `elif another_condition:`: (Else If) Checked only if the preceding `if` or `elif` conditions were `False`. Executes block if `another_condition` is `True`.\n",
    "*   `else:`: Executes block if all preceding `if` and `elif` conditions were `False`."
   ]
  },
  {
   "cell_type": "code",
   "execution_count": null,
   "id": "lesson6-code-1",
   "metadata": {
    "vscode": {
     "languageId": "python"
    }
   },
   "outputs": [],
   "source": [
    "score = 75\n",
    "\n",
    "if score >= 90:\n",
    "    grade = 'A'\n",
    "elif score >= 80:\n",
    "    grade = 'B'\n",
    "elif score >= 70:\n",
    "    grade = 'C'\n",
    "elif score >= 60:\n",
    "    grade = 'D'\n",
    "else:\n",
    "    grade = 'F'\n",
    "\n",
    "print(f\"Score: {score}, Grade: {grade}\")\n",
    "\n",
    "# Simple if\n",
    "temperature = 5\n",
    "if temperature < 10:\n",
    "    print(\"It's cold!\")\n",
    "\n",
    "# If-else\n",
    "age = 18\n",
    "if age >= 18:\n",
    "    print(\"Adult\")\n",
    "else:\n",
    "    print(\"Minor\")"
   ]
  },
  {
   "cell_type": "markdown",
   "id": "lesson6-md-3",
   "metadata": {},
   "source": [
    "### 6.2 Comparison and Logical Operators\n",
    "\n",
    "Conditions often involve:\n",
    "*   **Comparison Operators:** `==` (equal), `!=` (not equal), `>` (greater than), `<` (less than), `>=` (greater or equal), `<=` (less or equal).\n",
    "*   **Logical Operators:** `and` (True if both operands are True), `or` (True if at least one operand is True), `not` (inverts boolean value)."
   ]
  },
  {
   "cell_type": "code",
   "execution_count": null,
   "id": "lesson6-code-2",
   "metadata": {
    "vscode": {
     "languageId": "python"
    }
   },
   "outputs": [],
   "source": [
    "x = 10\n",
    "y = 20\n",
    "z = 10\n",
    "is_valid = True\n",
    "name = \"Alice\"\n",
    "\n",
    "print(f\"x == z: {x == z}\") # True\n",
    "print(f\"x != y: {x != y}\") # True\n",
    "print(f\"y > x: {y > x}\")   # True\n",
    "\n",
    "print(f\"(x == z) and (y > x): {(x == z) and (y > x)}\") # True and True -> True\n",
    "print(f\"(x == y) or (x < y): {(x == y) or (x < y)}\")   # False or True -> True\n",
    "print(f\"not is_valid: {not is_valid}\")               # not True -> False\n",
    "\n",
    "# Combining multiple conditions\n",
    "if (age >= 18 and name == \"Alice\") or is_valid:\n",
    "    print(\"Condition met.\")"
   ]
  },
  {
   "cell_type": "markdown",
   "id": "lesson6-md-4",
   "metadata": {},
   "source": [
    "### 6.3 Truthiness\n",
    "\n",
    "In conditional contexts, Python evaluates many non-boolean values as `True` or `False`:\n",
    "*   **Considered `False`:** `None`, `False`, zero of any numeric type (`0`, `0.0`), empty sequences (`''`, `[]`, `()`), empty mappings (`{}`).\n",
    "*   **Considered `True`:** All other values, including non-empty strings, lists, tuples, dictionaries, and non-zero numbers."
   ]
  },
  {
   "cell_type": "code",
   "execution_count": null,
   "id": "lesson6-code-3",
   "metadata": {
    "vscode": {
     "languageId": "python"
    }
   },
   "outputs": [],
   "source": [
    "my_list = []\n",
    "my_string = \"Hello\"\n",
    "my_number = 0\n",
    "my_dict = {'a': 1}\n",
    "\n",
    "if my_list:\n",
    "    print(\"List is True (not empty)\") # This won't print\n",
    "else:\n",
    "    print(\"List is False (empty)\")\n",
    "\n",
    "if my_string:\n",
    "    print(\"String is True (not empty)\") # This will print\n",
    "else:\n",
    "    print(\"String is False (empty)\")\n",
    "\n",
    "if my_number:\n",
    "    print(\"Number is True (non-zero)\") # This won't print\n",
    "else:\n",
    "    print(\"Number is False (zero)\")\n",
    "\n",
    "if my_dict:\n",
    "    print(\"Dictionary is True (not empty)\") # This will print"
   ]
  },
  {
   "cell_type": "markdown",
   "id": "lesson6-md-5",
   "metadata": {},
   "source": [
    "### 6.4 Ternary Operator (Conditional Expression)\n",
    "\n",
    "A concise way to assign a value based on a condition.\n",
    "\n",
    "**Syntax:** `value_if_true if condition else value_if_false`"
   ]
  },
  {
   "cell_type": "code",
   "execution_count": null,
   "id": "lesson6-code-4",
   "metadata": {
    "vscode": {
     "languageId": "python"
    }
   },
   "outputs": [],
   "source": [
    "age = 20\n",
    "\n",
    "# Traditional if-else assignment\n",
    "if age >= 18:\n",
    "    status = \"Adult\"\n",
    "else:\n",
    "    status = \"Minor\"\n",
    "print(f\"Status (if-else): {status}\")\n",
    "\n",
    "# Ternary operator assignment\n",
    "status_ternary = \"Adult\" if age >= 18 else \"Minor\"\n",
    "print(f\"Status (ternary): {status_ternary}\")\n",
    "\n",
    "# Can be used directly in expressions\n",
    "print(f\"Allowed access: {'Yes' if age >= 18 else 'No'}\")"
   ]
  },
  {
   "cell_type": "markdown",
   "id": "lesson7-md-1",
   "metadata": {},
   "source": [
    "## Lesson 7: Loops\n",
    "\n",
    "This lesson covers constructs for repeating blocks of code."
   ]
  },
  {
   "cell_type": "markdown",
   "id": "lesson7-md-2",
   "metadata": {},
   "source": [
    "### 7.1 `for` Loops\n",
    "\n",
    "`for` loops iterate over the items of any **iterable** (like lists, tuples, strings, dictionaries, range objects) in the order they appear.\n",
    "\n",
    "**Syntax:** `for item in iterable:`"
   ]
  },
  {
   "cell_type": "code",
   "execution_count": null,
   "id": "lesson7-code-1",
   "metadata": {
    "vscode": {
     "languageId": "python"
    }
   },
   "outputs": [],
   "source": [
    "# Iterate over a list\n",
    "fruits = [\"apple\", \"banana\", \"cherry\"]\n",
    "print(\"Iterating over list:\")\n",
    "for fruit in fruits:\n",
    "    print(fruit)\n",
    "\n",
    "# Iterate over a string\n",
    "print(\"\\nIterating over string:\")\n",
    "for char in \"Python\":\n",
    "    print(char, end=\" \")\n",
    "print()\n",
    "\n",
    "# Iterate using range()\n",
    "# range(stop) -> 0 to stop-1\n",
    "# range(start, stop) -> start to stop-1\n",
    "# range(start, stop, step) -> start to stop-1 with step\n",
    "print(\"\\nIterating with range(5):\")\n",
    "for i in range(5):\n",
    "    print(i, end=\" \")\n",
    "print()\n",
    "\n",
    "print(\"\\nIterating with range(2, 8):\")\n",
    "for i in range(2, 8):\n",
    "    print(i, end=\" \")\n",
    "print()\n",
    "\n",
    "print(\"\\nIterating with range(10, 0, -2):\")\n",
    "for i in range(10, 0, -2):\n",
    "    print(i, end=\" \")\n",
    "print()"
   ]
  },
  {
   "cell_type": "markdown",
   "id": "lesson7-md-3",
   "metadata": {},
   "source": [
    "### 7.2 `while` Loops\n",
    "\n",
    "`while` loops repeat as long as a condition is `True`. It's important to ensure the condition eventually becomes `False` to avoid infinite loops.\n",
    "\n",
    "**Syntax:** `while condition:`"
   ]
  },
  {
   "cell_type": "code",
   "execution_count": null,
   "id": "lesson7-code-2",
   "metadata": {
    "vscode": {
     "languageId": "python"
    }
   },
   "outputs": [],
   "source": [
    "count = 0\n",
    "print(\"\\nWhile loop example:\")\n",
    "while count < 5:\n",
    "    print(f\"Count is {count}\")\n",
    "    count += 1 # Increment count to eventually stop the loop\n",
    "\n",
    "print(\"Loop finished.\")"
   ]
  },
  {
   "cell_type": "markdown",
   "id": "lesson7-md-4",
   "metadata": {},
   "source": [
    "### 7.3 `break` and `continue`\n",
    "\n",
    "*   `break`: Exits the innermost `for` or `while` loop immediately.\n",
    "*   `continue`: Skips the rest of the current iteration and proceeds to the next iteration of the loop."
   ]
  },
  {
   "cell_type": "code",
   "execution_count": null,
   "id": "lesson7-code-3",
   "metadata": {
    "vscode": {
     "languageId": "python"
    }
   },
   "outputs": [],
   "source": [
    "# Example using break\n",
    "print(\"\\nBreak example:\")\n",
    "for i in range(10):\n",
    "    if i == 5:\n",
    "        print(\"Breaking loop\")\n",
    "        break\n",
    "    print(i, end=\" \")\n",
    "print(\"\\nAfter break loop\")\n",
    "\n",
    "# Example using continue\n",
    "print(\"\\nContinue example (skipping odd numbers):\")\n",
    "for i in range(10):\n",
    "    if i % 2 != 0:\n",
    "        continue # Skip the print for odd numbers\n",
    "    print(i, end=\" \")\n",
    "print(\"\\nAfter continue loop\")"
   ]
  },
  {
   "cell_type": "markdown",
   "id": "lesson7-md-5",
   "metadata": {},
   "source": [
    "### 7.4 Loop `else` Clause\n",
    "\n",
    "Both `for` and `while` loops can have an optional `else` block. This block executes only if the loop completes **normally** (i.e., not terminated by a `break` statement)."
   ]
  },
  {
   "cell_type": "code",
   "execution_count": null,
   "id": "lesson7-code-4",
   "metadata": {
    "vscode": {
     "languageId": "python"
    }
   },
   "outputs": [],
   "source": [
    "# Example: Searching for an item\n",
    "items = [\"apple\", \"banana\", \"orange\"]\n",
    "search_item = \"grape\"\n",
    "\n",
    "print(f\"\\nSearching for {search_item}...\")\n",
    "for item in items:\n",
    "    if item == search_item:\n",
    "        print(f\"Found {search_item}!\")\n",
    "        break\n",
    "else: # Executes if the loop finished without break\n",
    "    print(f\"{search_item} not found.\")\n",
    "\n",
    "search_item_2 = \"banana\"\n",
    "print(f\"\\nSearching for {search_item_2}...\")\n",
    "for item in items:\n",
    "    if item == search_item_2:\n",
    "        print(f\"Found {search_item_2}!\")\n",
    "        break\n",
    "else:\n",
    "    print(f\"{search_item_2} not found.\") # This else won't execute"
   ]
  },
  {
   "cell_type": "markdown",
   "id": "lesson7-md-6",
   "metadata": {},
   "source": [
    "### 7.5 Advanced Iteration Tools\n",
    "\n",
    "*   **`enumerate(iterable, start=0)`:** Returns an iterator yielding pairs of `(index, item)`.\n",
    "*   **`zip(*iterables)`:** Returns an iterator yielding tuples, where the i-th tuple contains the i-th element from each of the input iterables. Stops when the shortest input iterable is exhausted."
   ]
  },
  {
   "cell_type": "code",
   "execution_count": null,
   "id": "lesson7-code-5",
   "metadata": {
    "vscode": {
     "languageId": "python"
    }
   },
   "outputs": [],
   "source": [
    "# Enumerate example\n",
    "letters = ['a', 'b', 'c']\n",
    "print(\"\\nEnumerate example:\")\n",
    "for index, letter in enumerate(letters):\n",
    "    print(f\"Index {index}: {letter}\")\n",
    "\n",
    "print(\"\\nEnumerate example (start=1):\")\n",
    "for index, letter in enumerate(letters, start=1):\n",
    "    print(f\"Number {index}: {letter}\")\n",
    "\n",
    "# Zip example\n",
    "names = [\"Alice\", \"Bob\", \"Charlie\"]\n",
    "scores = [85, 92, 78]\n",
    "ids = [101, 102, 103]\n",
    "\n",
    "print(\"\\nZip example:\")\n",
    "for name, score, user_id in zip(names, scores, ids):\n",
    "    print(f\"ID: {user_id}, Name: {name}, Score: {score}\")\n",
    "\n",
    "# Zip stops at shortest iterable\n",
    "short_list = [1, 2]\n",
    "long_list = ['a', 'b', 'c']\n",
    "print(\"\\nZip with different lengths:\")\n",
    "for num, char in zip(short_list, long_list):\n",
    "    print(f\"Pair: ({num}, {char})\")"
   ]
  },
  {
   "cell_type": "markdown",
   "id": "lesson8-md-1",
   "metadata": {},
   "source": [
    "## Lesson 8: Tuples\n",
    "\n",
    "This lesson introduces tuples, an immutable sequence type."
   ]
  },
  {
   "cell_type": "markdown",
   "id": "lesson8-md-2",
   "metadata": {},
   "source": [
    "### 8.1 Creating and Accessing Tuples\n",
    "\n",
    "Tuples are ordered, **immutable** sequences, enclosed in parentheses `()`. A comma `,` is the key element that defines a tuple, especially for single-item tuples."
   ]
  },
  {
   "cell_type": "code",
   "execution_count": null,
   "id": "lesson8-code-1",
   "metadata": {
    "vscode": {
     "languageId": "python"
    }
   },
   "outputs": [],
   "source": [
    "empty_tuple = ()\n",
    "point = (10, 20) # 2D point\n",
    "rgb_color = (255, 0, 128)\n",
    "mixed_tuple = (\"apple\", 3.14, True)\n",
    "\n",
    "# Parentheses are optional in many contexts if unambiguous\n",
    "another_tuple = 1, 2, 3\n",
    "print(f\"Another tuple: {another_tuple}, type: {type(another_tuple)}\")\n",
    "\n",
    "# Single-item tuple REQUIRES a comma\n",
    "single_item_tuple = (99,)\n",
    "not_a_tuple = (99)\n",
    "print(f\"Single item tuple: {single_item_tuple}, type: {type(single_item_tuple)}\")\n",
    "print(f\"Not a tuple: {not_a_tuple}, type: {type(not_a_tuple)}\")\n",
    "\n",
    "# Accessing (like lists/strings)\n",
    "print(f\"X coordinate: {point[0]}\")\n",
    "print(f\"Blue value: {rgb_color[2]}\")\n",
    "\n",
    "# Slicing (like lists/strings)\n",
    "print(f\"First two items of mixed: {mixed_tuple[:2]}\")"
   ]
  },
  {
   "cell_type": "markdown",
   "id": "lesson8-md-3",
   "metadata": {},
   "source": [
    "### 8.2 Immutability\n",
    "\n",
    "Like strings, tuples cannot be changed after creation. You cannot reassign items. However, if a tuple contains mutable items (like a list), the item *itself* can be modified."
   ]
  },
  {
   "cell_type": "code",
   "execution_count": null,
   "id": "lesson8-code-2",
   "metadata": {
    "vscode": {
     "languageId": "python"
    }
   },
   "outputs": [],
   "source": [
    "my_tuple = (1, 2, 3)\n",
    "# my_tuple[0] = 100 # TypeError: 'tuple' object does not support item assignment\n",
    "\n",
    "# If a tuple contains mutable items (like a list), the item itself can be changed\n",
    "mutable_in_tuple = ([1, 2], [3, 4])\n",
    "print(f\"Original mutable tuple: {mutable_in_tuple}\")\n",
    "mutable_in_tuple[0].append(99) # Modify the list inside the tuple\n",
    "print(f\"Modified mutable tuple: {mutable_in_tuple}\")\n",
    "# mutable_in_tuple[0] = [5,6] # This is still illegal - cannot reassign the tuple element"
   ]
  },
  {
   "cell_type": "markdown",
   "id": "lesson8-md-4",
   "metadata": {},
   "source": [
    "### 8.3 Tuple Methods\n",
    "\n",
    "Tuples have fewer methods than lists due to their immutability.\n",
    "\n",
    "**`tuple.count(value)`**\n",
    "Returns the number of times a specified value occurs in a tuple.\n",
    "**Syntax**\n",
    "`tuple.count(value)`\n",
    "**Parameter Values**\n",
    "| Parameter | Description                            |\n",
    "|-----------|----------------------------------------|\n",
    "| `value`   | Required. The value to search for.     |\n",
    "\n",
    "**`tuple.index(value, start=0, end=len(tuple))`**\n",
    "Searches the tuple for a specified value and returns the position of where it was first found. Raises `ValueError` if the value is not found. Optional `start` and `end` define the slice to search.\n",
    "**Syntax**\n",
    "`tuple.index(value, start, end)`\n",
    "**Parameter Values**\n",
    "| Parameter | Description                                  |\n",
    "|-----------|----------------------------------------------|\n",
    "| `value`   | Required. The value to search for.           |\n",
    "| `start`   | Optional. The index to start the search from. Default 0. |\n",
    "| `end`     | Optional. The index to end the search at (exclusive). Default tuple length. |"
   ]
  },
  {
   "cell_type": "code",
   "execution_count": null,
   "id": "lesson8-code-2b",
   "metadata": {},
   "outputs": [],
   "source": [
    "my_tuple = (1, 2, 5, 3, 5, 1, 5)\n",
    "print(f\"Count of 5: {my_tuple.count(5)}\")\n",
    "print(f\"Index of first 3: {my_tuple.index(3)}\")\n",
    "# print(my_tuple.index(99)) # ValueError"
   ]
  },
  {
   "cell_type": "markdown",
   "id": "lesson8-md-4b",
   "metadata": {},
   "source": [
    "### 8.4 When to Use Tuples\n",
    "\n",
    "*   **Fixed Collections:** When you have a collection of items that shouldn't change (e.g., coordinates, RGB values).\n",
    "*   **Dictionary Keys:** Since tuples are immutable and hashable (if they contain only immutable items), they can be used as keys in dictionaries (lists cannot).\n",
    "*   **Returning Multiple Values:** Functions often return multiple values packed as a tuple.\n",
    "*   **Readability/Intent:** Using a tuple signals that the sequence is not intended to be modified.\n",
    "*   **Performance:** Tuples can be slightly more memory-efficient and faster to iterate over than lists (though often negligible)."
   ]
  },
  {
   "cell_type": "markdown",
   "id": "lesson8-md-5",
   "metadata": {},
   "source": [
    "### 8.5 Tuple Packing and Unpacking\n",
    "\n",
    "*   **Packing:** Creating a tuple by assigning a sequence of values to a single variable.\n",
    "*   **Unpacking:** Assigning the items of a tuple (or any sequence) to multiple variables."
   ]
  },
  {
   "cell_type": "code",
   "execution_count": null,
   "id": "lesson8-code-3",
   "metadata": {
    "vscode": {
     "languageId": "python"
    }
   },
   "outputs": [],
   "source": [
    "# Packing\n",
    "packed_tuple = 10, 20, \"hello\" # Creates tuple (10, 20, \"hello\")\n",
    "print(f\"Packed: {packed_tuple}\")\n",
    "\n",
    "# Unpacking\n",
    "coordinates = (5, 8)\n",
    "x, y = coordinates # Assigns 5 to x, 8 to y\n",
    "print(f\"Unpacked: x={x}, y={y}\")\n",
    "\n",
    "# Unpacking in loops\n",
    "points = [(1, 2), (3, 4), (5, 6)]\n",
    "print(\"Unpacking in loop:\")\n",
    "for px, py in points:\n",
    "    print(f\"  Point: ({px}, {py})\")\n",
    "\n",
    "# Extended unpacking (using *)\n",
    "numbers = (1, 2, 3, 4, 5)\n",
    "first, second, *rest = numbers\n",
    "print(f\"Extended unpack: first={first}, second={second}, rest={rest}\")\n",
    "first, *middle, last = numbers\n",
    "print(f\"Extended unpack: first={first}, middle={middle}, last={last}\")\n",
    "\n",
    "# Swapping variables uses tuple packing/unpacking\n",
    "a = 100\n",
    "b = 200\n",
    "a, b = b, a # pack (b, a) then unpack into a, b\n",
    "print(f\"Swapped: a={a}, b={b}\")"
   ]
  },
  {
   "cell_type": "markdown",
   "id": "lesson8-md-6",
   "metadata": {},
   "source": [
    "### 8.6 Named Tuples\n",
    "\n",
    "For more readable access to tuple elements, use `collections.namedtuple`. It creates tuple subclasses with named fields."
   ]
  },
  {
   "cell_type": "code",
   "execution_count": null,
   "id": "lesson8-code-4",
   "metadata": {
    "vscode": {
     "languageId": "python"
    }
   },
   "outputs": [],
   "source": [
    "from collections import namedtuple\n",
    "\n",
    "# Define a named tuple 'Point'\n",
    "Point = namedtuple(\"Point\", [\"x\", \"y\"])\n",
    "\n",
    "# Create instances\n",
    "p1 = Point(10, 20)\n",
    "p2 = Point(x=5, y=15)\n",
    "\n",
    "print(f\"Named tuple p1: {p1}\")\n",
    "print(f\"Named tuple p2: {p2}\")\n",
    "\n",
    "# Access by name or index\n",
    "print(f\"p1.x = {p1.x}, p1[0] = {p1[0]}\")\n",
    "print(f\"p2.y = {p2.y}, p2[1] = {p2[1]}\")\n",
    "\n",
    "# Still immutable\n",
    "# p1.x = 100 # AttributeError: can't set attribute"
   ]
  },
  {
   "cell_type": "markdown",
   "id": "lesson9-md-1",
   "metadata": {},
   "source": [
    "## Lesson 9: Dictionaries\n",
    "\n",
    "This lesson covers dictionaries, Python's mapping type."
   ]
  },
  {
   "cell_type": "markdown",
   "id": "lesson9-md-2",
   "metadata": {},
   "source": [
    "### 9.1 Creating and Accessing Dictionaries\n",
    "\n",
    "Dictionaries store data as **key-value pairs**, enclosed in curly braces `{}`. They are insertion-ordered (Python 3.7+) and mutable collections.\n",
    "*   **Keys:** Must be unique and **immutable** (strings, numbers, tuples containing only immutables are common keys).\n",
    "*   **Values:** Can be any Python object (including lists or other dictionaries)."
   ]
  },
  {
   "cell_type": "code",
   "execution_count": null,
   "id": "lesson9-code-1",
   "metadata": {
    "vscode": {
     "languageId": "python"
    }
   },
   "outputs": [],
   "source": [
    "empty_dict = {}\n",
    "student_scores = {\"Alice\": 85, \"Bob\": 92, \"Charlie\": 78}\n",
    "config = {\n",
    "    \"server\": \"192.168.1.1\",\n",
    "    \"port\": 8080,\n",
    "    \"active\": True,\n",
    "    \"protocols\": [\"HTTP\", \"HTTPS\"]\n",
    "}\n",
    "\n",
    "print(f\"Student scores: {student_scores}\")\n",
    "print(f\"Config: {config}\")\n",
    "\n",
    "# Accessing values using keys\n",
    "print(f\"Bob's score: {student_scores['Bob']}\")\n",
    "print(f\"Server IP: {config['server']}\")\n",
    "\n",
    "# Accessing using .get() - avoids KeyError if key doesn't exist\n",
    "print(f\"David's score: {student_scores.get('David')}\") # Returns None (default)\n",
    "print(f\"David's score (with default): {student_scores.get('David', 'N/A')}\") # Returns 'N/A'\n",
    "\n",
    "# Accessing a non-existent key with [] raises KeyError\n",
    "# print(student_scores['David']) # KeyError"
   ]
  },
  {
   "cell_type": "markdown",
   "id": "lesson9-md-3",
   "metadata": {},
   "source": [
    "### 9.2 Modifying Dictionaries\n",
    "\n",
    "Dictionaries are mutable. You can add, update, or delete key-value pairs."
   ]
  },
  {
   "cell_type": "code",
   "execution_count": null,
   "id": "lesson9-code-2",
   "metadata": {
    "vscode": {
     "languageId": "python"
    }
   },
   "outputs": [],
   "source": [
    "scores = {\"Alice\": 85, \"Bob\": 92}\n",
    "print(f\"Initial scores: {scores}\")\n",
    "\n",
    "# Add a new key-value pair / Update an existing value\n",
    "scores[\"Charlie\"] = 78\n",
    "scores[\"Alice\"] = 88 # Updates existing key\n",
    "print(f\"After adding/updating: {scores}\")\n",
    "\n",
    "# Remove a key-value pair using del\n",
    "del scores[\"Bob\"]\n",
    "print(f\"After deleting Bob: {scores}\")\n",
    "\n",
    "# Methods for modification are covered below."
   ]
  },
  {
   "cell_type": "markdown",
   "id": "lesson9-md-4",
   "metadata": {},
   "source": [
    "### 9.3 Common Dictionary Methods\n",
    "\n",
    "**`dict.clear()`**\n",
    "Removes all elements from the dictionary (makes it empty) in-place.\n",
    "**Syntax**\n",
    "`dictionary.clear()`\n",
    "**Parameter Values**\n",
    "Takes no parameters.\n",
    "\n",
    "**`dict.copy()`**\n",
    "Returns a shallow copy of the dictionary.\n",
    "**Syntax**\n",
    "`dictionary.copy()`\n",
    "**Parameter Values**\n",
    "Takes no parameters.\n",
    "\n",
    "**`dict.get(key, default=None)`**\n",
    "Returns the value for the specified key. If the key is not found, it returns the `default` value (which is `None` if not provided) instead of raising a `KeyError`.\n",
    "**Syntax**\n",
    "`dictionary.get(key, default)`\n",
    "**Parameter Values**\n",
    "| Parameter | Description                                  |\n",
    "|-----------|----------------------------------------------|\n",
    "| `key`     | Required. The key to search for.             |\n",
    "| `default` | Optional. Value to return if key not found. Default `None`. |\n",
    "\n",
    "**`dict.items()`**\n",
    "Returns a *view object* that displays a list of a dictionary's key-value tuple pairs. The view object updates when the dictionary changes.\n",
    "**Syntax**\n",
    "`dictionary.items()`\n",
    "**Parameter Values**\n",
    "Takes no parameters.\n",
    "\n",
    "**`dict.keys()`**\n",
    "Returns a *view object* containing the dictionary's keys. The view object updates when the dictionary changes.\n",
    "**Syntax**\n",
    "`dictionary.keys()`\n",
    "**Parameter Values**\n",
    "Takes no parameters.\n",
    "\n",
    "**`dict.values()`**\n",
    "Returns a *view object* containing the dictionary's values. The view object updates when the dictionary changes.\n",
    "**Syntax**\n",
    "`dictionary.values()`\n",
    "**Parameter Values**\n",
    "Takes no parameters.\n",
    "\n",
    "**`dict.pop(key, default=)`**\n",
    "Removes the element with the specified key and returns its value. If the key is not found, it returns the `default` value if provided, otherwise raises a `KeyError`.\n",
    "**Syntax**\n",
    "`dictionary.pop(key, default)`\n",
    "**Parameter Values**\n",
    "| Parameter | Description                                  |\n",
    "|-----------|----------------------------------------------|\n",
    "| `key`     | Required. The key of the item to remove.     |\n",
    "| `default` | Optional. Value to return if key not found. If omitted and key not found, raises `KeyError`. |\n",
    "\n",
    "**`dict.popitem()`**\n",
    "Removes and returns the *last* inserted key-value pair as a tuple. Raises `KeyError` if the dictionary is empty.\n",
    "**Syntax**\n",
    "`dictionary.popitem()`\n",
    "**Parameter Values**\n",
    "Takes no parameters.\n",
    "\n",
    "**`dict.setdefault(key, default=None)`**\n",
    "Returns the value of the specified key. If the key does not exist, inserts the key with the specified `default` value and returns the `default` value. If `default` is not provided, inserts and returns `None`.\n",
    "**Syntax**\n",
    "`dictionary.setdefault(key, default)`\n",
    "**Parameter Values**\n",
    "| Parameter | Description                                  |\n",
    "|-----------|----------------------------------------------|\n",
    "| `key`     | Required. The key to search/insert.          |\n",
    "| `default` | Optional. Value to insert if key not found. Default `None`. |\n",
    "\n",
    "**`dict.update(iterable)`**\n",
    "Updates the dictionary with the key-value pairs from the `iterable` (which can be another dictionary or an iterable of key-value pairs like a list of tuples). Existing keys are overwritten.\n",
    "**Syntax**\n",
    "`dictionary.update(iterable)`\n",
    "**Parameter Values**\n",
    "| Parameter  | Description                                      |\n",
    "|------------|--------------------------------------------------|\n",
    "| `iterable` | Required. An iterable of key-value pairs or another dictionary. |\n",
    "\n",
    "**`classmethod dict.fromkeys(keys, value=None)`**\n",
    "Creates a new dictionary with keys from `keys` iterable and values set to `value`.\n",
    "**Syntax**\n",
    "`dict.fromkeys(keys, value)`\n",
    "**Parameter Values**\n",
    "| Parameter | Description                                      |\n",
    "|-----------|--------------------------------------------------|\n",
    "| `keys`    | Required. An iterable of keys for the new dictionary. |\n",
    "| `value`   | Optional. The value for all keys. Default `None`. |"
   ]
  },
  {
   "cell_type": "code",
   "execution_count": null,
   "id": "lesson9-code-3b",
   "metadata": {},
   "outputs": [],
   "source": [
    "scores = {\"Alice\": 85, \"Bob\": 92, \"Charlie\": 78}\n",
    "print(f\"Original: {scores}\")\n",
    "\n",
    "# Get value safely\n",
    "bob_score = scores.get(\"Bob\", 0)\n",
    "eve_score = scores.get(\"Eve\", 0)\n",
    "print(f\"Bob's score: {bob_score}, Eve's score: {eve_score}\")\n",
    "\n",
    "# Views\n",
    "keys = scores.keys()\n",
    "values = scores.values()\n",
    "items = scores.items()\n",
    "print(f\"Keys view: {keys}\")\n",
    "print(f\"Values view: {values}\")\n",
    "print(f\"Items view: {items}\")\n",
    "\n",
    "# Pop an item\n",
    "charlie_score = scores.pop(\"Charlie\")\n",
    "print(f\"Popped Charlie ({charlie_score}), dict is now: {scores}\")\n",
    "\n",
    "# Pop last inserted item (Bob was last before Charlie was popped)\n",
    "last_item = scores.popitem()\n",
    "print(f\"Popped last item {last_item}, dict is now: {scores}\")\n",
    "\n",
    "# Set default\n",
    "scores.setdefault(\"Alice\", 100) # Alice exists, returns current value\n",
    "scores.setdefault(\"David\", 95) # David doesn't exist, inserts and returns default\n",
    "print(f\"After setdefault: {scores}\")\n",
    "\n",
    "# Update\n",
    "new_data = {\"Eve\": 70, \"Alice\": 90} # Will update Alice's score\n",
    "scores.update(new_data)\n",
    "print(f\"After update: {scores}\")\n",
    "\n",
    "# From keys\n",
    "new_dict = dict.fromkeys([\"math\", \"physics\", \"chemistry\"], 0)\n",
    "print(f\"Dict from keys: {new_dict}\")\n",
    "\n",
    "# Clear\n",
    "new_dict.clear()\n",
    "print(f\"Cleared dict: {new_dict}\")"
   ]
  },
  {
   "cell_type": "markdown",
   "id": "lesson9-md-4b",
   "metadata": {},
   "source": [
    "### 9.4 Iterating over Dictionaries\n",
    "\n",
    "Common patterns using the methods above:"
   ]
  },
  {
   "cell_type": "code",
   "execution_count": null,
   "id": "lesson9-code-3",
   "metadata": {
    "vscode": {
     "languageId": "python"
    }
   },
   "outputs": [],
   "source": [
    "student_scores = {\"Alice\": 85, \"Bob\": 92, \"Charlie\": 78}\n",
    "\n",
    "# Iterate over keys (default iteration behavior)\n",
    "print(\"\\nIterating over keys:\")\n",
    "for name in student_scores:\n",
    "    print(f\"  {name}\")\n",
    "\n",
    "# Iterate over values using .values()\n",
    "print(\"\\nIterating over values:\")\n",
    "for score in student_scores.values():\n",
    "    print(f\"  {score}\")\n",
    "\n",
    "# Iterate over key-value pairs using .items()\n",
    "print(\"\\nIterating over items:\")\n",
    "for name, score in student_scores.items():\n",
    "    print(f\"  {name}: {score}\")\n",
    "\n",
    "# Checking for key existence\n",
    "if \"Bob\" in student_scores: # Efficient check\n",
    "    print(\"\\nBob is in the dictionary.\")\n",
    "\n",
    "if 92 in student_scores.values(): # Less efficient than key check\n",
    "    print(\"A score of 92 exists.\")"
   ]
  },
  {
   "cell_type": "markdown",
   "id": "lesson9-md-5",
   "metadata": {},
   "source": [
    "### 9.5 Dictionary Comprehensions\n",
    "\n",
    "Similar to list comprehensions, a concise way to create dictionaries.\n",
    "\n",
    "**Syntax:** `{key_expression: value_expression for item in iterable if condition}`"
   ]
  },
  {
   "cell_type": "code",
   "execution_count": null,
   "id": "lesson9-code-4",
   "metadata": {
    "vscode": {
     "languageId": "python"
    }
   },
   "outputs": [],
   "source": [
    "# Example 1: Create a dictionary of squares\n",
    "squares_dict = {x: x**2 for x in range(5)}\n",
    "print(f\"Squares dictionary: {squares_dict}\")\n",
    "\n",
    "# Example 2: Create dictionary from two lists\n",
    "names = [\"Alice\", \"Bob\", \"Charlie\"]\n",
    "ages = [25, 30, 22]\n",
    "age_dict = {name: age for name, age in zip(names, ages)}\n",
    "print(f\"Age dictionary: {age_dict}\")\n",
    "\n",
    "# Example 3: Create dictionary with a condition\n",
    "numbers = {'a': 1, 'b': 2, 'c': 3, 'd': 4, 'e': 5}\n",
    "even_numbers = {k: v for k, v in numbers.items() if v % 2 == 0}\n",
    "print(f\"Even numbers dictionary: {even_numbers}\")\n",
    "\n",
    "# Example 4: Swapping keys and values (assuming unique values)\n",
    "original_dict = {'x': 10, 'y': 20}\n",
    "swapped_dict = {v: k for k, v in original_dict.items()}\n",
    "print(f\"Swapped dictionary: {swapped_dict}\")"
   ]
  },
  {
   "cell_type": "markdown",
   "id": "lesson10-md-1",
   "metadata": {},
   "source": [
    "## Lesson 10: Files and Exceptions\n",
    "\n",
    "This lesson covers reading from and writing to files, and handling errors using exceptions."
   ]
  },
  {
   "cell_type": "markdown",
   "id": "lesson10-md-2",
   "metadata": {},
   "source": [
    "### 10.1 Working with Files\n",
    "\n",
    "Interacting with files involves opening, reading/writing, and closing.\n",
    "\n",
    "**Opening Files:** `open(filename, mode)`\n",
    "*   `filename`: Path to the file.\n",
    "*   `mode`: A string indicating how the file will be used.\n",
    "    *   `'r'`: Read (default). Error if file doesn't exist.\n",
    "    *   `'w'`: Write. Creates file if it doesn't exist, **overwrites** if it does.\n",
    "    *   `'a'`: Append. Creates file if it doesn't exist, adds to the end if it does.\n",
    "    *   `'r+'`: Read and write.\n",
    "    *   `'b'`: Binary mode (add to other modes, e.g., `'rb'`, `'wb'`). Used for non-text files (images, executables).\n",
    "    *   `'t'`: Text mode (default).\n",
    "\n",
    "**Closing Files:** `file.close()`. Crucial to release resources. **Best Practice:** Use `with open(...)`."
   ]
  },
  {
   "cell_type": "markdown",
   "id": "lesson10-md-3",
   "metadata": {},
   "source": [
    "### 10.2 Reading Files\n",
    "\n",
    "Common methods on an opened file object (`file`):\n",
    "\n",
    "**`file.read(size=-1)`**\n",
    "Reads at most `size` bytes from the file (or until EOF if `size` is negative or omitted).\n",
    "**Syntax**\n",
    "`file.read(size)`\n",
    "**Parameter Values**\n",
    "| Parameter | Description                                  |\n",
    "|-----------|----------------------------------------------|\n",
    "| `size`    | Optional. Max number of bytes/characters to read. Default -1 (read all). |\n",
    "\n",
    "**`file.readline(size=-1)`**\n",
    "Reads one entire line from the file. A trailing newline character (`\\n`) is kept in the string. Returns an empty string at EOF.\n",
    "**Syntax**\n",
    "`file.readline(size)`\n",
    "**Parameter Values**\n",
    "| Parameter | Description                                  |\n",
    "|-----------|----------------------------------------------|\n",
    "| `size`    | Optional. Max number of bytes/characters to read from the line. |\n",
    "\n",
    "**`file.readlines(hint=-1)`**\n",
    "Reads until EOF using `readline()` and returns a list containing the lines. If `hint` is present, reads lines until total size approximates `hint`.\n",
    "**Syntax**\n",
    "`file.readlines(hint)`\n",
    "**Parameter Values**\n",
    "| Parameter | Description                                  |\n",
    "|-----------|----------------------------------------------|\n",
    "| `hint`    | Optional. Approximate max bytes/characters to read. |\n",
    "\n",
    "**Iteration:** File objects are iterable by line."
   ]
  },
  {
   "cell_type": "code",
   "execution_count": null,
   "id": "lesson10-code-1",
   "metadata": {
    "vscode": {
     "languageId": "python"
    }
   },
   "outputs": [],
   "source": [
    "# Create a sample file first (for reading examples)\n",
    "try:\n",
    "    with open(\"sample.txt\", \"w\") as f:\n",
    "        f.write(\"This is the first line.\\n\")\n",
    "        f.write(\"This is the second line.\\n\")\n",
    "        f.write(\"And a third line.\")\n",
    "except IOError as e:\n",
    "    print(f\"Error creating sample file: {e}\")\n",
    "\n",
    "# Method 1: Read entire file content\n",
    "print(\"--- Reading entire file ---\")\n",
    "try:\n",
    "    with open(\"sample.txt\", \"r\") as file:\n",
    "        content = file.read()\n",
    "        print(content)\n",
    "except FileNotFoundError:\n",
    "    print(\"Error: sample.txt not found.\")\n",
    "except IOError as e:\n",
    "    print(f\"Error reading file: {e}\")\n",
    "\n",
    "# Method 2: Read line by line (using iteration)\n",
    "print(\"\\n--- Reading line by line (iteration) ---\")\n",
    "try:\n",
    "    with open(\"sample.txt\", \"r\") as file:\n",
    "        for line in file: # File objects are iterable\n",
    "            print(line.strip()) # strip() removes leading/trailing whitespace (incl. newline)\n",
    "except FileNotFoundError:\n",
    "    print(\"Error: sample.txt not found.\")\n",
    "except IOError as e:\n",
    "    print(f\"Error reading file: {e}\")\n",
    "\n",
    "# Method 3: Read all lines into a list\n",
    "print(\"\\n--- Reading all lines into list ---\")\n",
    "try:\n",
    "    with open(\"sample.txt\", \"r\") as file:\n",
    "        lines = file.readlines() # Reads all lines into a list of strings\n",
    "        print(lines)\n",
    "        # Process the list\n",
    "        for line in lines:\n",
    "            print(f\"Line from list: {line.strip()}\")\n",
    "except FileNotFoundError:\n",
    "    print(\"Error: sample.txt not found.\")\n",
    "except IOError as e:\n",
    "    print(f\"Error reading file: {e}\")"
   ]
  },
  {
   "cell_type": "markdown",
   "id": "lesson10-md-4",
   "metadata": {},
   "source": [
    "### 10.3 Writing Files\n",
    "\n",
    "Use `'w'` (overwrite) or `'a'` (append) mode.\n",
    "\n",
    "**`file.write(string)`**\n",
    "Writes the specified string to the file. Returns the number of characters written.\n",
    "**Syntax**\n",
    "`file.write(string)`\n",
    "**Parameter Values**\n",
    "| Parameter | Description                 |\n",
    "|-----------|-----------------------------|\n",
    "| `string`  | Required. The string to write. |\n",
    "\n",
    "**`file.writelines(list_of_strings)`**\n",
    "Writes the items of a list (or any iterable) to the file. Note: Does not add line separators; you must include newlines (`\\n`) in the strings if desired.\n",
    "**Syntax**\n",
    "`file.writelines(list_of_strings)`\n",
    "**Parameter Values**\n",
    "| Parameter          | Description                               |\n",
    "|--------------------|-------------------------------------------|\n",
    "| `list_of_strings` | Required. An iterable containing strings. |"
   ]
  },
  {
   "cell_type": "code",
   "execution_count": null,
   "id": "lesson10-code-2",
   "metadata": {
    "vscode": {
     "languageId": "python"
    }
   },
   "outputs": [],
   "source": [
    "# Writing using 'w' (overwrites existing file)\n",
    "try:\n",
    "    with open(\"output.txt\", \"w\") as f:\n",
    "        f.write(\"Hello from Python!\\n\")\n",
    "        f.write(f\"The value is {10 * 5}\\n\")\n",
    "        lines_to_write = [\"Line A\\n\", \"Line B\\n\", \"Line C\\n\"]\n",
    "        f.writelines(lines_to_write)\n",
    "    print(\"Successfully wrote to output.txt\")\n",
    "except IOError as e:\n",
    "    print(f\"Error writing to file: {e}\")\n",
    "\n",
    "# Appending using 'a'\n",
    "try:\n",
    "    with open(\"output.txt\", \"a\") as f:\n",
    "        f.write(\"This line was appended.\\n\")\n",
    "    print(\"Successfully appended to output.txt\")\n",
    "except IOError as e:\n",
    "    print(f\"Error appending to file: {e}\")"
   ]
  },
  {
   "cell_type": "markdown",
   "id": "lesson10-md-5",
   "metadata": {},
   "source": [
    "### 10.4 Context Manager: `with open(...)`\n",
    "\n",
    "Using `with open(...) as file_variable:` is the **recommended** way to work with files. It automatically ensures the file is closed properly, even if errors occur within the `with` block."
   ]
  },
  {
   "cell_type": "markdown",
   "id": "lesson10-md-6",
   "metadata": {},
   "source": [
    "### 10.5 Exception Handling\n",
    "\n",
    "Errors detected during execution are called **exceptions**. Unhandled exceptions cause the program to crash. Use `try...except` blocks to handle potential errors gracefully.\n",
    "\n",
    "*   **`try:`** Block containing code that might raise an exception.\n",
    "*   **`except ExceptionType:`** Block that executes if an exception of `ExceptionType` occurs in the `try` block. Can have multiple `except` blocks for different types.\n",
    "*   **`except:`** Catches any exception (use sparingly, prefer specific types).\n",
    "*   **`else:`** (Optional) Block that executes if *no* exceptions occurred in the `try` block.\n",
    "*   **`finally:`** (Optional) Block that *always* executes, regardless of whether an exception occurred or not (useful for cleanup, like closing resources if not using `with`).\n",
    "*   **`raise ExceptionType(\"message\")`**: Manually triggers an exception."
   ]
  },
  {
   "cell_type": "code",
   "execution_count": null,
   "id": "lesson10-code-3",
   "metadata": {
    "vscode": {
     "languageId": "python"
    }
   },
   "outputs": [],
   "source": [
    "# Example 1: Handling potential division by zero\n",
    "numerator = 10\n",
    "denominator = 0\n",
    "\n",
    "try:\n",
    "    result = numerator / denominator\n",
    "    print(f\"Result: {result}\")\n",
    "except ZeroDivisionError:\n",
    "    print(\"Error: Cannot divide by zero!\")\n",
    "finally:\n",
    "    print(\"Division attempt finished.\")\n",
    "\n",
    "# Example 2: Handling multiple specific exceptions and general exceptions\n",
    "try:\n",
    "    # value = int(input(\"Enter a number: \")) # Uncomment to test user input\n",
    "    value = 0 # Simulate input for notebook execution\n",
    "    result = 100 / value\n",
    "    print(f\"100 / {value} = {result}\")\n",
    "except ValueError:\n",
    "    print(\"Invalid input. Please enter a number.\")\n",
    "except ZeroDivisionError:\n",
    "    print(\"Error: Cannot divide by zero.\")\n",
    "except Exception as e: # Catch any other exception\n",
    "    print(f\"An unexpected error occurred: {e}\")\n",
    "    print(f\"Error type: {type(e).__name__}\")\n",
    "else:\n",
    "    print(\"Calculation successful!\")\n",
    "finally:\n",
    "    print(\"Input and calculation block finished.\")\n",
    "\n",
    "# Example 3: Raising an exception\n",
    "def calculate_average(scores):\n",
    "    if not scores: # Check if list is empty\n",
    "        raise ValueError(\"Input list cannot be empty to calculate average.\")\n",
    "    return sum(scores) / len(scores)\n",
    "\n",
    "try:\n",
    "    avg = calculate_average([])\n",
    "    print(f\"Average: {avg}\")\n",
    "except ValueError as e:\n",
    "    print(f\"Error in calculation: {e}\")"
   ]
  },
  {
   "cell_type": "markdown",
   "id": "lesson11-md-1",
   "metadata": {},
   "source": [
    "## Lesson 11: Functions\n",
    "\n",
    "This lesson covers defining and using functions to organize code and promote reusability."
   ]
  },
  {
   "cell_type": "markdown",
   "id": "lesson11-md-2",
   "metadata": {},
   "source": [
    "### 11.1 Defining and Calling Functions\n",
    "\n",
    "Functions are defined using the `def` keyword, followed by the function name, parentheses `()` for parameters, and a colon `:`. The indented block below is the function body.\n",
    "\n",
    "**Syntax:**\n",
    "```python\n",
    "def function_name(parameter1, parameter2, ...):\n",
    "    \"\"\"Optional docstring explaining the function.\"\"\"\n",
    "    # Function body (code to execute)\n",
    "    # ...\n",
    "    return value # Optional return statement\n",
    "```"
   ]
  },
  {
   "cell_type": "code",
   "execution_count": null,
   "id": "lesson11-code-1",
   "metadata": {
    "vscode": {
     "languageId": "python"
    }
   },
   "outputs": [],
   "source": [
    "# Function definition\n",
    "def greet(name):\n",
    "    \"\"\"Prints a simple greeting.\"\"\"\n",
    "    print(f\"Hello, {name}!\")\n",
    "\n",
    "def add_numbers(x, y):\n",
    "    \"\"\"Returns the sum of two numbers.\"\"\"\n",
    "    return x + y\n",
    "\n",
    "# Function calls\n",
    "greet(\"Alice\")\n",
    "greet(\"Bob\")\n",
    "\n",
    "sum_result = add_numbers(5, 3)\n",
    "print(f\"The sum is: {sum_result}\")\n",
    "\n",
    "# Function without parameters or return value (implicitly returns None)\n",
    "def print_separator():\n",
    "    print(\"-\" * 20)\n",
    "\n",
    "print_separator()"
   ]
  },
  {
   "cell_type": "markdown",
   "id": "lesson11-md-3",
   "metadata": {},
   "source": [
    "### 11.2 Parameters and Arguments\n",
    "\n",
    "*   **Parameters:** Variables listed inside the parentheses in the function definition.\n",
    "*   **Arguments:** Values passed to the function when it is called.\n",
    "\n",
    "Python supports:\n",
    "*   **Positional Arguments:** Matched based on order.\n",
    "*   **Keyword Arguments:** Matched based on parameter name (`name=value`). Allow changing order and improve clarity.\n",
    "*   **Default Argument Values:** Parameters can have default values, making the corresponding arguments optional during the call."
   ]
  },
  {
   "cell_type": "code",
   "execution_count": null,
   "id": "lesson11-code-2",
   "metadata": {
    "vscode": {
     "languageId": "python"
    }
   },
   "outputs": [],
   "source": [
    "def describe_pet(pet_name, animal_type=\"dog\"): # animal_type has a default value\n",
    "    \"\"\"Displays information about a pet.\"\"\"\n",
    "    print(f\"I have a {animal_type}.\")\n",
    "    print(f\"My {animal_type}'s name is {pet_name.title()}.\\n\")\n",
    "\n",
    "# Positional arguments\n",
    "describe_pet(\"willie\", \"hamster\")\n",
    "\n",
    "# Keyword arguments (order doesn't matter)\n",
    "describe_pet(animal_type=\"cat\", pet_name=\"whiskers\")\n",
    "\n",
    "# Using default value for animal_type\n",
    "describe_pet(\"buddy\")\n",
    "\n",
    "# Mixing positional and keyword (positional must come first)\n",
    "describe_pet(\"goldie\", animal_type=\"fish\")\n",
    "\n",
    "# This is wrong: describe_pet(pet_name=\"max\", \"dog\") # Positional after keyword"
   ]
  },
  {
   "cell_type": "markdown",
   "id": "lesson11-md-4",
   "metadata": {},
   "source": [
    "### 11.3 Scope\n",
    "\n",
    "*   **Local Scope:** Variables defined inside a function are local to that function and cannot be accessed outside it.\n",
    "*   **Global Scope:** Variables defined outside any function are global and can be accessed (but not reassigned directly without `global` keyword) from within functions.\n",
    "*   **`global` Keyword:** Used inside a function to indicate that an assignment should modify a global variable instead of creating a new local one (use sparingly).\n",
    "*   **`nonlocal` Keyword:** Used in nested functions to modify a variable in the nearest enclosing (non-global) scope."
   ]
  },
  {
   "cell_type": "code",
   "execution_count": null,
   "id": "lesson11-code-3",
   "metadata": {
    "vscode": {
     "languageId": "python"
    }
   },
   "outputs": [],
   "source": [
    "global_var = 100 # Global scope\n",
    "\n",
    "def my_function(param):\n",
    "    local_var = param * 2 # Local scope\n",
    "    print(f\"Inside function: local_var = {local_var}\")\n",
    "    print(f\"Inside function: accessing global_var = {global_var}\")\n",
    "    # global_var = 200 # This would create a NEW local_var shadowing global_var\n",
    "\n",
    "def modify_global():\n",
    "    global global_var # Declare intent to modify the global variable\n",
    "    global_var = 500\n",
    "    print(f\"Inside modify_global: global_var = {global_var}\")\n",
    "\n",
    "my_function(10)\n",
    "print(f\"Outside function: global_var = {global_var}\") # Accessing global\n",
    "# print(local_var) # NameError: local_var is not defined outside the function\n",
    "\n",
    "modify_global()\n",
    "print(f\"Outside function after modify_global: global_var = {global_var}\")"
   ]
  },
  {
   "cell_type": "markdown",
   "id": "lesson11-md-5",
   "metadata": {},
   "source": [
    "### 11.4 Variable-Length Arguments (`*args`, `**kwargs`)\n",
    "\n",
    "*   **`*args` (Arbitrary Positional Arguments):** Collects extra positional arguments into a tuple.\n",
    "*   **`**kwargs` (Arbitrary Keyword Arguments):** Collects extra keyword arguments into a dictionary."
   ]
  },
  {
   "cell_type": "code",
   "execution_count": null,
   "id": "lesson11-code-4",
   "metadata": {
    "vscode": {
     "languageId": "python"
    }
   },
   "outputs": [],
   "source": [
    "def process_items(required_arg, *args, **kwargs):\n",
    "    print(f\"Required argument: {required_arg}\")\n",
    "    print(f\"Extra positional arguments (*args): {args}\") # args is a tuple\n",
    "    print(f\"Extra keyword arguments (**kwargs): {kwargs}\") # kwargs is a dict\n",
    "    print(\"---\")\n",
    "\n",
    "process_items(100) # Only required arg\n",
    "process_items(100, 200, 300) # Required + positional args\n",
    "process_items(100, user=\"Alice\", status=\"active\") # Required + keyword args\n",
    "process_items(100, 200, 300, user=\"Bob\", age=30) # Required + positional + keyword"
   ]
  },
  {
   "cell_type": "markdown",
   "id": "lesson11-md-6",
   "metadata": {},
   "source": [
    "### 11.5 Docstrings and Type Hinting\n",
    "\n",
    "*   **Docstrings:** Triple-quoted strings (`\"\"\"Docstring goes here\"\"\"`) placed immediately after the function definition to document what the function does. Used by help() and documentation tools.\n",
    "*   **Type Hinting (PEP 484):** Annotations indicating the expected types of parameters and the return value. Not enforced by the interpreter but used by static analysis tools (like MyPy) and improve code understanding."
   ]
  },
  {
   "cell_type": "code",
   "execution_count": null,
   "id": "lesson11-code-5",
   "metadata": {
    "vscode": {
     "languageId": "python"
    }
   },
   "outputs": [],
   "source": [
    "# Example using type hints and docstring\n",
    "from typing import List, Union # Import types for hinting\n",
    "\n",
    "def find_max(numbers: List[Union[int, float]]) -> Union[int, float]:\n",
    "    \"\"\"Finds the maximum number in a list of numbers.\n",
    "\n",
    "    Args:\n",
    "        numbers: A list containing integers or floats.\n",
    "\n",
    "    Returns:\n",
    "        The maximum number found in the list.\n",
    "\n",
    "    Raises:\n",
    "        ValueError: If the input list is empty.\n",
    "    \"\"\"\n",
    "    if not numbers:\n",
    "        raise ValueError(\"Input list cannot be empty.\")\n",
    "    max_val = numbers[0]\n",
    "    for num in numbers:\n",
    "        if num > max_val:\n",
    "            max_val = num\n",
    "    return max_val\n",
    "\n",
    "# Accessing the docstring\n",
    "print(\"Docstring for find_max:\")\n",
    "print(find_max.__doc__)\n",
    "\n",
    "# Using the function\n",
    "data = [10, 5, 25.5, -3, 18]\n",
    "maximum = find_max(data)\n",
    "print(f\"\\nMaximum value in {data} is {maximum}\")\n",
    "\n",
    "# Type hints help static analyzers catch potential errors, e.g.:\n",
    "# find_max([\"a\", \"b\"]) # MyPy would flag this"
   ]
  },
  {
   "cell_type": "markdown",
   "id": "lesson11-md-7",
   "metadata": {},
   "source": [
    "### 11.6 Lambda Functions\n",
    "\n",
    "Small, anonymous functions defined using the `lambda` keyword. Syntactically restricted to a single expression.\n",
    "\n",
    "**Syntax:** `lambda arguments: expression`"
   ]
  },
  {
   "cell_type": "code",
   "execution_count": null,
   "id": "lesson11-code-6",
   "metadata": {
    "vscode": {
     "languageId": "python"
    }
   },
   "outputs": [],
   "source": [
    "# Lambda function equivalent to def add(x, y): return x + y\n",
    "add_lambda = lambda x, y: x + y\n",
    "print(f\"Lambda add(5, 3): {add_lambda(5, 3)}\")\n",
    "\n",
    "# Often used with functions like sorted(), map(), filter()\n",
    "points = [(1, 5), (3, 2), (5, 8)]\n",
    "\n",
    "# Sort points based on the second element (y-coordinate)\n",
    "points_sorted_y = sorted(points, key=lambda point: point[1])\n",
    "print(f\"Points sorted by y: {points_sorted_y}\")"
   ]
  },
  {
   "cell_type": "markdown",
   "id": "lesson11-md-8",
   "metadata": {},
   "source": [
    "### 11.7 Advanced Sorting with Custom Comparison\n",
    "\n",
    "While `lambda` is common for simple `key` functions in `sorted()` or `list.sort()`, sometimes you need more complex comparison logic, similar to C/C++ `compare` functions or Java `Comparator`. Python 3 removed the `cmp` parameter from `sorted()`, but you can achieve the same result using `functools.cmp_to_key`.\n",
    "\n",
    "A comparison function should take two arguments (`x`, `y`) and return:\n",
    "*   A negative value if `x < y`\n",
    "*   Zero if `x == y`\n",
    "*   A positive value if `x > y`\n",
    "\n",
    "`functools.cmp_to_key(my_comparison_func)` converts this old-style comparison function into a key function suitable for `sorted()`."
   ]
  },
  {
   "cell_type": "code",
   "execution_count": null,
   "id": "lesson11-code-7",
   "metadata": {
    "vscode": {
     "languageId": "python"
    }
   },
   "outputs": [],
   "source": [
    "from functools import cmp_to_key\n",
    "\n",
    "# Example: Sort numbers such that even numbers come before odd numbers,\n",
    "# and within evens/odds, sort in ascending order.\n",
    "\n",
    "def compare_even_odd_ascending(a, b):\n",
    "    \"\"\"Comparison function for sorting.\n",
    "    - Even numbers come before odd numbers.\n",
    "    - Numbers of the same parity are sorted ascendingly.\n",
    "    \"\"\"\n",
    "    a_is_even = (a % 2 == 0)\n",
    "    b_is_even = (b % 2 == 0)\n",
    "\n",
    "    if a_is_even and not b_is_even:\n",
    "        return -1 # a (even) comes before b (odd)\n",
    "    elif not a_is_even and b_is_even:\n",
    "        return 1 # a (odd) comes after b (even)\n",
    "    else: # Both are even or both are odd\n",
    "        # Sort ascendingly: return negative if a < b, zero if a == b, positive if a > b\n",
    "        # This comparison logic ensures stability if needed for equal numbers\n",
    "        if a < b:\n",
    "            return -1\n",
    "        elif a > b:\n",
    "            return 1\n",
    "        else:\n",
    "            return 0\n",
    "        # Or simply: return a - b # Works for numeric ascending sort, less explicit\n",
    "\n",
    "numbers_to_sort = [3, 1, 4, 1, 5, 9, 2, 6, 5, 3, 5]\n",
    "\n",
    "# Convert the comparison function to a key function\n",
    "custom_key = cmp_to_key(compare_even_odd_ascending)\n",
    "\n",
    "sorted_numbers = sorted(numbers_to_sort, key=custom_key)\n",
    "\n",
    "print(f\"Original numbers: {numbers_to_sort}\")\n",
    "print(f\"Custom sorted numbers: {sorted_numbers}\")\n",
    "# Expected output: [2, 4, 6, 1, 1, 3, 3, 5, 5, 5, 9] (Evens ascending, then Odds ascending)\n",
    "\n",
    "# Another example: Sort strings by length, then alphabetically for ties\n",
    "def compare_str_len_alpha(s1, s2):\n",
    "    len_diff = len(s1) - len(s2)\n",
    "    if len_diff != 0:\n",
    "        return len_diff # Shorter strings first\n",
    "    else:\n",
    "        # Same length, compare alphabetically\n",
    "        if s1 < s2:\n",
    "            return -1\n",
    "        elif s1 > s2:\n",
    "            return 1\n",
    "        else:\n",
    "            return 0\n",
    "\n",
    "words_to_sort = [\"apple\", \"banana\", \"fig\", \"kiwi\", \"grape\"]\n",
    "sorted_words = sorted(words_to_sort, key=cmp_to_key(compare_str_len_alpha))\n",
    "print(f\"\\nOriginal words: {words_to_sort}\")\n",
    "print(f\"Custom sorted words: {sorted_words}\")\n",
    "# Expected: ['fig', 'kiwi', 'apple', 'grape', 'banana']"
   ]
  },
  {
   "cell_type": "markdown",
   "id": "end-marker",
   "metadata": {},
   "source": [
    "---\n",
    "*End of Python Basics Revision*\n",
    "---"
   ]
  }
 ],
 "metadata": {
  "jupytext": {
   "encoding": "# -*- coding: utf-8 -*-"
  },
  "kernelspec": {
   "display_name": "Python 3 (ipykernel)",
   "language": "python",
   "name": "python3"
  },
  "language_info": {
   "name": "python",
   "version": "3.9.12"
  }
 },
 "nbformat": 4,
 "nbformat_minor": 5
}
