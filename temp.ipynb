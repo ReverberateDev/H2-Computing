{
 "cells": [
  {
   "cell_type": "markdown",
   "id": "main-title",
   "metadata": {},
   "source": [
    "# Python Basics Revision (H2 Computing 9569)\n",
    "\n",
    "This notebook covers fundamental Python concepts across 11 lessons, aiming to reinforce basics and introduce more advanced techniques relevant for H2 Computing."
   ]
  },
  {
   "cell_type": "markdown",
   "id": "lesson1-md-1",
   "metadata": {},
   "source": [
    "## Lesson 1: Introduction\n",
    "\n",
    "This lesson provides a brief introduction to the Python language environment, focusing on execution modes and basic output."
   ]
  },
  {
   "cell_type": "markdown",
   "id": "lesson1-md-2",
   "metadata": {},
   "source": [
    "### 1.1 Python: An Interpreted Language\n",
    "\n",
    "Python is an **interpreted**, high-level, general-purpose programming language. Unlike compiled languages (like C++ or Java), Python code is executed line-by-line by the **interpreter**.\n",
    "\n",
    "**Key Characteristics:**\n",
    "*   **Readability:** Emphasizes clean syntax and indentation.\n",
    "*   **Dynamically Typed:** Variable types are inferred at runtime (type hints can be added for clarity).\n",
    "*   **Garbage Collected:** Automatic memory management.\n",
    "*   **Large Standard Library:** Extensive modules for various tasks.\n",
    "*   **Cross-Platform:** Runs on major operating systems."
   ]
  },
  {
   "cell_type": "markdown",
   "id": "lesson1-md-3",
   "metadata": {},
   "source": [
    "### 1.2 Execution Modes\n",
    "\n",
    "1.  **Interactive Mode (REPL - Read-Evaluate-Print Loop):**\n",
    "    *   Type commands directly at a prompt (`>>>`).\n",
    "    *   Interpreter executes immediately and shows results.\n",
    "    *   Useful for testing snippets, exploring, quick calculations.\n",
    "2.  **Script Mode:**\n",
    "    *   Write code in a `.py` file.\n",
    "    *   Interpreter executes the entire script.\n",
    "    *   Used for developing programs of any significant size."
   ]
  },
  {
   "cell_type": "code",
   "execution_count": null,
   "id": "lesson1-code-1",
   "metadata": {
    "vscode": {
     "languageId": "python"
    }
   },
   "outputs": [],
   "source": [
    "# Example commands for interactive mode:\n",
    "# >>> x = 10\n",
    "# >>> y = 20\n",
    "# >>> x + y\n",
    "# 30\n",
    "\n",
    "# Example script (save as script.py):\n",
    "# print(\"Running from a script!\")\n",
    "# result = 5 ** 3\n",
    "# print(f\"5 to the power of 3 is {result}\")\n",
    "\n",
    "# To run script from terminal: python script.py"
   ]
  },
  {
   "cell_type": "markdown",
   "id": "lesson1-md-4",
   "metadata": {},
   "source": [
    "### 1.3 Basic Output: `print()`\n",
    "\n",
    "The `print()` function displays output. Key parameters include `sep` (separator between arguments) and `end` (character at the end)."
   ]
  },
  {
   "cell_type": "code",
   "execution_count": null,
   "id": "lesson1-code-2",
   "metadata": {
    "vscode": {
     "languageId": "python"
    }
   },
   "outputs": [],
   "source": [
    "print(\"Item 1\", \"Item 2\", \"Item 3\") # Default separator is space\n",
    "print(\"Item 1\", \"Item 2\", \"Item 3\", sep=\" | \") # Custom separator\n",
    "print(\"First line\", end=\". \") # Custom end character\n",
    "print(\"Second line\")"
   ]
  },
  {
   "cell_type": "markdown",
   "id": "lesson1-md-5",
   "metadata": {},
   "source": [
    "### 1.4 Environments\n",
    "\n",
    "Common Python development environments include IDLE (basic), text editors (VS Code, Sublime), IDEs (PyCharm, Spyder), and Notebooks (Jupyter)."
   ]
  },
  {
   "cell_type": "markdown",
   "id": "lesson2-md-1",
   "metadata": {},
   "source": [
    "## Lesson 2: Identifiers\n",
    "\n",
    "This lesson covers the rules and conventions for naming entities in Python."
   ]
  },
  {
   "cell_type": "markdown",
   "id": "lesson2-md-2",
   "metadata": {},
   "source": [
    "### 2.1 Definition and Rules\n",
    "\n",
    "An **identifier** is a name for a variable, function, class, etc.\n",
    "*   Must start with a letter (a-z, A-Z) or underscore (`_`).\n",
    "*   Can contain letters, digits (0-9), and underscores.\n",
    "*   **Cannot** be a keyword (reserved word like `if`, `for`, `class`).\n",
    "*   Are **case-sensitive** (`score` and `Score` are different)."
   ]
  },
  {
   "cell_type": "markdown",
   "id": "lesson2-md-3",
   "metadata": {},
   "source": [
    "### 2.2 Keywords\n",
    "\n",
    "Reserved words with special meaning."
   ]
  },
  {
   "cell_type": "code",
   "execution_count": null,
   "id": "lesson2-code-1",
   "metadata": {
    "vscode": {
     "languageId": "python"
    }
   },
   "outputs": [],
   "source": [
    "import keyword\n",
    "print(keyword.kwlist)"
   ]
  },
  {
   "cell_type": "markdown",
   "id": "lesson2-md-4",
   "metadata": {},
   "source": [
    "### 2.3 Naming Conventions (PEP 8)\n",
    "\n",
    "Good practice for readability:\n",
    "*   **Variables/Functions:** `lowercase_with_underscores` (snake_case) - e.g., `user_age`, `calculate_sum()`.\n",
    "*   **Constants:** `ALL_CAPS_WITH_UNDERSCORES` - e.g., `MAX_VALUE`, `PI`.\n",
    "*   **Classes:** `CapitalizedWords` (CamelCase/PascalCase) - e.g., `Student`, `DataParser`.\n",
    "*   **Internal Use:** Start with underscore (`_internal_var`).\n",
    "*   **Name Mangling:** Start with double underscore (`__private_var`) within classes."
   ]
  },
  {
   "cell_type": "code",
   "execution_count": null,
   "id": "lesson2-code-2",
   "metadata": {
    "vscode": {
     "languageId": "python"
    }
   },
   "outputs": [],
   "source": [
    "MAX_USERS = 100\n",
    "user_count = 0\n",
    "\n",
    "def process_data(data_list):\n",
    "    _temp_result = sum(data_list) # Internal variable convention\n",
    "    return _temp_result / len(data_list)\n",
    "\n",
    "class Car:\n",
    "    def __init__(self, make):\n",
    "        self.make = make\n",
    "        self.__speed = 0 # 'Private' variable via name mangling\n",
    "\n",
    "    def accelerate(self):\n",
    "        self.__speed += 10\n",
    "\n",
    "my_car = Car(\"Toyota\")\n",
    "# print(my_car.__speed) # Error\n",
    "# Accessing mangled name: print(my_car._Car__speed)"
   ]
  },
  {
   "cell_type": "markdown",
   "id": "lesson3-md-1",
   "metadata": {},
   "source": [
    "## Lesson 3: Numbers\n",
    "\n",
    "This lesson covers Python's numeric types and operations."
   ]
  },
  {
   "cell_type": "markdown",
   "id": "lesson3-md-2",
   "metadata": {},
   "source": [
    "### 3.1 Numeric Types\n",
    "\n",
    "*   **`int`:** Whole numbers (positive, negative, zero). Can be arbitrarily large.\n",
    "*   **`float`:** Numbers with a decimal point. Represented using IEEE 754 standard, which can lead to small precision issues.\n",
    "*   **`complex`:** Numbers with a real and imaginary part (using `j` or `J` suffix). Less common in typical H2 scope but exist."
   ]
  },
  {
   "cell_type": "code",
   "execution_count": null,
   "id": "lesson3-code-1",
   "metadata": {
    "vscode": {
     "languageId": "python"
    }
   },
   "outputs": [],
   "source": [
    "integer_var = 100\n",
    "float_var = 3.14159\n",
    "large_int = 1_000_000_000 # Underscores for readability\n",
    "complex_var = 2 + 3j\n",
    "\n",
    "print(type(integer_var), integer_var)\n",
    "print(type(float_var), float_var)\n",
    "print(type(large_int), large_int)\n",
    "print(type(complex_var), complex_var)"
   ]
  },
  {
   "cell_type": "markdown",
   "id": "lesson3-md-3",
   "metadata": {},
   "source": [
    "### 3.2 Arithmetic Operators\n",
    "\n",
    "| Operator | Description        | Example       | Result |\n",
    "|----------|--------------------|---------------|--------|\n",
    "| `+`      | Addition           | `5 + 3`       | `8`    |\n",
    "| `-`      | Subtraction        | `5 - 3`       | `2`    |\n",
    "| `*`      | Multiplication     | `5 * 3`       | `15`   |\n",
    "| `/`      | True Division      | `5 / 3`       | `1.666...` |\n",
    "| `//`     | Floor Division     | `5 // 3`      | `1`    |\n",
    "| `%`      | Modulus (Remainder)| `5 % 3`       | `2`    |\n",
    "| `**`     | Exponentiation     | `5 ** 3`      | `125`  |"
   ]
  },
  {
   "cell_type": "markdown",
   "id": "lesson3-md-4",
   "metadata": {},
   "source": [
    "### 3.3 Built-in Functions and `math` Module\n",
    "\n",
    "Common functions for numbers:\n",
    "*   `abs(x)`: Absolute value of x.\n",
    "*   `round(x, n)`: Rounds x to n decimal places (rounds to nearest even for .5 cases).\n",
    "*   `pow(x, y)`: Same as `x ** y`.\n",
    "\n",
    "The `math` module provides more advanced functions:"
   ]
  },
  {
   "cell_type": "code",
   "execution_count": null,
   "id": "lesson3-code-2",
   "metadata": {
    "vscode": {
     "languageId": "python"
    }
   },
   "outputs": [],
   "source": [
    "import math\n",
    "\n",
    "print(f\"abs(-10) = {abs(-10)}\")\n",
    "print(f\"round(3.14159, 2) = {round(3.14159, 2)}\")\n",
    "print(f\"round(2.5) = {round(2.5)}\") # Rounds to nearest even -> 2\n",
    "print(f\"round(3.5) = {round(3.5)}\") # Rounds to nearest even -> 4\n",
    "print(f\"pow(2, 5) = {pow(2, 5)}\")\n",
    "\n",
    "print(f\"math.sqrt(16) = {math.sqrt(16)}\")\n",
    "print(f\"math.ceil(4.2) = {math.ceil(4.2)}\") # Smallest integer >= x\n",
    "print(f\"math.floor(4.8) = {math.floor(4.8)}\") # Largest integer <= x\n",
    "print(f\"math.pi = {math.pi}\")\n",
    "print(f\"math.log10(100) = {math.log10(100)}\")\n",
    "print(f\"math.sin(math.pi / 2) = {math.sin(math.pi / 2)}\")"
   ]
  },
  {
   "cell_type": "markdown",
   "id": "lesson3-md-5",
   "metadata": {},
   "source": [
    "### 3.4 Floating-Point Considerations\n",
    "\n",
    "Due to the way floats are stored, calculations can sometimes have small inaccuracies. Be cautious when comparing floats for exact equality."
   ]
  },
  {
   "cell_type": "code",
   "execution_count": null,
   "id": "lesson3-code-3",
   "metadata": {
    "vscode": {
     "languageId": "python"
    }
   },
   "outputs": [],
   "source": [
    "a = 0.1\n",
    "b = 0.2\n",
    "sum_val = a + b\n",
    "print(f\"0.1 + 0.2 = {sum_val}\") # Might show 0.30000000000000004\n",
    "print(f\"Is sum == 0.3? {sum_val == 0.3}\") # Likely False\n",
    "\n",
    "# Better comparison using tolerance\n",
    "tolerance = 1e-9 # A small tolerance value\n",
    "print(f\"Is sum close to 0.3? {abs(sum_val - 0.3) < tolerance}\") # True\n",
    "\n",
    "# Or using math.isclose()\n",
    "import math\n",
    "print(f\"Is sum close using math.isclose? {math.isclose(sum_val, 0.3)}\") # True"
   ]
  },
  {
   "cell_type": "markdown",
   "id": "lesson4-md-1",
   "metadata": {},
   "source": [
    "## Lesson 4: Strings\n",
    "\n",
    "This lesson covers string manipulation in Python."
   ]
  },
  {
   "cell_type": "markdown",
   "id": "lesson4-md-2",
   "metadata": {},
   "source": [
    "### 4.1 Creating Strings\n",
    "\n",
    "Strings are sequences of characters, enclosed in single (`'`) or double (`\"`) quotes. Triple quotes (`'''` or `\"\"\"`) are used for multi-line strings or docstrings."
   ]
  },
  {
   "cell_type": "code",
   "execution_count": null,
   "id": "lesson4-code-1",
   "metadata": {
    "vscode": {
     "languageId": "python"
    }
   },
   "outputs": [],
   "source": [
    "s1 = 'This is a string.'\n",
    "s2 = \"This is also a string.\"\n",
    "s3 = \"It's a string with an apostrophe.\"\n",
    "s4 = 'He said, \"Hello!\"'\n",
    "s5 = \"\"\"This is a\n",
    "multi-line\n",
    "string.\"\"\"\n",
    "\n",
    "print(s1)\n",
    "print(s5)"
   ]
  },
  {
   "cell_type": "markdown",
   "id": "lesson4-md-3",
   "metadata": {},
   "source": [
    "### 4.2 Indexing and Slicing\n",
    "\n",
    "Access individual characters using indexing (0-based) and subsequences using slicing `[start:stop:step]`."
   ]
  },
  {
   "cell_type": "code",
   "execution_count": null,
   "id": "lesson4-code-2",
   "metadata": {
    "vscode": {
     "languageId": "python"
    }
   },
   "outputs": [],
   "source": [
    "text = \"Python Programming\"\n",
    "\n",
    "# Indexing\n",
    "print(f\"First char: {text[0]}\")  # P\n",
    "print(f\"Last char: {text[-1]}\") # g (negative index counts from end)\n",
    "\n",
    "# Slicing\n",
    "print(f\"Slice [0:6]: {text[0:6]}\") # Python (index 6 is exclusive)\n",
    "print(f\"Slice [:6]: {text[:6]}\")   # Python (start defaults to 0)\n",
    "print(f\"Slice [7:]: {text[7:]}\")   # Programming (end defaults to length)\n",
    "print(f\"Slice [-11:]: {text[-11:]}\")# Programming\n",
    "print(f\"Slice [::2]: {text[::2]}\")  # Pto rgamn (every 2nd char)\n",
    "print(f\"Reverse [::-1]: {text[::-1]}\") # gnimmargorP nohtyP"
   ]
  },
  {
   "cell_type": "markdown",
   "id": "lesson4-md-4",
   "metadata": {},
   "source": [
    "### 4.3 Immutability\n",
    "\n",
    "Strings are **immutable**. You cannot change a character within a string directly. Operations that seem to modify strings actually create new strings."
   ]
  },
  {
   "cell_type": "code",
   "execution_count": null,
   "id": "lesson4-code-3",
   "metadata": {
    "vscode": {
     "languageId": "python"
    }
   },
   "outputs": [],
   "source": [
    "my_string = \"Hello\"\n",
    "# my_string[0] = 'J' # This will cause a TypeError\n",
    "\n",
    "# To change, create a new string\n",
    "new_string = \"J\" + my_string[1:]\n",
    "print(f\"Original: {my_string}\")\n",
    "print(f\"New: {new_string}\")"
   ]
  },
  {
   "cell_type": "markdown",
   "id": "lesson4-md-5",
   "metadata": {},
   "source": [
    "### 4.4 Common String Methods\n",
    "\n",
    "Strings have many useful built-in methods (they return new strings, as strings are immutable):\n",
    "*   `len(s)`: Returns the length of the string.\n",
    "*   `s.lower()`: Returns a lowercase version.\n",
    "*   `s.upper()`: Returns an uppercase version.\n",
    "*   `s.strip()`: Removes leading/trailing whitespace.\n",
    "*   `s.lstrip()` / `s.rstrip()`: Remove only leading/trailing whitespace.\n",
    "*   `s.startswith(prefix)` / `s.endswith(suffix)`: Check if string starts/ends with a prefix/suffix.\n",
    "*   `s.find(sub)`: Returns the lowest index where substring `sub` is found, or -1 if not found.\n",
    "*   `s.index(sub)`: Similar to `find`, but raises `ValueError` if `sub` is not found.\n",
    "*   `s.replace(old, new)`: Replaces all occurrences of `old` with `new`.\n",
    "*   `s.split(sep)`: Splits the string into a list of substrings using `sep` as a delimiter (default is whitespace).\n",
    "*   `sep.join(iterable)`: Joins elements of an iterable (like a list of strings) into a single string, using `sep` as the separator."
   ]
  },
  {
   "cell_type": "code",
   "execution_count": null,
   "id": "lesson4-code-4",
   "metadata": {
    "vscode": {
     "languageId": "python"
    }
   },
   "outputs": [],
   "source": [
    "data = \"  Some data, with spaces.  \"\n",
    "print(f\"Length: {len(data)}\")\n",
    "print(f\"Stripped: '{data.strip()}'\")\n",
    "print(f\"Uppercase: {data.upper()}\")\n",
    "print(f\"Find 'data': {data.find('data')}\")\n",
    "print(f\"Find 'xyz': {data.find('xyz')}\")\n",
    "print(f\"Replace spaces: {data.replace(' ', '_')}\")\n",
    "\n",
    "words = data.strip().split(',') # Split by comma\n",
    "print(f\"Split by ',': {words}\")\n",
    "\n",
    "sentence = \"This is a sample sentence.\"\n",
    "word_list = sentence.split() # Split by whitespace\n",
    "print(f\"Split by space: {word_list}\")\n",
    "\n",
    "joined_string = \"--\".join(word_list)\n",
    "print(f\"Joined with '--': {joined_string}\")"
   ]
  },
  {
   "cell_type": "markdown",
   "id": "lesson4-md-6",
   "metadata": {},
   "source": [
    "### 4.5 String Formatting\n",
    "\n",
    "Modern Python primarily uses **f-strings** (formatted string literals) for embedding expressions inside string literals."
   ]
  },
  {
   "cell_type": "code",
   "execution_count": null,
   "id": "lesson4-code-5",
   "metadata": {
    "vscode": {
     "languageId": "python"
    }
   },
   "outputs": [],
   "source": [
    "name = \"Bob\"\n",
    "age = 25\n",
    "pi = 3.14159265\n",
    "\n",
    "# f-string formatting\n",
    "greeting = f\"Hello, my name is {name} and I am {age} years old.\"\n",
    "print(greeting)\n",
    "\n",
    "# f-strings with format specifiers\n",
    "print(f\"Pi rounded to 2 decimal places: {pi:.2f}\")\n",
    "print(f\"Age represented with padding: {age:03d}\") # Pad with zeros to width 3\n",
    "print(f\"Value aligned in 10 spaces: {age:>10}\") # Right-align in 10 spaces\n",
    "\n",
    "# Older .format() method (still works)\n",
    "older_greeting = \"Hello, my name is {} and I am {} years old.\".format(name, age)\n",
    "print(older_greeting)\n",
    "\n",
    "# Even older % formatting (generally avoid in new code)\n",
    "oldest_greeting = \"Hello, my name is %s and I am %d years old.\" % (name, age)\n",
    "print(oldest_greeting)"
   ]
  },
  {
   "cell_type": "markdown",
   "id": "lesson5-md-1",
   "metadata": {},
   "source": [
    "## Lesson 5: Lists\n",
    "\n",
    "This lesson covers Python's versatile list data structure."
   ]
  },
  {
   "cell_type": "markdown",
   "id": "lesson5-md-2",
   "metadata": {},
   "source": [
    "### 5.1 Creating and Accessing Lists\n",
    "\n",
    "Lists are ordered, mutable (changeable) sequences of items, enclosed in square brackets `[]`. Items can be of different types."
   ]
  },
  {
   "cell_type": "code",
   "execution_count": null,
   "id": "lesson5-code-1",
   "metadata": {
    "vscode": {
     "languageId": "python"
    }
   },
   "outputs": [],
   "source": [
    "empty_list = []\n",
    "numbers = [1, 2, 3, 5, 8]\n",
    "mixed_list = [\"apple\", 3.14, True, None, [10, 20]]\n",
    "\n",
    "print(f\"Numbers list: {numbers}\")\n",
    "print(f\"Mixed list: {mixed_list}\")\n",
    "\n",
    "# Accessing (like strings)\n",
    "print(f\"First number: {numbers[0]}\")\n",
    "print(f\"Last item in mixed: {mixed_list[-1]}\")\n",
    "print(f\"Nested list item: {mixed_list[-1][0]}\") # Access item within nested list\n",
    "\n",
    "# Slicing (like strings)\n",
    "print(f\"Slice of numbers [1:4]: {numbers[1:4]}\") # [2, 3, 5]"
   ]
  },
  {
   "cell_type": "markdown",
   "id": "lesson5-md-3",
   "metadata": {},
   "source": [
    "### 5.2 Mutability\n",
    "\n",
    "Unlike strings, lists are **mutable**. You can change individual items, add new items, or remove items."
   ]
  },
  {
   "cell_type": "code",
   "execution_count": null,
   "id": "lesson5-code-2",
   "metadata": {
    "vscode": {
     "languageId": "python"
    }
   },
   "outputs": [],
   "source": [
    "colors = [\"red\", \"green\", \"blue\"]\n",
    "print(f\"Original colors: {colors}\")\n",
    "\n",
    "# Change an item\n",
    "colors[1] = \"yellow\"\n",
    "print(f\"After modification: {colors}\")\n",
    "\n",
    "# Modify using slice assignment\n",
    "colors[0:2] = [\"orange\", \"purple\"]\n",
    "print(f\"After slice assignment: {colors}\")"
   ]
  },
  {
   "cell_type": "markdown",
   "id": "lesson5-md-4",
   "metadata": {},
   "source": [
    "### 5.3 Common List Methods\n",
    "\n",
    "Methods that modify the list in-place:\n",
    "*   `list.append(item)`: Adds `item` to the end.\n",
    "*   `list.insert(index, item)`: Inserts `item` at `index`.\n",
    "*   `list.extend(iterable)`: Appends all items from `iterable` to the end.\n",
    "*   `list.pop(index=-1)`: Removes and returns item at `index` (default: last item).\n",
    "*   `list.remove(item)`: Removes the first occurrence of `item`. Raises `ValueError` if not found.\n",
    "*   `list.sort(key=None, reverse=False)`: Sorts the list in-place.\n",
    "*   `list.reverse()`: Reverses the list in-place.\n",
    "\n",
    "Methods that return information or new lists:\n",
    "*   `len(list)`: Returns the number of items.\n",
    "*   `list.index(item)`: Returns the index of the first occurrence of `item`. Raises `ValueError` if not found.\n",
    "*   `list.count(item)`: Returns the number of times `item` appears.\n",
    "*   `sorted(list, key=None, reverse=False)`: Returns a *new* sorted list (doesn't modify the original)."
   ]
  },
  {
   "cell_type": "code",
   "execution_count": null,
   "id": "lesson5-code-3",
   "metadata": {
    "vscode": {
     "languageId": "python"
    }
   },
   "outputs": [],
   "source": [
    "items = [10, 30, 20]\n",
    "print(f\"Initial items: {items}\")\n",
    "\n",
    "items.append(40)\n",
    "print(f\"After append(40): {items}\")\n",
    "\n",
    "items.insert(1, 15) # Insert 15 at index 1\n",
    "print(f\"After insert(1, 15): {items}\")\n",
    "\n",
    "items.extend([50, 60])\n",
    "print(f\"After extend([50, 60]): {items}\")\n",
    "\n",
    "popped_item = items.pop() # Remove last item\n",
    "print(f\"Popped item: {popped_item}, List now: {items}\")\n",
    "\n",
    "items.remove(30)\n",
    "print(f\"After remove(30): {items}\")\n",
    "\n",
    "items.sort() # In-place sort\n",
    "print(f\"After sort(): {items}\")\n",
    "\n",
    "items.reverse() # In-place reverse\n",
    "print(f\"After reverse(): {items}\")\n",
    "\n",
    "print(f\"Count of 10: {items.count(10)}\")\n",
    "print(f\"Index of 20: {items.index(20)}\")\n",
    "\n",
    "unsorted_nums = [5, 1, 4, 2, 3]\n",
    "sorted_copy = sorted(unsorted_nums) # Create a new sorted list\n",
    "print(f\"Original unsorted: {unsorted_nums}\")\n",
    "print(f\"New sorted copy: {sorted_copy}\")"
   ]
  },
  {
   "cell_type": "markdown",
   "id": "lesson5-md-5",
   "metadata": {},
   "source": [
    "### 5.4 List Comprehensions\n",
    "\n",
    "A concise way to create lists based on existing iterables. Often more readable and efficient than traditional loops for simple list creation.\n",
    "\n",
    "**Syntax:** `[expression for item in iterable if condition]`"
   ]
  },
  {
   "cell_type": "code",
   "execution_count": null,
   "id": "lesson5-code-4",
   "metadata": {
    "vscode": {
     "languageId": "python"
    }
   },
   "outputs": [],
   "source": [
    "# Example 1: Squares of numbers 0 to 9\n",
    "squares = []\n",
    "for x in range(10):\n",
    "    squares.append(x**2)\n",
    "print(f\"Squares (loop): {squares}\")\n",
    "\n",
    "squares_comp = [x**2 for x in range(10)]\n",
    "print(f\"Squares (comp): {squares_comp}\")\n",
    "\n",
    "# Example 2: Even numbers from 0 to 19\n",
    "evens = []\n",
    "for x in range(20):\n",
    "    if x % 2 == 0:\n",
    "        evens.append(x)\n",
    "print(f\"Evens (loop): {evens}\")\n",
    "\n",
    "evens_comp = [x for x in range(20) if x % 2 == 0]\n",
    "print(f\"Evens (comp): {evens_comp}\")\n",
    "\n",
    "# Example 3: Extract first letters and uppercase\n",
    "words = [\"apple\", \"banana\", \"cherry\"]\n",
    "first_letters = [word[0].upper() for word in words]\n",
    "print(f\"First letters: {first_letters}\")\n",
    "\n",
    "# Example 4: Nested list comprehension (creating pairs)\n",
    "pairs = [(x, y) for x in [1, 2] for y in ['a', 'b']]\n",
    "print(f\"Pairs: {pairs}\") # [(1, 'a'), (1, 'b'), (2, 'a'), (2, 'b')]"
   ]
  },
  {
   "cell_type": "markdown",
   "id": "lesson6-md-1",
   "metadata": {},
   "source": [
    "## Lesson 6: Conditionals\n",
    "\n",
    "This lesson covers how to control program flow based on conditions."
   ]
  },
  {
   "cell_type": "markdown",
   "id": "lesson6-md-2",
   "metadata": {},
   "source": [
    "### 6.1 `if`, `elif`, `else` Statements\n",
    "\n",
    "These statements allow code execution to depend on whether conditions evaluate to `True` or `False`.\n",
    "\n",
    "*   `if condition:`: Executes the block if `condition` is `True`.\n",
    "*   `elif another_condition:`: (Else If) Checked only if the preceding `if` or `elif` conditions were `False`. Executes block if `another_condition` is `True`.\n",
    "*   `else:`: Executes block if all preceding `if` and `elif` conditions were `False`."
   ]
  },
  {
   "cell_type": "code",
   "execution_count": null,
   "id": "lesson6-code-1",
   "metadata": {
    "vscode": {
     "languageId": "python"
    }
   },
   "outputs": [],
   "source": [
    "score = 75\n",
    "\n",
    "if score >= 90:\n",
    "    grade = 'A'\n",
    "elif score >= 80:\n",
    "    grade = 'B'\n",
    "elif score >= 70:\n",
    "    grade = 'C'\n",
    "elif score >= 60:\n",
    "    grade = 'D'\n",
    "else:\n",
    "    grade = 'F'\n",
    "\n",
    "print(f\"Score: {score}, Grade: {grade}\")\n",
    "\n",
    "# Simple if\n",
    "temperature = 5\n",
    "if temperature < 10:\n",
    "    print(\"It's cold!\")\n",
    "\n",
    "# If-else\n",
    "age = 18\n",
    "if age >= 18:\n",
    "    print(\"Adult\")\n",
    "else:\n",
    "    print(\"Minor\")"
   ]
  },
  {
   "cell_type": "markdown",
   "id": "lesson6-md-3",
   "metadata": {},
   "source": [
    "### 6.2 Comparison and Logical Operators\n",
    "\n",
    "Conditions often involve:\n",
    "*   **Comparison Operators:** `==` (equal), `!=` (not equal), `>` (greater than), `<` (less than), `>=` (greater or equal), `<=` (less or equal).\n",
    "*   **Logical Operators:** `and` (True if both operands are True), `or` (True if at least one operand is True), `not` (inverts boolean value)."
   ]
  },
  {
   "cell_type": "code",
   "execution_count": null,
   "id": "lesson6-code-2",
   "metadata": {
    "vscode": {
     "languageId": "python"
    }
   },
   "outputs": [],
   "source": [
    "x = 10\n",
    "y = 20\n",
    "z = 10\n",
    "is_valid = True\n",
    "name = \"Alice\"\n",
    "\n",
    "print(f\"x == z: {x == z}\") # True\n",
    "print(f\"x != y: {x != y}\") # True\n",
    "print(f\"y > x: {y > x}\")   # True\n",
    "\n",
    "print(f\"(x == z) and (y > x): {(x == z) and (y > x)}\") # True and True -> True\n",
    "print(f\"(x == y) or (x < y): {(x == y) or (x < y)}\")   # False or True -> True\n",
    "print(f\"not is_valid: {not is_valid}\")               # not True -> False\n",
    "\n",
    "# Combining multiple conditions\n",
    "if (age >= 18 and name == \"Alice\") or is_valid:\n",
    "    print(\"Condition met.\")"
   ]
  },
  {
   "cell_type": "markdown",
   "id": "lesson6-md-4",
   "metadata": {},
   "source": [
    "### 6.3 Truthiness\n",
    "\n",
    "In conditional contexts, Python evaluates many non-boolean values as `True` or `False`:\n",
    "*   **Considered `False`:** `None`, `False`, zero of any numeric type (`0`, `0.0`), empty sequences (`''`, `[]`, `()`), empty mappings (`{}`).\n",
    "*   **Considered `True`:** All other values, including non-empty strings, lists, tuples, dictionaries, and non-zero numbers."
   ]
  },
  {
   "cell_type": "code",
   "execution_count": null,
   "id": "lesson6-code-3",
   "metadata": {
    "vscode": {
     "languageId": "python"
    }
   },
   "outputs": [],
   "source": [
    "my_list = []\n",
    "my_string = \"Hello\"\n",
    "my_number = 0\n",
    "my_dict = {'a': 1}\n",
    "\n",
    "if my_list:\n",
    "    print(\"List is True (not empty)\") # This won't print\n",
    "else:\n",
    "    print(\"List is False (empty)\")\n",
    "\n",
    "if my_string:\n",
    "    print(\"String is True (not empty)\") # This will print\n",
    "else:\n",
    "    print(\"String is False (empty)\")\n",
    "\n",
    "if my_number:\n",
    "    print(\"Number is True (non-zero)\") # This won't print\n",
    "else:\n",
    "    print(\"Number is False (zero)\")\n",
    "\n",
    "if my_dict:\n",
    "    print(\"Dictionary is True (not empty)\") # This will print"
   ]
  },
  {
   "cell_type": "markdown",
   "id": "lesson6-md-5",
   "metadata": {},
   "source": [
    "### 6.4 Ternary Operator (Conditional Expression)\n",
    "\n",
    "A concise way to assign a value based on a condition.\n",
    "\n",
    "**Syntax:** `value_if_true if condition else value_if_false`"
   ]
  },
  {
   "cell_type": "code",
   "execution_count": null,
   "id": "lesson6-code-4",
   "metadata": {
    "vscode": {
     "languageId": "python"
    }
   },
   "outputs": [],
   "source": [
    "age = 20\n",
    "\n",
    "# Traditional if-else assignment\n",
    "if age >= 18:\n",
    "    status = \"Adult\"\n",
    "else:\n",
    "    status = \"Minor\"\n",
    "print(f\"Status (if-else): {status}\")\n",
    "\n",
    "# Ternary operator assignment\n",
    "status_ternary = \"Adult\" if age >= 18 else \"Minor\"\n",
    "print(f\"Status (ternary): {status_ternary}\")\n",
    "\n",
    "# Can be used directly in expressions\n",
    "print(f\"Allowed access: {'Yes' if age >= 18 else 'No'}\")"
   ]
  },
  {
   "cell_type": "markdown",
   "id": "lesson7-md-1",
   "metadata": {},
   "source": [
    "## Lesson 7: Loops\n",
    "\n",
    "This lesson covers constructs for repeating blocks of code."
   ]
  },
  {
   "cell_type": "markdown",
   "id": "lesson7-md-2",
   "metadata": {},
   "source": [
    "### 7.1 `for` Loops\n",
    "\n",
    "`for` loops iterate over the items of any **iterable** (like lists, tuples, strings, dictionaries, range objects) in the order they appear.\n",
    "\n",
    "**Syntax:** `for item in iterable:`"
   ]
  },
  {
   "cell_type": "code",
   "execution_count": null,
   "id": "lesson7-code-1",
   "metadata": {
    "vscode": {
     "languageId": "python"
    }
   },
   "outputs": [],
   "source": [
    "# Iterate over a list\n",
    "fruits = [\"apple\", \"banana\", \"cherry\"]\n",
    "print(\"Iterating over list:\")\n",
    "for fruit in fruits:\n",
    "    print(fruit)\n",
    "\n",
    "# Iterate over a string\n",
    "print(\"\\nIterating over string:\")\n",
    "for char in \"Python\":\n",
    "    print(char, end=\" \")\n",
    "print()\n",
    "\n",
    "# Iterate using range()\n",
    "# range(stop) -> 0 to stop-1\n",
    "# range(start, stop) -> start to stop-1\n",
    "# range(start, stop, step) -> start to stop-1 with step\n",
    "print(\"\\nIterating with range(5):\")\n",
    "for i in range(5):\n",
    "    print(i, end=\" \")\n",
    "print()\n",
    "\n",
    "print(\"\\nIterating with range(2, 8):\")\n",
    "for i in range(2, 8):\n",
    "    print(i, end=\" \")\n",
    "print()\n",
    "\n",
    "print(\"\\nIterating with range(10, 0, -2):\")\n",
    "for i in range(10, 0, -2):\n",
    "    print(i, end=\" \")\n",
    "print()"
   ]
  },
  {
   "cell_type": "markdown",
   "id": "lesson7-md-3",
   "metadata": {},
   "source": [
    "### 7.2 `while` Loops\n",
    "\n",
    "`while` loops repeat as long as a condition is `True`. It's important to ensure the condition eventually becomes `False` to avoid infinite loops.\n",
    "\n",
    "**Syntax:** `while condition:`"
   ]
  },
  {
   "cell_type": "code",
   "execution_count": null,
   "id": "lesson7-code-2",
   "metadata": {
    "vscode": {
     "languageId": "python"
    }
   },
   "outputs": [],
   "source": [
    "count = 0\n",
    "print(\"\\nWhile loop example:\")\n",
    "while count < 5:\n",
    "    print(f\"Count is {count}\")\n",
    "    count += 1 # Increment count to eventually stop the loop\n",
    "\n",
    "print(\"Loop finished.\")"
   ]
  },
  {
   "cell_type": "markdown",
   "id": "lesson7-md-4",
   "metadata": {},
   "source": [
    "### 7.3 `break` and `continue`\n",
    "\n",
    "*   `break`: Exits the innermost `for` or `while` loop immediately.\n",
    "*   `continue`: Skips the rest of the current iteration and proceeds to the next iteration of the loop."
   ]
  },
  {
   "cell_type": "code",
   "execution_count": null,
   "id": "lesson7-code-3",
   "metadata": {
    "vscode": {
     "languageId": "python"
    }
   },
   "outputs": [],
   "source": [
    "# Example using break\n",
    "print(\"\\nBreak example:\")\n",
    "for i in range(10):\n",
    "    if i == 5:\n",
    "        print(\"Breaking loop\")\n",
    "        break\n",
    "    print(i, end=\" \")\n",
    "print(\"\\nAfter break loop\")\n",
    "\n",
    "# Example using continue\n",
    "print(\"\\nContinue example (skipping odd numbers):\")\n",
    "for i in range(10):\n",
    "    if i % 2 != 0:\n",
    "        continue # Skip the print for odd numbers\n",
    "    print(i, end=\" \")\n",
    "print(\"\\nAfter continue loop\")"
   ]
  },
  {
   "cell_type": "markdown",
   "id": "lesson7-md-5",
   "metadata": {},
   "source": [
    "### 7.4 Loop `else` Clause\n",
    "\n",
    "Both `for` and `while` loops can have an optional `else` block. This block executes only if the loop completes **normally** (i.e., not terminated by a `break` statement)."
   ]
  },
  {
   "cell_type": "code",
   "execution_count": null,
   "id": "lesson7-code-4",
   "metadata": {
    "vscode": {
     "languageId": "python"
    }
   },
   "outputs": [],
   "source": [
    "# Example: Searching for an item\n",
    "items = [\"apple\", \"banana\", \"orange\"]\n",
    "search_item = \"grape\"\n",
    "\n",
    "print(f\"\\nSearching for {search_item}...\")\n",
    "for item in items:\n",
    "    if item == search_item:\n",
    "        print(f\"Found {search_item}!\")\n",
    "        break\n",
    "else: # Executes if the loop finished without break\n",
    "    print(f\"{search_item} not found.\")\n",
    "\n",
    "search_item_2 = \"banana\"\n",
    "print(f\"\\nSearching for {search_item_2}...\")\n",
    "for item in items:\n",
    "    if item == search_item_2:\n",
    "        print(f\"Found {search_item_2}!\")\n",
    "        break\n",
    "else:\n",
    "    print(f\"{search_item_2} not found.\") # This else won't execute"
   ]
  },
  {
   "cell_type": "markdown",
   "id": "lesson7-md-6",
   "metadata": {},
   "source": [
    "### 7.5 Advanced Iteration Tools\n",
    "\n",
    "*   **`enumerate(iterable, start=0)`:** Returns an iterator yielding pairs of `(index, item)`.\n",
    "*   **`zip(*iterables)`:** Returns an iterator yielding tuples, where the i-th tuple contains the i-th element from each of the input iterables. Stops when the shortest input iterable is exhausted."
   ]
  },
  {
   "cell_type": "code",
   "execution_count": null,
   "id": "lesson7-code-5",
   "metadata": {
    "vscode": {
     "languageId": "python"
    }
   },
   "outputs": [],
   "source": [
    "# Enumerate example\n",
    "letters = ['a', 'b', 'c']\n",
    "print(\"\\nEnumerate example:\")\n",
    "for index, letter in enumerate(letters):\n",
    "    print(f\"Index {index}: {letter}\")\n",
    "\n",
    "print(\"\\nEnumerate example (start=1):\")\n",
    "for index, letter in enumerate(letters, start=1):\n",
    "    print(f\"Number {index}: {letter}\")\n",
    "\n",
    "# Zip example\n",
    "names = [\"Alice\", \"Bob\", \"Charlie\"]\n",
    "scores = [85, 92, 78]\n",
    "ids = [101, 102, 103]\n",
    "\n",
    "print(\"\\nZip example:\")\n",
    "for name, score, user_id in zip(names, scores, ids):\n",
    "    print(f\"ID: {user_id}, Name: {name}, Score: {score}\")\n",
    "\n",
    "# Zip stops at shortest iterable\n",
    "short_list = [1, 2]\n",
    "long_list = ['a', 'b', 'c']\n",
    "print(\"\\nZip with different lengths:\")\n",
    "for num, char in zip(short_list, long_list):\n",
    "    print(f\"Pair: ({num}, {char})\")"
   ]
  },
  {
   "cell_type": "markdown",
   "id": "lesson8-md-1",
   "metadata": {},
   "source": [
    "## Lesson 8: Tuples\n",
    "\n",
    "This lesson introduces tuples, an immutable sequence type."
   ]
  },
  {
   "cell_type": "markdown",
   "id": "lesson8-md-2",
   "metadata": {},
   "source": [
    "### 8.1 Creating and Accessing Tuples\n",
    "\n",
    "Tuples are ordered, **immutable** sequences, enclosed in parentheses `()`. A comma `,` is the key element that defines a tuple, especially for single-item tuples."
   ]
  },
  {
   "cell_type": "code",
   "execution_count": null,
   "id": "lesson8-code-1",
   "metadata": {
    "vscode": {
     "languageId": "python"
    }
   },
   "outputs": [],
   "source": [
    "empty_tuple = ()\n",
    "point = (10, 20) # 2D point\n",
    "rgb_color = (255, 0, 128)\n",
    "mixed_tuple = (\"apple\", 3.14, True)\n",
    "\n",
    "# Parentheses are optional in many contexts if unambiguous\n",
    "another_tuple = 1, 2, 3\n",
    "print(f\"Another tuple: {another_tuple}, type: {type(another_tuple)}\")\n",
    "\n",
    "# Single-item tuple REQUIRES a comma\n",
    "single_item_tuple = (99,)\n",
    "not_a_tuple = (99)\n",
    "print(f\"Single item tuple: {single_item_tuple}, type: {type(single_item_tuple)}\")\n",
    "print(f\"Not a tuple: {not_a_tuple}, type: {type(not_a_tuple)}\")\n",
    "\n",
    "# Accessing (like lists/strings)\n",
    "print(f\"X coordinate: {point[0]}\")\n",
    "print(f\"Blue value: {rgb_color[2]}\")\n",
    "\n",
    "# Slicing (like lists/strings)\n",
    "print(f\"First two items of mixed: {mixed_tuple[:2]}\")"
   ]
  },
  {
   "cell_type": "markdown",
   "id": "lesson8-md-3",
   "metadata": {},
   "source": [
    "### 8.2 Immutability\n",
    "\n",
    "Like strings, tuples cannot be changed after creation. You cannot reassign items or use methods like `append` or `sort`."
   ]
  },
  {
   "cell_type": "code",
   "execution_count": null,
   "id": "lesson8-code-2",
   "metadata": {
    "vscode": {
     "languageId": "python"
    }
   },
   "outputs": [],
   "source": [
    "my_tuple = (1, 2, 3)\n",
    "# my_tuple[0] = 100 # TypeError: 'tuple' object does not support item assignment\n",
    "\n",
    "# If a tuple contains mutable items (like a list), the item itself can be changed\n",
    "mutable_in_tuple = ([1, 2], [3, 4])\n",
    "print(f\"Original mutable tuple: {mutable_in_tuple}\")\n",
    "mutable_in_tuple[0].append(99) # Modify the list inside the tuple\n",
    "print(f\"Modified mutable tuple: {mutable_in_tuple}\")\n",
    "# mutable_in_tuple[0] = [5,6] # This is still illegal - cannot reassign the tuple element"
   ]
  },
  {
   "cell_type": "markdown",
   "id": "lesson8-md-4",
   "metadata": {},
   "source": [
    "### 8.3 When to Use Tuples\n",
    "\n",
    "*   **Fixed Collections:** When you have a collection of items that shouldn't change (e.g., coordinates, RGB values).\n",
    "*   **Dictionary Keys:** Since tuples are immutable, they can be used as keys in dictionaries (lists cannot).\n",
    "*   **Returning Multiple Values:** Functions often return multiple values packed as a tuple.\n",
    "*   **Readability/Intent:** Using a tuple signals that the sequence is not intended to be modified.\n",
    "*   **Performance:** Tuples can be slightly more memory-efficient and faster to iterate over than lists (though often negligible)."
   ]
  },
  {
   "cell_type": "markdown",
   "id": "lesson8-md-5",
   "metadata": {},
   "source": [
    "### 8.4 Tuple Packing and Unpacking\n",
    "\n",
    "*   **Packing:** Creating a tuple by assigning a sequence of values to a single variable.\n",
    "*   **Unpacking:** Assigning the items of a tuple (or any sequence) to multiple variables."
   ]
  },
  {
   "cell_type": "code",
   "execution_count": null,
   "id": "lesson8-code-3",
   "metadata": {
    "vscode": {
     "languageId": "python"
    }
   },
   "outputs": [],
   "source": [
    "# Packing\n",
    "packed_tuple = 10, 20, \"hello\" # Creates tuple (10, 20, \"hello\")\n",
    "print(f\"Packed: {packed_tuple}\")\n",
    "\n",
    "# Unpacking\n",
    "coordinates = (5, 8)\n",
    "x, y = coordinates # Assigns 5 to x, 8 to y\n",
    "print(f\"Unpacked: x={x}, y={y}\")\n",
    "\n",
    "# Unpacking in loops\n",
    "points = [(1, 2), (3, 4), (5, 6)]\n",
    "print(\"Unpacking in loop:\")\n",
    "for px, py in points:\n",
    "    print(f\"  Point: ({px}, {py})\")\n",
    "\n",
    "# Extended unpacking (using *)\n",
    "numbers = (1, 2, 3, 4, 5)\n",
    "first, second, *rest = numbers\n",
    "print(f\"Extended unpack: first={first}, second={second}, rest={rest}\")\n",
    "first, *middle, last = numbers\n",
    "print(f\"Extended unpack: first={first}, middle={middle}, last={last}\")\n",
    "\n",
    "# Swapping variables uses tuple packing/unpacking\n",
    "a = 100\n",
    "b = 200\n",
    "a, b = b, a # pack (b, a) then unpack into a, b\n",
    "print(f\"Swapped: a={a}, b={b}\")"
   ]
  },
  {
   "cell_type": "markdown",
   "id": "lesson8-md-6",
   "metadata": {},
   "source": [
    "### 8.5 Named Tuples\n",
    "\n",
    "For more readable access to tuple elements, use `collections.namedtuple`. It creates tuple subclasses with named fields."
   ]
  },
  {
   "cell_type": "code",
   "execution_count": null,
   "id": "lesson8-code-4",
   "metadata": {
    "vscode": {
     "languageId": "python"
    }
   },
   "outputs": [],
   "source": [
    "from collections import namedtuple\n",
    "\n",
    "# Define a named tuple 'Point'\n",
    "Point = namedtuple(\"Point\", [\"x\", \"y\"])\n",
    "\n",
    "# Create instances\n",
    "p1 = Point(10, 20)\n",
    "p2 = Point(x=5, y=15)\n",
    "\n",
    "print(f\"Named tuple p1: {p1}\")\n",
    "print(f\"Named tuple p2: {p2}\")\n",
    "\n",
    "# Access by name or index\n",
    "print(f\"p1.x = {p1.x}, p1[0] = {p1[0]}\")\n",
    "print(f\"p2.y = {p2.y}, p2[1] = {p2[1]}\")\n",
    "\n",
    "# Still immutable\n",
    "# p1.x = 100 # AttributeError: can't set attribute"
   ]
  },
  {
   "cell_type": "markdown",
   "id": "lesson9-md-1",
   "metadata": {},
   "source": [
    "## Lesson 9: Dictionaries\n",
    "\n",
    "This lesson covers dictionaries, Python's mapping type."
   ]
  },
  {
   "cell_type": "markdown",
   "id": "lesson9-md-2",
   "metadata": {},
   "source": [
    "### 9.1 Creating and Accessing Dictionaries\n",
    "\n",
    "Dictionaries store data as **key-value pairs**, enclosed in curly braces `{}`. They are unordered (prior to Python 3.7) or insertion-ordered (Python 3.7+), mutable collections.\n",
    "*   **Keys:** Must be unique and **immutable** (strings, numbers, tuples containing only immutables are common keys).\n",
    "*   **Values:** Can be any Python object (including lists or other dictionaries)."
   ]
  },
  {
   "cell_type": "code",
   "execution_count": null,
   "id": "lesson9-code-1",
   "metadata": {
    "vscode": {
     "languageId": "python"
    }
   },
   "outputs": [],
   "source": [
    "empty_dict = {}\n",
    "student_scores = {\"Alice\": 85, \"Bob\": 92, \"Charlie\": 78}\n",
    "config = {\n",
    "    \"server\": \"192.168.1.1\",\n",
    "    \"port\": 8080,\n",
    "    \"active\": True,\n",
    "    \"protocols\": [\"HTTP\", \"HTTPS\"]\n",
    "}\n",
    "\n",
    "print(f\"Student scores: {student_scores}\")\n",
    "print(f\"Config: {config}\")\n",
    "\n",
    "# Accessing values using keys\n",
    "print(f\"Bob's score: {student_scores['Bob']}\")\n",
    "print(f\"Server IP: {config['server']}\")\n",
    "\n",
    "# Accessing using .get() - avoids KeyError if key doesn't exist\n",
    "print(f\"David's score: {student_scores.get('David')}\") # Returns None (default)\n",
    "print(f\"David's score (with default): {student_scores.get('David', 'N/A')}\") # Returns 'N/A'\n",
    "\n",
    "# Accessing a non-existent key with [] raises KeyError\n",
    "# print(student_scores['David']) # KeyError"
   ]
  },
  {
   "cell_type": "markdown",
   "id": "lesson9-md-3",
   "metadata": {},
   "source": [
    "### 9.2 Modifying Dictionaries\n",
    "\n",
    "Dictionaries are mutable."
   ]
  },
  {
   "cell_type": "code",
   "execution_count": null,
   "id": "lesson9-code-2",
   "metadata": {
    "vscode": {
     "languageId": "python"
    }
   },
   "outputs": [],
   "source": [
    "scores = {\"Alice\": 85, \"Bob\": 92}\n",
    "print(f\"Initial scores: {scores}\")\n",
    "\n",
    "# Add a new key-value pair\n",
    "scores[\"Charlie\"] = 78\n",
    "print(f\"After adding Charlie: {scores}\")\n",
    "\n",
    "# Update an existing value\n",
    "scores[\"Alice\"] = 88\n",
    "print(f\"After updating Alice: {scores}\")\n",
    "\n",
    "# Remove a key-value pair using del\n",
    "del scores[\"Bob\"]\n",
    "print(f\"After deleting Bob: {scores}\")\n",
    "\n",
    "# Remove using .pop() - returns the value\n",
    "charlie_score = scores.pop(\"Charlie\")\n",
    "print(f\"Popped Charlie's score: {charlie_score}, Dict now: {scores}\")\n",
    "\n",
    "# Update with another dictionary using .update()\n",
    "more_scores = {\"David\": 95, \"Eve\": 70, \"Alice\": 90} # Updates Alice\n",
    "scores.update(more_scores)\n",
    "print(f\"After update: {scores}\")"
   ]
  },
  {
   "cell_type": "markdown",
   "id": "lesson9-md-4",
   "metadata": {},
   "source": [
    "### 9.3 Iterating over Dictionaries\n",
    "\n",
    "You can iterate over keys, values, or key-value pairs (items)."
   ]
  },
  {
   "cell_type": "code",
   "execution_count": null,
   "id": "lesson9-code-3",
   "metadata": {
    "vscode": {
     "languageId": "python"
    }
   },
   "outputs": [],
   "source": [
    "student_scores = {\"Alice\": 85, \"Bob\": 92, \"Charlie\": 78}\n",
    "\n",
    "# Iterate over keys (default iteration behavior)\n",
    "print(\"\\nIterating over keys:\")\n",
    "for name in student_scores:\n",
    "    print(f\"  {name}\")\n",
    "\n",
    "# Explicitly iterate over keys using .keys()\n",
    "print(\"\\nIterating using .keys():\")\n",
    "for name in student_scores.keys():\n",
    "    print(f\"  {name}\")\n",
    "\n",
    "# Iterate over values using .values()\n",
    "print(\"\\nIterating over values:\")\n",
    "for score in student_scores.values():\n",
    "    print(f\"  {score}\")\n",
    "\n",
    "# Iterate over key-value pairs using .items()\n",
    "print(\"\\nIterating over items:\")\n",
    "for name, score in student_scores.items():\n",
    "    print(f\"  {name}: {score}\")\n",
    "\n",
    "# Checking for key existence\n",
    "if \"Bob\" in student_scores:\n",
    "    print(\"\\nBob is in the dictionary.\")\n",
    "\n",
    "if 92 in student_scores.values():\n",
    "    print(\"A score of 92 exists.\")"
   ]
  },
  {
   "cell_type": "markdown",
   "id": "lesson9-md-5",
   "metadata": {},
   "source": [
    "### 9.4 Dictionary Comprehensions\n",
    "\n",
    "Similar to list comprehensions, a concise way to create dictionaries.\n",
    "\n",
    "**Syntax:** `{key_expression: value_expression for item in iterable if condition}`"
   ]
  },
  {
   "cell_type": "code",
   "execution_count": null,
   "id": "lesson9-code-4",
   "metadata": {
    "vscode": {
     "languageId": "python"
    }
   },
   "outputs": [],
   "source": [
    "# Example 1: Create a dictionary of squares\n",
    "squares_dict = {x: x**2 for x in range(5)}\n",
    "print(f\"Squares dictionary: {squares_dict}\")\n",
    "\n",
    "# Example 2: Create dictionary from two lists\n",
    "names = [\"Alice\", \"Bob\", \"Charlie\"]\n",
    "ages = [25, 30, 22]\n",
    "age_dict = {name: age for name, age in zip(names, ages)}\n",
    "print(f\"Age dictionary: {age_dict}\")\n",
    "\n",
    "# Example 3: Create dictionary with a condition\n",
    "numbers = {'a': 1, 'b': 2, 'c': 3, 'd': 4, 'e': 5}\n",
    "even_numbers = {k: v for k, v in numbers.items() if v % 2 == 0}\n",
    "print(f\"Even numbers dictionary: {even_numbers}\")\n",
    "\n",
    "# Example 4: Swapping keys and values (assuming unique values)\n",
    "original_dict = {'x': 10, 'y': 20}\n",
    "swapped_dict = {v: k for k, v in original_dict.items()}\n",
    "print(f\"Swapped dictionary: {swapped_dict}\")"
   ]
  },
  {
   "cell_type": "markdown",
   "id": "lesson10-md-1",
   "metadata": {},
   "source": [
    "## Lesson 10: Files and Exceptions\n",
    "\n",
    "This lesson covers reading from and writing to files, and handling errors using exceptions."
   ]
  },
  {
   "cell_type": "markdown",
   "id": "lesson10-md-2",
   "metadata": {},
   "source": [
    "### 10.1 Working with Files\n",
    "\n",
    "Interacting with files involves opening, reading/writing, and closing.\n",
    "\n",
    "**Opening Files:** `open(filename, mode)`\n",
    "*   `filename`: Path to the file.\n",
    "*   `mode`: A string indicating how the file will be used.\n",
    "    *   `'r'`: Read (default). Error if file doesn't exist.\n",
    "    *   `'w'`: Write. Creates file if it doesn't exist, **overwrites** if it does.\n",
    "    *   `'a'`: Append. Creates file if it doesn't exist, adds to the end if it does.\n",
    "    *   `'r+'`: Read and write.\n",
    "    *   `'b'`: Binary mode (add to other modes, e.g., `'rb'`, `'wb'`). Used for non-text files (images, executables).\n",
    "    *   `'t'`: Text mode (default).\n",
    "\n",
    "**Closing Files:** `file.close()`. Crucial to release resources. **Best Practice:** Use `with open(...)`."
   ]
  },
  {
   "cell_type": "markdown",
   "id": "lesson10-md-3",
   "metadata": {},
   "source": [
    "### 10.2 Reading Files"
   ]
  },
  {
   "cell_type": "code",
   "execution_count": null,
   "id": "lesson10-code-1",
   "metadata": {
    "vscode": {
     "languageId": "python"
    }
   },
   "outputs": [],
   "source": [
    "# Create a sample file first (for reading examples)\n",
    "try:\n",
    "    with open(\"sample.txt\", \"w\") as f:\n",
    "        f.write(\"This is the first line.\\n\")\n",
    "        f.write(\"This is the second line.\\n\")\n",
    "        f.write(\"And a third line.\")\n",
    "except IOError as e:\n",
    "    print(f\"Error creating sample file: {e}\")\n",
    "\n",
    "# Method 1: Read entire file content\n",
    "print(\"--- Reading entire file ---\")\n",
    "try:\n",
    "    with open(\"sample.txt\", \"r\") as file:\n",
    "        content = file.read()\n",
    "        print(content)\n",
    "except FileNotFoundError:\n",
    "    print(\"Error: sample.txt not found.\")\n",
    "except IOError as e:\n",
    "    print(f\"Error reading file: {e}\")\n",
    "\n",
    "# Method 2: Read line by line\n",
    "print(\"\\n--- Reading line by line ---\")\n",
    "try:\n",
    "    with open(\"sample.txt\", \"r\") as file:\n",
    "        for line in file: # File objects are iterable\n",
    "            print(line.strip()) # strip() removes leading/trailing whitespace (incl. newline)\n",
    "except FileNotFoundError:\n",
    "    print(\"Error: sample.txt not found.\")\n",
    "except IOError as e:\n",
    "    print(f\"Error reading file: {e}\")\n",
    "\n",
    "# Method 3: Read all lines into a list\n",
    "print(\"\\n--- Reading all lines into list ---\")\n",
    "try:\n",
    "    with open(\"sample.txt\", \"r\") as file:\n",
    "        lines = file.readlines() # Reads all lines into a list of strings\n",
    "        print(lines)\n",
    "        # Process the list\n",
    "        for line in lines:\n",
    "            print(f\"Line from list: {line.strip()}\")\n",
    "except FileNotFoundError:\n",
    "    print(\"Error: sample.txt not found.\")\n",
    "except IOError as e:\n",
    "    print(f\"Error reading file: {e}\")"
   ]
  },
  {
   "cell_type": "markdown",
   "id": "lesson10-md-4",
   "metadata": {},
   "source": [
    "### 10.3 Writing Files\n",
    "\n",
    "Use `'w'` (overwrite) or `'a'` (append) mode.\n",
    "*   `file.write(string)`: Writes the string to the file. Doesn't automatically add a newline.\n",
    "*   `file.writelines(list_of_strings)`: Writes each string from the list to the file."
   ]
  },
  {
   "cell_type": "code",
   "execution_count": null,
   "id": "lesson10-code-2",
   "metadata": {
    "vscode": {
     "languageId": "python"
    }
   },
   "outputs": [],
   "source": [
    "# Writing using 'w' (overwrites existing file)\n",
    "try:\n",
    "    with open(\"output.txt\", \"w\") as f:\n",
    "        f.write(\"Hello from Python!\\n\")\n",
    "        f.write(f\"The value is {10 * 5}\\n\")\n",
    "        lines_to_write = [\"Line A\\n\", \"Line B\\n\", \"Line C\\n\"]\n",
    "        f.writelines(lines_to_write)\n",
    "    print(\"Successfully wrote to output.txt\")\n",
    "except IOError as e:\n",
    "    print(f\"Error writing to file: {e}\")\n",
    "\n",
    "# Appending using 'a'\n",
    "try:\n",
    "    with open(\"output.txt\", \"a\") as f:\n",
    "        f.write(\"This line was appended.\\n\")\n",
    "    print(\"Successfully appended to output.txt\")\n",
    "except IOError as e:\n",
    "    print(f\"Error appending to file: {e}\")"
   ]
  },
  {
   "cell_type": "markdown",
   "id": "lesson10-md-5",
   "metadata": {},
   "source": [
    "### 10.4 Context Manager: `with open(...)`\n",
    "\n",
    "Using `with open(...) as file_variable:` is the **recommended** way to work with files. It automatically ensures the file is closed properly, even if errors occur within the `with` block."
   ]
  },
  {
   "cell_type": "markdown",
   "id": "lesson10-md-6",
   "metadata": {},
   "source": [
    "### 10.5 Exception Handling\n",
    "\n",
    "Errors detected during execution are called **exceptions**. Unhandled exceptions cause the program to crash. Use `try...except` blocks to handle potential errors gracefully.\n",
    "\n",
    "*   **`try:`** Block containing code that might raise an exception.\n",
    "*   **`except ExceptionType:`** Block that executes if an exception of `ExceptionType` occurs in the `try` block.\n",
    "*   **`else:`** (Optional) Block that executes if *no* exceptions occurred in the `try` block.\n",
    "*   **`finally:`** (Optional) Block that *always* executes, regardless of whether an exception occurred or not (useful for cleanup)."
   ]
  },
  {
   "cell_type": "code",
   "execution_count": null,
   "id": "lesson10-code-3",
   "metadata": {
    "vscode": {
     "languageId": "python"
    }
   },
   "outputs": [],
   "source": [
    "# Example 1: Handling potential division by zero\n",
    "numerator = 10\n",
    "denominator = 0\n",
    "\n",
    "try:\n",
    "    result = numerator / denominator\n",
    "    print(f\"Result: {result}\")\n",
    "except ZeroDivisionError:\n",
    "    print(\"Error: Cannot divide by zero!\")\n",
    "finally:\n",
    "    print(\"Division attempt finished.\")\n",
    "\n",
    "# Example 2: Handling multiple specific exceptions and general exceptions\n",
    "try:\n",
    "    value = int(input(\"Enter a number: \"))\n",
    "    result = 100 / value\n",
    "    print(f\"100 / {value} = {result}\")\n",
    "except ValueError:\n",
    "    print(\"Invalid input. Please enter a number.\")\n",
    "except ZeroDivisionError:\n",
    "    print(\"Error: Cannot divide by zero.\")\n",
    "except Exception as e: # Catch any other exception\n",
    "    print(f\"An unexpected error occurred: {e}\")\n",
    "    print(f\"Error type: {type(e).__name__}\")\n",
    "else:\n",
    "    print(\"Calculation successful!\")\n",
    "finally:\n",
    "    print(\"Input and calculation block finished.\")\n",
    "\n",
    "# Example 3: Raising an exception\n",
    "def calculate_average(scores):\n",
    "    if not scores: # Check if list is empty\n",
    "        raise ValueError(\"Input list cannot be empty to calculate average.\")\n",
    "    return sum(scores) / len(scores)\n",
    "\n",
    "try:\n",
    "    avg = calculate_average([])\n",
    "    print(f\"Average: {avg}\")\n",
    "except ValueError as e:\n",
    "    print(f\"Error in calculation: {e}\")"
   ]
  },
  {
   "cell_type": "markdown",
   "id": "lesson11-md-1",
   "metadata": {},
   "source": [
    "## Lesson 11: Functions\n",
    "\n",
    "This lesson covers defining and using functions to organize code and promote reusability."
   ]
  },
  {
   "cell_type": "markdown",
   "id": "lesson11-md-2",
   "metadata": {},
   "source": [
    "### 11.1 Defining and Calling Functions\n",
    "\n",
    "Functions are defined using the `def` keyword, followed by the function name, parentheses `()` for parameters, and a colon `:`. The indented block below is the function body.\n",
    "\n",
    "**Syntax:**\n",
    "```python\n",
    "def function_name(parameter1, parameter2, ...):\n",
    "    \"\"\"Optional docstring explaining the function.\"\"\"\n",
    "    # Function body (code to execute)\n",
    "    # ...\n",
    "    return value # Optional return statement\n",
    "```"
   ]
  },
  {
   "cell_type": "code",
   "execution_count": null,
   "id": "lesson11-code-1",
   "metadata": {
    "vscode": {
     "languageId": "python"
    }
   },
   "outputs": [],
   "source": [
    "# Function definition\n",
    "def greet(name):\n",
    "    \"\"\"Prints a simple greeting.\"\"\"\n",
    "    print(f\"Hello, {name}!\")\n",
    "\n",
    "def add_numbers(x, y):\n",
    "    \"\"\"Returns the sum of two numbers.\"\"\"\n",
    "    return x + y\n",
    "\n",
    "# Function calls\n",
    "greet(\"Alice\")\n",
    "greet(\"Bob\")\n",
    "\n",
    "sum_result = add_numbers(5, 3)\n",
    "print(f\"The sum is: {sum_result}\")\n",
    "\n",
    "# Function without parameters or return value (implicitly returns None)\n",
    "def print_separator():\n",
    "    print(\"-\" * 20)\n",
    "\n",
    "print_separator()"
   ]
  },
  {
   "cell_type": "markdown",
   "id": "lesson11-md-3",
   "metadata": {},
   "source": [
    "### 11.2 Parameters and Arguments\n",
    "\n",
    "*   **Parameters:** Variables listed inside the parentheses in the function definition.\n",
    "*   **Arguments:** Values passed to the function when it is called.\n",
    "\n",
    "Python supports:\n",
    "*   **Positional Arguments:** Matched based on order.\n",
    "*   **Keyword Arguments:** Matched based on parameter name (`name=value`). Allow changing order and improve clarity.\n",
    "*   **Default Argument Values:** Parameters can have default values, making the corresponding arguments optional during the call."
   ]
  },
  {
   "cell_type": "code",
   "execution_count": null,
   "id": "lesson11-code-2",
   "metadata": {
    "vscode": {
     "languageId": "python"
    }
   },
   "outputs": [],
   "source": [
    "def describe_pet(pet_name, animal_type=\"dog\"): # animal_type has a default value\n",
    "    \"\"\"Displays information about a pet.\"\"\"\n",
    "    print(f\"I have a {animal_type}.\")\n",
    "    print(f\"My {animal_type}'s name is {pet_name.title()}.\\n\")\n",
    "\n",
    "# Positional arguments\n",
    "describe_pet(\"willie\", \"hamster\")\n",
    "\n",
    "# Keyword arguments (order doesn't matter)\n",
    "describe_pet(animal_type=\"cat\", pet_name=\"whiskers\")\n",
    "\n",
    "# Using default value for animal_type\n",
    "describe_pet(\"buddy\")\n",
    "\n",
    "# Mixing positional and keyword (positional must come first)\n",
    "describe_pet(\"goldie\", animal_type=\"fish\")\n",
    "\n",
    "# This is wrong: describe_pet(pet_name=\"max\", \"dog\") # Positional after keyword"
   ]
  },
  {
   "cell_type": "markdown",
   "id": "lesson11-md-4",
   "metadata": {},
   "source": [
    "### 11.3 Scope\n",
    "\n",
    "*   **Local Scope:** Variables defined inside a function are local to that function and cannot be accessed outside it.\n",
    "*   **Global Scope:** Variables defined outside any function are global and can be accessed (but not reassigned directly without `global` keyword) from within functions.\n",
    "*   **`global` Keyword:** Used inside a function to indicate that an assignment should modify a global variable instead of creating a new local one (use sparingly).\n",
    "*   **`nonlocal` Keyword:** Used in nested functions to modify a variable in the nearest enclosing (non-global) scope."
   ]
  },
  {
   "cell_type": "code",
   "execution_count": null,
   "id": "lesson11-code-3",
   "metadata": {
    "vscode": {
     "languageId": "python"
    }
   },
   "outputs": [],
   "source": [
    "global_var = 100 # Global scope\n",
    "\n",
    "def my_function(param):\n",
    "    local_var = param * 2 # Local scope\n",
    "    print(f\"Inside function: local_var = {local_var}\")\n",
    "    print(f\"Inside function: accessing global_var = {global_var}\")\n",
    "    # global_var = 200 # This would create a NEW local_var shadowing global_var\n",
    "\n",
    "def modify_global():\n",
    "    global global_var # Declare intent to modify the global variable\n",
    "    global_var = 500\n",
    "    print(f\"Inside modify_global: global_var = {global_var}\")\n",
    "\n",
    "my_function(10)\n",
    "print(f\"Outside function: global_var = {global_var}\") # Accessing global\n",
    "# print(local_var) # NameError: local_var is not defined outside the function\n",
    "\n",
    "modify_global()\n",
    "print(f\"Outside function after modify_global: global_var = {global_var}\")"
   ]
  },
  {
   "cell_type": "markdown",
   "id": "lesson11-md-5",
   "metadata": {},
   "source": [
    "### 11.4 Variable-Length Arguments (`*args`, `**kwargs`)\n",
    "\n",
    "*   **`*args` (Arbitrary Positional Arguments):** Collects extra positional arguments into a tuple.\n",
    "*   **`**kwargs` (Arbitrary Keyword Arguments):** Collects extra keyword arguments into a dictionary."
   ]
  },
  {
   "cell_type": "code",
   "execution_count": null,
   "id": "lesson11-code-4",
   "metadata": {
    "vscode": {
     "languageId": "python"
    }
   },
   "outputs": [],
   "source": [
    "def process_items(required_arg, *args, **kwargs):\n",
    "    print(f\"Required argument: {required_arg}\")\n",
    "    print(f\"Extra positional arguments (*args): {args}\") # args is a tuple\n",
    "    print(f\"Extra keyword arguments (**kwargs): {kwargs}\") # kwargs is a dict\n",
    "    print(\"---\")\n",
    "\n",
    "process_items(100) # Only required arg\n",
    "process_items(100, 200, 300) # Required + positional args\n",
    "process_items(100, user=\"Alice\", status=\"active\") # Required + keyword args\n",
    "process_items(100, 200, 300, user=\"Bob\", age=30) # Required + positional + keyword"
   ]
  },
  {
   "cell_type": "markdown",
   "id": "lesson11-md-6",
   "metadata": {},
   "source": [
    "### 11.5 Docstrings and Type Hinting\n",
    "\n",
    "*   **Docstrings:** Triple-quoted strings (`\"\"\"Docstring goes here\"\"\"`) placed immediately after the function definition to document what the function does. Used by help() and documentation tools.\n",
    "*   **Type Hinting (PEP 484):** Annotations indicating the expected types of parameters and the return value. Not enforced by the interpreter but used by static analysis tools (like MyPy) and improve code understanding."
   ]
  },
  {
   "cell_type": "code",
   "execution_count": null,
   "id": "lesson11-code-5",
   "metadata": {
    "vscode": {
     "languageId": "python"
    }
   },
   "outputs": [],
   "source": [
    "def calculate_area(length: float, width: float) -> float:\n",
    "    \"\"\"Calculates the area of a rectangle.\n",
    "\n",
    "    Args:\n",
    "        length: The length of the rectangle (float).\n",
    "        width: The width of the rectangle (float).\n",
    "\n",
    "    Returns:\n",
    "        The calculated area (float).\n",
    "    \"\"\"\n",
    "    if length < 0 or width < 0:\n",
    "        raise ValueError(\"Length and width must be non-negative.\")\n",
    "    return length * width\n",
    "\n",
    "# Accessing the docstring\n",
    "print(\"Docstring for calculate_area:\")\n",
    "print(calculate_area.__doc__)\n",
    "\n",
    "# Using the function\n",
    "area = calculate_area(10.5, 4.0)\n",
    "print(f\"\\nCalculated area: {area}\")\n",
    "\n",
    "# Type hints help static analyzers catch potential errors, e.g.:\n",
    "# area_error = calculate_area(\"ten\", 4.0) # MyPy would flag this"
   ]
  },
  {
   "cell_type": "markdown",
   "id": "lesson11-md-7",
   "metadata": {},
   "source": [
    "### 11.6 Lambda Functions\n",
    "\n",
    "Small, anonymous functions defined using the `lambda` keyword. Syntactically restricted to a single expression.\n",
    "\n",
    "**Syntax:** `lambda arguments: expression`"
   ]
  },
  {
   "cell_type": "code",
   "execution_count": null,
   "id": "lesson11-code-6",
   "metadata": {
    "vscode": {
     "languageId": "python"
    }
   },
   "outputs": [],
   "source": [
    "# Lambda function equivalent to def add(x, y): return x + y\n",
    "add_lambda = lambda x, y: x + y\n",
    "print(f\"Lambda add(5, 3): {add_lambda(5, 3)}\")\n",
    "\n",
    "# Often used with functions like sorted(), map(), filter()\n",
    "points = [(1, 5), (3, 2), (5, 8)]\n",
    "\n",
    "# Sort points based on the second element (y-coordinate)\n",
    "points_sorted_y = sorted(points, key=lambda point: point[1])\n",
    "print(f\"Points sorted by y: {points_sorted_y}\")"
   ]
  },
  {
   "cell_type": "markdown",
   "id": "lesson11-md-8",
   "metadata": {},
   "source": [
    "### 11.7 Advanced Sorting with Custom Comparison\n",
    "\n",
    "While `lambda` is common for simple `key` functions in `sorted()` or `list.sort()`, sometimes you need more complex comparison logic, similar to C/C++ `compare` functions or Java `Comparator`. Python 3 removed the `cmp` parameter from `sorted()`, but you can achieve the same result using `functools.cmp_to_key`.\n",
    "\n",
    "A comparison function should take two arguments (`x`, `y`) and return:\n",
    "*   A negative value if `x < y`\n",
    "*   Zero if `x == y`\n",
    "*   A positive value if `x > y`\n",
    "\n",
    "`functools.cmp_to_key(my_comparison_func)` converts this old-style comparison function into a key function suitable for `sorted()`."
   ]
  },
  {
   "cell_type": "code",
   "execution_count": null,
   "id": "lesson11-code-7",
   "metadata": {
    "vscode": {
     "languageId": "python"
    }
   },
   "outputs": [],
   "source": [
    "from functools import cmp_to_key\n",
    "\n",
    "# Example: Sort numbers such that even numbers come before odd numbers,\n",
    "# and within evens/odds, sort in ascending order.\n",
    "\n",
    "def compare_even_odd_ascending(a, b):\n",
    "    \"\"\"Comparison function for sorting.\n",
    "    - Even numbers come before odd numbers.\n",
    "    - Numbers of the same parity are sorted ascendingly.\n",
    "    \"\"\"\n",
    "    a_is_even = (a % 2 == 0)\n",
    "    b_is_even = (b % 2 == 0)\n",
    "\n",
    "    if a_is_even and not b_is_even:\n",
    "        return -1 # a (even) comes before b (odd)\n",
    "    elif not a_is_even and b_is_even:\n",
    "        return 1 # a (odd) comes after b (even)\n",
    "    else: # Both are even or both are odd\n",
    "        # Sort ascendingly: return negative if a < b, zero if a == b, positive if a > b\n",
    "        if a < b:\n",
    "            return -1\n",
    "        elif a > b:\n",
    "            return 1\n",
    "        else:\n",
    "            return 0\n",
    "        # Or simply: return a - b # Works for numeric ascending sort\n",
    "\n",
    "numbers_to_sort = [3, 1, 4, 1, 5, 9, 2, 6, 5, 3, 5]\n",
    "\n",
    "# Convert the comparison function to a key function\n",
    "custom_key = cmp_to_key(compare_even_odd_ascending)\n",
    "\n",
    "sorted_numbers = sorted(numbers_to_sort, key=custom_key)\n",
    "\n",
    "print(f\"Original numbers: {numbers_to_sort}\")\n",
    "print(f\"Custom sorted numbers: {sorted_numbers}\")\n",
    "# Expected output: [2, 4, 6, 1, 1, 3, 3, 5, 5, 5, 9] (Evens ascending, then Odds ascending)\n",
    "\n",
    "# Another example: Sort strings by length, then alphabetically for ties\n",
    "def compare_str_len_alpha(s1, s2):\n",
    "    len_diff = len(s1) - len(s2)\n",
    "    if len_diff != 0:\n",
    "        return len_diff # Shorter strings first\n",
    "    else:\n",
    "        # Same length, compare alphabetically\n",
    "        if s1 < s2:\n",
    "            return -1\n",
    "        elif s1 > s2:\n",
    "            return 1\n",
    "        else:\n",
    "            return 0\n",
    "\n",
    "words_to_sort = [\"apple\", \"banana\", \"fig\", \"kiwi\", \"grape\"]\n",
    "sorted_words = sorted(words_to_sort, key=cmp_to_key(compare_str_len_alpha))\n",
    "print(f\"\\nOriginal words: {words_to_sort}\")\n",
    "print(f\"Custom sorted words: {sorted_words}\")\n",
    "# Expected: ['fig', 'kiwi', 'apple', 'grape', 'banana']"
   ]
  },
  {
   "cell_type": "markdown",
   "id": "end-marker",
   "metadata": {},
   "source": [
    "---\n",
    "*End of Python Basics Revision*\n",
    "---"
   ]
  }
 ],
 "metadata": {
  "jupytext": {
   "encoding": "# -*- coding: utf-8 -*-"
  },
  "kernelspec": {
   "display_name": "Python 3 (ipykernel)",
   "language": "python",
   "name": "python3"
  },
  "language_info": {
   "name": "python",
   "version": "3.9.12"
  }
 },
 "nbformat": 4,
 "nbformat_minor": 5
}
