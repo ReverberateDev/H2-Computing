{
 "cells": [
  {
   "cell_type": "markdown",
   "id": "e7f8a1b3",
   "metadata": {},
   "source": [
    "# Chapter S1C: Sorting Algorithms (H2 Computing 9569)\n",
    "\n",
    "This notebook summarizes the key concepts of fundamental sorting algorithms as covered in the H2 Computing syllabus, based on the provided notes."
   ]
  },
  {
   "cell_type": "markdown",
   "id": "b9d0c4e1",
   "metadata": {},
   "source": [
    "## 1. Sorting Fundamentals (Syllabus 1.2.1 - 1.2.2)\n",
    "\n",
    "**Sorting** is the process of arranging a collection of data items (e.g., numbers, strings, records) in a specific order based on a defined **ordering criterion**.\n",
    "\n",
    "Common orderings:\n",
    "*   **Numerical order:** Smallest to largest, or vice versa.\n",
    "*   **Lexicographical (alphabetical) order:** Based on character codes (e.g., ASCII).\n",
    "\n",
    "Sorting can be based on the entire item or a specific part (**key**), like sorting student records by exam score.\n",
    "\n",
    "**Why sort?**\n",
    "*   Enables efficient searching (e.g., **Binary Search** requires sorted data).\n",
    "*   Presents information clearly.\n",
    "*   Allows meaningful sequential processing.\n",
    "\n",
    "**Real-world examples:** File Explorer sorting files (by name, date, size), email sorting (by date, sender), telephone directories (by name)."
   ]
  },
  {
   "cell_type": "markdown",
   "id": "a2f5b8d7",
   "metadata": {},
   "source": [
    "### 1.1 Operations Involved in Sorting\n",
    "\n",
    "Sorting algorithms typically involve two main operations:\n",
    "\n",
    "1.  **Comparison:** Determining the relative order of two elements based on the sorting criterion (e.g., checking if `numberA < numberB`, comparing character codes for strings).\n",
    "2.  **Swapping:** Exchanging the positions of two elements to move them towards their correct sorted locations. A common way to swap variables `A` and `B` uses a temporary variable:"
   ]
  },
  {
   "cell_type": "code",
   "execution_count": null,
   "id": "c1e9f0a2",
   "metadata": {
    "vscode": {
     "languageId": "python"
    }
   },
   "outputs": [],
   "source": [
    "# --- Pseudo-code: Swapping two variables A and B ---\n",
    "# DECLARE A, B, temp : // Appropriate data type\n",
    "# // Assume A and B have values\n",
    "# temp ← A       // Store A's value\n",
    "# A ← B          // Assign B's value to A\n",
    "# B ← temp       // Assign original A's value (from temp) to B"
   ]
  },
  {
   "cell_type": "code",
   "execution_count": null,
   "id": "d0f3b1a5",
   "metadata": {
    "vscode": {
     "languageId": "python"
    }
   },
   "outputs": [],
   "source": [
    "# --- Python: Swapping two variables --- \n",
    "a = 5\n",
    "b = 10\n",
    "print(f\"Before swap: a={a}, b={b}\")\n",
    "\n",
    "# Method 1: Using a temporary variable (like pseudo-code)\n",
    "# temp = a\n",
    "# a = b\n",
    "# b = temp\n",
    "\n",
    "# Method 2: Python's tuple packing/unpacking (more concise)\n",
    "a, b = b, a\n",
    "\n",
    "print(f\"After swap: a={a}, b={b}\")"
   ]
  },
  {
   "cell_type": "markdown",
   "id": "e5f1c2d8",
   "metadata": {},
   "source": [
    "### 1.2 In-Place and Not In-Place Sorting\n",
    "\n",
    "*   **In-Place Sorting:**\n",
    "    *   Sorts data within the original data structure.\n",
    "    *   Requires only a **constant amount of extra memory** (O(1) space complexity), usually for temporary variables like during swaps.\n",
    "    *   Rearranges elements directly.\n",
    "    *   Common for **internal sorting** (when data fits in main memory).\n",
    "    *   Examples: **Insertion Sort, Bubble Sort, Quicksort**.\n",
    "\n",
    "*   **Not In-Place Sorting:**\n",
    "    *   Requires **additional memory** (often proportional to the input size, e.g., O(n)) to perform the sort, usually by copying data to another structure.\n",
    "    *   Often necessary for **external sorting** (when data is too large for main memory and resides on disk).\n",
    "    *   Example: **Merge Sort**."
   ]
  },
  {
   "cell_type": "markdown",
   "id": "f8a2b3c9",
   "metadata": {},
   "source": [
    "### 1.3 Stable and Unstable Sorting\n",
    "\n",
    "*   **Stable Sorting:**\n",
    "    *   Preserves the **relative order** of items that have **equal keys** (sorting values).\n",
    "    *   If two equal elements are in a certain order in the input, they remain in that same order in the output.\n",
    "    *   Example: If sorting students by class (key), and two students from class 'Alpha' appear in the order 'Alice' then 'Bob' in the input, a stable sort guarantees 'Alice' will still appear before 'Bob' in the output list of 'Alpha' students.\n",
    "    *   Examples: **Insertion Sort, Bubble Sort, Merge Sort**.\n",
    "\n",
    "*   **Unstable Sorting:**\n",
    "    *   Does **not** guarantee the original relative order of items with equal keys.\n",
    "    *   The relative order of equal elements in the output might be different from the input.\n",
    "    *   Example: **Quicksort**."
   ]
  },
  {
   "cell_type": "markdown",
   "id": "1a9e8d7c",
   "metadata": {},
   "source": [
    "## 2. Insertion Sort (Syllabus 1.2.1 - 1.2.2)\n",
    "\n",
    "**Insertion Sort** builds the final sorted array one item at a time. It iterates through the input list and for each element, it finds the correct position within the already sorted portion of the list and inserts it there.\n",
    "\n",
    "*   **Concept:** Maintain a **sorted subarray** at the beginning of the list. Take the next element from the **unsorted subarray** and insert it into the correct place in the sorted subarray, shifting larger elements one position to the right.\n",
    "*   **Characteristics:**\n",
    "    *   **In-place** sorting algorithm.\n",
    "    *   **Stable** sorting algorithm.\n",
    "    *   Efficient for small datasets or **nearly sorted** datasets.\n",
    "    *   Adaptive: Performs well if the input is already partially sorted."
   ]
  },
  {
   "cell_type": "markdown",
   "id": "b3c4d5e6",
   "metadata": {},
   "source": [
    "### 2.1 Key Steps\n",
    "\n",
    "1.  Consider the first element to be the initial sorted subarray.\n",
    "2.  Iterate from the second element (`index = 1`) to the end of the array.\n",
    "3.  Store the current element (`unsortedValue = arr[index]`) to be inserted.\n",
    "4.  Compare `unsortedValue` with elements in the sorted subarray (moving backward from `index - 1`).\n",
    "5.  Shift elements in the sorted subarray that are greater than `unsortedValue` one position to the right to make space.\n",
    "6.  Insert `unsortedValue` into the correct position (the \"gap\" created).\n",
    "7.  Repeat steps 2-6 until the entire array is sorted."
   ]
  },
  {
   "cell_type": "markdown",
   "id": "d9e0f1a7",
   "metadata": {},
   "source": [
    "### 2.2 Pseudo-code (Ascending Order)\n",
    "\n",
    "*(Based on PDF page 5, appears to use 0-based indexing)*"
   ]
  },
  {
   "cell_type": "code",
   "execution_count": null,
   "id": "e2d8c9b0",
   "metadata": {
    "vscode": {
     "languageId": "python"
    }
   },
   "outputs": [],
   "source": [
    "# --- Pseudo-code: Insertion Sort (0-based index) ---\n",
    "# PROCEDURE INSERTIONSORT(arr: ARRAY)\n",
    "#   DECLARE index, current : INTEGER\n",
    "#   DECLARE unsortedValue : // Appropriate data type\n",
    "#\n",
    "#   FOR index ← 1 TO LENGTH(arr) - 1 // Start from the second element (index 1)\n",
    "#     unsortedValue ← arr[index]     // Element to insert\n",
    "#     current ← index - 1            // Start comparing with element before it\n",
    "#\n",
    "#     // Move elements of arr[0..current] that are greater than unsortedValue\n",
    "#     // one position ahead of their current position\n",
    "#     WHILE current >= 0 AND unsortedValue < arr[current]\n",
    "#       arr[current + 1] ← arr[current] // Shift element to the right\n",
    "#       current ← current - 1           // Move to the previous element\n",
    "#     ENDWHILE\n",
    "#\n",
    "#     // Insert the unsortedValue at its correct position\n",
    "#     arr[current + 1] ← unsortedValue\n",
    "#   ENDFOR\n",
    "# ENDPROCEDURE"
   ]
  },
  {
   "cell_type": "markdown",
   "id": "f5a1b2c8",
   "metadata": {},
   "source": [
    "### 2.3 Python Implementation"
   ]
  },
  {
   "cell_type": "code",
   "execution_count": null,
   "id": "01b8c9d4",
   "metadata": {
    "vscode": {
     "languageId": "python"
    }
   },
   "outputs": [],
   "source": [
    "def insertion_sort(arr):\n",
    "  \"\"\"Sorts a list using the Insertion Sort algorithm (in-place).\"\"\"\n",
    "  n = len(arr)\n",
    "  # Traverse through 1 to n-1 (0-based indexing)\n",
    "  for index in range(1, n):\n",
    "    unsorted_value = arr[index] # Element to be inserted\n",
    "    current = index - 1       # Index of the last element in the sorted subarray\n",
    "\n",
    "    # Move elements of arr[0..current] that are greater than unsorted_value\n",
    "    # one position ahead of their current position\n",
    "    while current >= 0 and unsorted_value < arr[current]:\n",
    "      arr[current + 1] = arr[current] # Shift element to the right\n",
    "      current -= 1\n",
    "\n",
    "    # Insert unsorted_value after the element just smaller than it.\n",
    "    arr[current + 1] = unsorted_value\n",
    "\n",
    "# Example Usage\n",
    "my_list = [9, 5, 8, 12, 3, 7, 11]\n",
    "print(f\"Original list: {my_list}\")\n",
    "insertion_sort(my_list)\n",
    "print(f\"Sorted list:   {my_list}\")\n",
    "\n",
    "my_list_nearly_sorted = [3, 5, 7, 8, 9, 12, 11]\n",
    "print(f\"Nearly sorted list: {my_list_nearly_sorted}\")\n",
    "insertion_sort(my_list_nearly_sorted)\n",
    "print(f\"Sorted list:        {my_list_nearly_sorted}\")"
   ]
  },
  {
   "cell_type": "markdown",
   "id": "a9b8c7d6",
   "metadata": {},
   "source": [
    "## 3. Bubble Sort (Syllabus 1.2.1 - 1.2.2)\n",
    "\n",
    "**Bubble Sort** is a simple comparison-based algorithm. It repeatedly steps through the list, compares adjacent elements, and swaps them if they are in the wrong order. With each pass, the next largest (or smallest) element \"bubbles\" up to its correct position at the end of the unsorted portion.\n",
    "\n",
    "*   **Concept:** Compare adjacent pairs (`arr[j]` and `arr[j+1]`). If they are out of order (e.g., `arr[j] > arr[j+1]` for ascending sort), swap them. Repeat this process across the list. After the first pass, the largest element is at the end. Each subsequent pass considers one less element.\n",
    "*   **Characteristics:**\n",
    "    *   **In-place** sorting algorithm.\n",
    "    *   **Stable** sorting algorithm.\n",
    "    *   Generally **inefficient** for large lists (O(n²) average/worst case).\n",
    "    *   Simple to understand and implement.\n",
    "    *   Can be **optimized** to stop early if a pass completes with no swaps, indicating the list is already sorted."
   ]
  },
  {
   "cell_type": "markdown",
   "id": "b1c0d9e8",
   "metadata": {},
   "source": [
    "### 3.1 Key Steps\n",
    "\n",
    "1.  Start from the first element (`j = 0`).\n",
    "2.  Compare the current element (`arr[j]`) with the next element (`arr[j+1]`).\n",
    "3.  If they are in the wrong order (e.g., `arr[j] > arr[j+1]` for ascending), swap them.\n",
    "4.  Move to the next pair (`j = j + 1`) and repeat step 3 until the end of the current pass is reached.\n",
    "5.  After the first pass, the largest element is in the last position.\n",
    "6.  Repeat the process (steps 1-4) for the remaining unsorted portion of the list (reducing the range of `j` by one in each subsequent pass).\n",
    "7.  (Optimization) If a full pass is completed without any swaps, the list is sorted, and the algorithm can terminate early."
   ]
  },
  {
   "cell_type": "markdown",
   "id": "c7d6e5f4",
   "metadata": {},
   "source": [
    "### 3.2 Pseudo-code (Optimized Bubble Sort with Flag - Ascending Order)\n",
    "\n",
    "*(Based on PDF page 7, appears to use 0-based indexing)*"
   ]
  },
  {
   "cell_type": "code",
   "execution_count": null,
   "id": "d3e2f1a0",
   "metadata": {
    "vscode": {
     "languageId": "python"
    }
   },
   "outputs": [],
   "source": [
    "# --- Pseudo-code: Optimized Bubble Sort (0-based index) ---\n",
    "# PROCEDURE BUBBLESORT(arr: ARRAY OF // type)\n",
    "#   DECLARE temp : // Appropriate data type\n",
    "#   DECLARE flag : BOOLEAN\n",
    "#   DECLARE i, n : INTEGER\n",
    "#\n",
    "#   n ← LENGTH(arr)\n",
    "#   flag ← TRUE // Initialize flag to start the loop\n",
    "#\n",
    "#   WHILE flag = TRUE // Continue as long as a swap occurred in the previous pass\n",
    "#     flag ← FALSE // Assume no swaps will happen in this pass\n",
    "#\n",
    "#     // Iterate through the list, comparing adjacent elements\n",
    "#     // The range decreases implicitly as the loop controlling 'flag' might terminate\n",
    "#     // Or explicitly if using nested FOR loops (like basic version on page 6)\n",
    "#     // This WHILE loop version relies on the flag; inner loop structure not fully shown in PDF p7's WHILE version\n",
    "#     // Using structure from PDF p6's FOR loops combined with p7's flag for clarity:\n",
    "#     DECLARE pass_limit : INTEGER\n",
    "#     pass_limit = n - 1 // Initial limit\n",
    "#     WHILE flag = TRUE\n",
    "#         flag = FALSE\n",
    "#         FOR i = 0 TO pass_limit - 1 // Compare up to the last unsorted element\n",
    "#           IF arr[i] > arr[i+1] THEN\n",
    "#             // Swap elements\n",
    "#             temp ← arr[i]\n",
    "#             arr[i] ← arr[i+1]\n",
    "#             arr[i+1] ← temp\n",
    "#             flag ← TRUE // A swap occurred, need another pass\n",
    "#           ENDIF\n",
    "#         ENDFOR\n",
    "#         pass_limit = pass_limit - 1 // Reduce limit for next pass (optimization not explicitly in p7 while loop)\n",
    "#     ENDWHILE\n",
    "#\n",
    "# // Alternative p7 interpretation (direct translation):\n",
    "# PROCEDURE BUBBLESORT_P7(arr: ARRAY OF // type)\n",
    "#   DECLARE temp : // type\n",
    "#   DECLARE flag : BOOLEAN\n",
    "#   DECLARE i : INTEGER\n",
    "#   flag <- TRUE\n",
    "#   WHILE flag = TRUE\n",
    "#       flag <- FALSE\n",
    "#       FOR i = 0 TO LENGTH(arr) - 2 // Loop through potential swap pairs\n",
    "#           IF arr[i] > arr[i+1] THEN\n",
    "#               temp <- arr[i]\n",
    "#               arr[i] <- arr[i+1]\n",
    "#               arr[i+1] <- temp\n",
    "#               flag <- TRUE // Swap occurred\n",
    "#           ENDIF\n",
    "#       ENDFOR\n",
    "#   ENDWHILE\n",
    "# ENDPROCEDURE"
   ]
  },
  {
   "cell_type": "markdown",
   "id": "e9f807b6",
   "metadata": {},
   "source": [
    "### 3.3 Python Implementation (Optimized)"
   ]
  },
  {
   "cell_type": "code",
   "execution_count": null,
   "id": "f1a7b6c5",
   "metadata": {
    "vscode": {
     "languageId": "python"
    }
   },
   "outputs": [],
   "source": [
    "def bubble_sort_optimized(arr):\n",
    "  \"\"\"Sorts a list using the optimized Bubble Sort algorithm (in-place).\"\"\"\n",
    "  n = len(arr)\n",
    "  swapped = True # Initialize flag to start the loop\n",
    "  num_passes = 0\n",
    "\n",
    "  # The outer loop continues as long as a swap was made in the inner loop\n",
    "  # The range of the inner loop decreases with each pass\n",
    "  while swapped:\n",
    "    swapped = False # Assume no swaps in this pass\n",
    "    # Inner loop iterates up to the last sorted element\n",
    "    for i in range(n - 1 - num_passes):\n",
    "      if arr[i] > arr[i+1]:\n",
    "        # Swap elements\n",
    "        arr[i], arr[i+1] = arr[i+1], arr[i] # Python's tuple swap\n",
    "        swapped = True # Mark that a swap occurred\n",
    "    num_passes += 1 # Increment pass counter\n",
    "\n",
    "# Example Usage\n",
    "my_list = [4, 7, 3, 1, 6]\n",
    "print(f\"Original list: {my_list}\")\n",
    "bubble_sort_optimized(my_list)\n",
    "print(f\"Sorted list:   {my_list}\")\n",
    "\n",
    "my_list_sorted = [1, 3, 4, 6, 7]\n",
    "print(f\"Already sorted list: {my_list_sorted}\")\n",
    "bubble_sort_optimized(my_list_sorted) # Should terminate quickly\n",
    "print(f\"Sorted list:         {my_list_sorted}\")"
   ]
  },
  {
   "cell_type": "markdown",
   "id": "0c5d4e3f",
   "metadata": {},
   "source": [
    "## 4. Quicksort (Syllabus 1.2.1 - 1.2.2)\n",
    "\n",
    "**Quicksort** is an efficient, comparison-based sorting algorithm that uses a **divide and conquer** strategy.\n",
    "\n",
    "*   **Concept:**\n",
    "    1.  **Divide:** Select an element from the array called the **pivot**. Rearrange (partition) the array so that all elements smaller than the pivot come before it, and all elements greater come after it. After partitioning, the pivot is in its final sorted position.\n",
    "    2.  **Conquer:** Recursively apply the Quicksort algorithm to the two sub-arrays (elements to the left of the pivot and elements to the right of the pivot).\n",
    "    3.  **Combine:** No explicit combine step is needed because the sorting happens in-place during partitioning.\n",
    "*   **Characteristics:**\n",
    "    *   **In-place** sorting algorithm (typically, though recursion uses stack space).\n",
    "    *   **Unstable** sorting algorithm.\n",
    "    *   Very efficient on average: **O(n log n)** time complexity.\n",
    "    *   Worst-case time complexity is **O(n²)**, which can occur with poor pivot selection (e.g., on already sorted data if the first element is always the pivot).\n",
    "    *   Choice of **pivot strategy** (first element, last, middle, random) affects performance."
   ]
  },
  {
   "cell_type": "markdown",
   "id": "1d9e8f7a",
   "metadata": {},
   "source": [
    "### 4.1 The Partition Algorithm\n",
    "\n",
    "The core of Quicksort is the **partition** step. A common method (Lomuto or Hoare partition scheme - the PDF describes one similar to Hoare's): \n",
    "\n",
    "1.  **Choose Pivot:** Select a pivot element (e.g., the first element: `arr[first]`).\n",
    "2.  **Initialize Markers:** Set a `LeftMark` just after the pivot and a `RightMark` at the end of the array section being partitioned.\n",
    "3.  **Scan and Swap:**\n",
    "    *   Move `LeftMark` right until it points to an element greater than the pivot.\n",
    "    *   Move `RightMark` left until it points to an element less than or equal to the pivot.\n",
    "    *   If `LeftMark` is still to the left of or at `RightMark` (`LeftMark <= RightMark`), swap the elements at `LeftMark` and `RightMark`.\n",
    "    *   Repeat this scanning and swapping until `LeftMark` crosses `RightMark` (`LeftMark > RightMark`).\n",
    "4.  **Final Pivot Swap:** Swap the original pivot element (`arr[first]`) with the element at `RightMark`.\n",
    "5.  **Return Pivot Position:** Return `RightMark` as the index where the pivot is now correctly placed (the **split point**)."
   ]
  },
  {
   "cell_type": "markdown",
   "id": "2e7f6a5b",
   "metadata": {},
   "source": [
    "### 4.2 Pseudo-code (Quicksort and Partition)\n",
    "\n",
    "*(Based on PDF page 10, appears to use 1-based indexing)*"
   ]
  },
  {
   "cell_type": "code",
   "execution_count": null,
   "id": "3f5a4b3c",
   "metadata": {
    "vscode": {
     "languageId": "python"
    }
   },
   "outputs": [],
   "source": [
    "# --- Pseudo-code: Partition Function (1-based index) ---\n",
    "# FUNCTION Partition (Arr: ARRAY, First: INTEGER, Last: INTEGER) RETURNS INTEGER\n",
    "#   DECLARE PivotValue : // type\n",
    "#   DECLARE LeftMark, RightMark : INTEGER\n",
    "#   DECLARE Done : BOOLEAN\n",
    "#   DECLARE Temp : // type for swap\n",
    "#\n",
    "#   PivotValue ← Arr[First]\n",
    "#   LeftMark ← First + 1\n",
    "#   RightMark ← Last\n",
    "#   Done ← FALSE\n",
    "#\n",
    "#   WHILE Done = FALSE\n",
    "#     // Move LeftMark right\n",
    "#     WHILE LeftMark <= RightMark AND Arr[LeftMark] <= PivotValue DO\n",
    "#       LeftMark ← LeftMark + 1\n",
    "#     ENDWHILE\n",
    "#\n",
    "#     // Move RightMark left\n",
    "#     WHILE LeftMark <= RightMark AND Arr[RightMark] >= PivotValue DO\n",
    "#       RightMark ← RightMark - 1\n",
    "#     ENDWHILE\n",
    "#\n",
    "#     // Check if markers crossed\n",
    "#     IF LeftMark > RightMark THEN\n",
    "#       Done ← TRUE\n",
    "#     ELSE\n",
    "#       // Swap elements at LeftMark and RightMark\n",
    "#       Temp ← Arr[LeftMark]\n",
    "#       Arr[LeftMark] ← Arr[RightMark]\n",
    "#       Arr[RightMark] ← Temp\n",
    "#     ENDIF\n",
    "#   ENDWHILE\n",
    "#\n",
    "#   // Swap pivot into correct position\n",
    "#   Temp ← Arr[First]\n",
    "#   Arr[First] ← Arr[RightMark]\n",
    "#   Arr[RightMark] ← Temp\n",
    "#\n",
    "#   RETURN RightMark // Return the split point\n",
    "# ENDFUNCTION\n",
    "\n",
    "# --- Pseudo-code: Quicksort Procedure (Recursive, 1-based index) ---\n",
    "# // Note: PDF shows Quicksort as a FUNCTION returning ARRAY, but recursive calls don't use the return value,\n",
    "# // and sorting is done in-place. A PROCEDURE seems more appropriate.\n",
    "# PROCEDURE Quicksort (Arr: ARRAY, First: INTEGER, Last: INTEGER)\n",
    "#   DECLARE SplitPoint : INTEGER\n",
    "#\n",
    "#   IF First < Last THEN // Only sort if there's more than one element\n",
    "#     SplitPoint ← Partition(Arr, First, Last)\n",
    "#\n",
    "#     // Recursively sort the two halves\n",
    "#     Quicksort(Arr, First, SplitPoint - 1) // Left sub-array\n",
    "#     Quicksort(Arr, SplitPoint + 1, Last)  // Right sub-array\n",
    "#   ENDIF\n",
    "# ENDPROCEDURE\n",
    "\n",
    "# // Main call would be something like:\n",
    "# // CALL Quicksort(MyArray, 1, LENGTH(MyArray))"
   ]
  },
  {
   "cell_type": "markdown",
   "id": "4a3b2c1d",
   "metadata": {},
   "source": [
    "### 4.3 Python Implementation\n",
    "\n",
    "*(Using 0-based indexing common in Python)*"
   ]
  },
  {
   "cell_type": "code",
   "execution_count": null,
   "id": "5b1c0d9e",
   "metadata": {
    "vscode": {
     "languageId": "python"
    }
   },
   "outputs": [],
   "source": [
    "def partition(arr, first, last):\n",
    "    \"\"\"Partitions the array using the first element as pivot (Hoare-like).\"\"\"\n",
    "    pivot_value = arr[first]\n",
    "    left_mark = first + 1\n",
    "    right_mark = last\n",
    "    done = False\n",
    "\n",
    "    while not done:\n",
    "        # Move left_mark right\n",
    "        while left_mark <= right_mark and arr[left_mark] <= pivot_value:\n",
    "            left_mark += 1\n",
    "\n",
    "        # Move right_mark left\n",
    "        while right_mark >= left_mark and arr[right_mark] >= pivot_value:\n",
    "            right_mark -= 1\n",
    "\n",
    "        # Check if markers crossed\n",
    "        if right_mark < left_mark:\n",
    "            done = True\n",
    "        else:\n",
    "            # Swap elements\n",
    "            arr[left_mark], arr[right_mark] = arr[right_mark], arr[left_mark]\n",
    "\n",
    "    # Swap pivot into correct position\n",
    "    arr[first], arr[right_mark] = arr[right_mark], arr[first]\n",
    "\n",
    "    return right_mark # Return split point\n",
    "\n",
    "def quick_sort_recursive(arr, first, last):\n",
    "    \"\"\"Recursive helper function for Quicksort.\"\"\"\n",
    "    if first < last:\n",
    "        split_point = partition(arr, first, last)\n",
    "        # Recursively sort halves\n",
    "        quick_sort_recursive(arr, first, split_point - 1)\n",
    "        quick_sort_recursive(arr, split_point + 1, last)\n",
    "\n",
    "def quick_sort(arr):\n",
    "    \"\"\"Sorts a list using the Quicksort algorithm (in-place).\"\"\"\n",
    "    quick_sort_recursive(arr, 0, len(arr) - 1)\n",
    "\n",
    "# Example Usage\n",
    "my_list = [42, 20, 55, 59, 70, 81, 32, 62, 28] # Example from PDF p.9\n",
    "print(f\"Original list: {my_list}\")\n",
    "quick_sort(my_list)\n",
    "print(f\"Sorted list:   {my_list}\")\n",
    "\n",
    "scores = [56, 87, 34, 63, 95, 23, 54, 23, 57, 65, 35, 86, 45, 92, 48, 63, 76]\n",
    "print(f\"Scores list: {scores}\")\n",
    "quick_sort(scores)\n",
    "print(f\"Sorted scores: {scores}\")"
   ]
  },
  {
   "cell_type": "markdown",
   "id": "6c0d9e8f",
   "metadata": {},
   "source": [
    "## 5. Merge Sort (Syllabus 1.2.1 - 1.2.2)\n",
    "\n",
    "**Merge Sort** is another efficient, comparison-based sorting algorithm using the **divide and conquer** strategy.\n",
    "\n",
    "*   **Concept:**\n",
    "    1.  **Divide:** If the list has more than one element, split it recursively into two roughly equal halves until you have sub-lists containing only one element (which are inherently sorted).\n",
    "    2.  **Conquer (Merge):** Repeatedly merge the sorted sub-lists back together. To merge two sorted sub-lists, compare their elements one by one and place the smaller element into a new, temporary array. Continue until all elements from both sub-lists have been placed into the temporary array. Then copy the sorted elements from the temporary array back into the original array's corresponding positions.\n",
    "*   **Characteristics:**\n",
    "    *   **Not In-place:** Requires additional memory (typically O(n)) for the temporary array used during merging.\n",
    "    *   **Stable** sorting algorithm.\n",
    "    *   Guaranteed **O(n log n)** time complexity in all cases (best, average, worst), making it very consistent.\n",
    "    *   Often preferred for large datasets where stability or guaranteed performance is crucial, despite the extra memory usage."
   ]
  },
  {
   "cell_type": "markdown",
   "id": "7d8e7f6a",
   "metadata": {},
   "source": [
    "### 5.1 Algorithm Steps\n",
    "\n",
    "1.  **Base Case:** If the list has 0 or 1 elements, it is already sorted; return.\n",
    "2.  **Divide:** Find the middle point and split the list into two halves: left and right.\n",
    "3.  **Conquer:** Recursively call Merge Sort on the left half.\n",
    "4.  **Conquer:** Recursively call Merge Sort on the right half.\n",
    "5.  **Combine (Merge):** Merge the two now-sorted halves (left and right) into a single sorted list."
   ]
  },
  {
   "cell_type": "markdown",
   "id": "8e6f5a4b",
   "metadata": {},
   "source": [
    "### 5.2 Pseudo-code (Merge Sort and Merge)\n",
    "\n",
    "*(Based on PDF page 12, appears to use 1-based indexing and specific array slicing notation)*"
   ]
  },
  {
   "cell_type": "code",
   "execution_count": null,
   "id": "9f4a3b2c",
   "metadata": {
    "vscode": {
     "languageId": "python"
    }
   },
   "outputs": [],
   "source": [
    "# --- Pseudo-code: Merge Function (1-based index) ---\n",
    "# // Merges two sorted arrays 'left' and 'right' into a single sorted array 'combine'\n",
    "# FUNCTION Merge (left: ARRAY, right: ARRAY) RETURNS ARRAY\n",
    "#   DECLARE i, j, k : INTEGER\n",
    "#   DECLARE combine : ARRAY[1 : LENGTH(left) + LENGTH(right)] OF // type\n",
    "#\n",
    "#   i ← 1 // Pointer for left array\n",
    "#   j ← 1 // Pointer for right array\n",
    "#   k ← 1 // Pointer for combine array\n",
    "#\n",
    "#   // Compare elements from left and right, copy smaller one to combine\n",
    "#   WHILE i <= LENGTH(left) AND j <= LENGTH(right)\n",
    "#     IF left[i] > right[j] THEN // Assuming ascending sort, copy smaller (right[j])\n",
    "#       combine[k] ← right[j]\n",
    "#       j ← j + 1\n",
    "#     ELSE // left[i] is smaller or equal\n",
    "#       combine[k] ← left[i]\n",
    "#       i ← i + 1\n",
    "#     ENDIF\n",
    "#     k ← k + 1\n",
    "#   ENDWHILE\n",
    "#\n",
    "#   // Copy any remaining elements from the left array\n",
    "#   WHILE i <= LENGTH(left)\n",
    "#     combine[k] ← left[i]\n",
    "#     i ← i + 1\n",
    "#     k ← k + 1\n",
    "#   ENDWHILE\n",
    "#\n",
    "#   // Copy any remaining elements from the right array\n",
    "#   WHILE j <= LENGTH(right)\n",
    "#     combine[k] ← right[j]\n",
    "#     j ← j + 1\n",
    "#     k ← k + 1\n",
    "#   ENDWHILE\n",
    "#\n",
    "#   RETURN combine\n",
    "# ENDFUNCTION\n",
    "\n",
    "# --- Pseudo-code: MergeSort Function (Recursive, 1-based index) ---\n",
    "# FUNCTION MergeSort(arr: ARRAY[1:N]) RETURNS ARRAY\n",
    "#   DECLARE N : INTEGER\n",
    "#   N <- LENGTH(arr)\n",
    "#\n",
    "#   IF N <= 1 THEN // Base case: array is already sorted\n",
    "#     RETURN arr\n",
    "#   ENDIF\n",
    "#\n",
    "#   // Divide\n",
    "#   DECLARE mid : INTEGER\n",
    "#   DECLARE list1, list2 : ARRAY // Assuming appropriate slicing/copying happens\n",
    "#   mid <- INT(N / 2)\n",
    "#   // PDF notation implies slicing: list1 gets arr[1..mid], list2 gets arr[mid+1..N]\n",
    "#   list1 <- // Copy of first half of arr\n",
    "#   list2 <- // Copy of second half of arr\n",
    "#\n",
    "#   // Conquer (Recursive calls)\n",
    "#   list1 ← MergeSort(list1)\n",
    "#   list2 ← MergeSort(list2)\n",
    "#\n",
    "#   // Combine\n",
    "#   RETURN Merge(list1, list2)\n",
    "# ENDFUNCTION"
   ]
  },
  {
   "cell_type": "markdown",
   "id": "a02b1c0d",
   "metadata": {},
   "source": [
    "### 5.3 Python Implementation"
   ]
  },
  {
   "cell_type": "code",
   "execution_count": null,
   "id": "b7e8d9f0",
   "metadata": {
    "vscode": {
     "languageId": "python"
    }
   },
   "outputs": [],
   "source": [
    "def merge_sort(arr):\n",
    "    \"\"\"Sorts a list using the Merge Sort algorithm.\"\"\"\n",
    "    if len(arr) > 1:\n",
    "        # Divide\n",
    "        mid = len(arr) // 2\n",
    "        left_half = arr[:mid]  # Slicing creates copies\n",
    "        right_half = arr[mid:]\n",
    "\n",
    "        # Conquer (Recursive calls)\n",
    "        merge_sort(left_half)\n",
    "        merge_sort(right_half)\n",
    "\n",
    "        # Combine (Merge)\n",
    "        i = 0 # Pointer for left_half\n",
    "        j = 0 # Pointer for right_half\n",
    "        k = 0 # Pointer for original arr (to place merged elements)\n",
    "\n",
    "        # Merge elements into arr\n",
    "        while i < len(left_half) and j < len(right_half):\n",
    "            if left_half[i] < right_half[j]:\n",
    "                arr[k] = left_half[i]\n",
    "                i += 1\n",
    "            else:\n",
    "                arr[k] = right_half[j]\n",
    "                j += 1\n",
    "            k += 1\n",
    "\n",
    "        # Copy remaining elements from left_half (if any)\n",
    "        while i < len(left_half):\n",
    "            arr[k] = left_half[i]\n",
    "            i += 1\n",
    "            k += 1\n",
    "\n",
    "        # Copy remaining elements from right_half (if any)\n",
    "        while j < len(right_half):\n",
    "            arr[k] = right_half[j]\n",
    "            j += 1\n",
    "            k += 1\n",
    "    # Base case (len(arr) <= 1) does nothing, as it's already sorted\n",
    "\n",
    "# Example Usage\n",
    "my_list = [38, 16, 27, 39, 12, 27] # Example from PDF p.13\n",
    "print(f\"Original list: {my_list}\")\n",
    "merge_sort(my_list)\n",
    "print(f\"Sorted list:   {my_list}\")\n",
    "\n",
    "another_list = [56, 87, 34, 63, 95, 23, 54]\n",
    "print(f\"Another list: {another_list}\")\n",
    "merge_sort(another_list)\n",
    "print(f\"Sorted list:  {another_list}\")"
   ]
  },
  {
   "cell_type": "markdown",
   "id": "c3d2e1f0",
   "metadata": {},
   "source": [
    "## 6. Time Complexity and Algorithm Comparison (Syllabus 1.2.5)\n",
    "\n",
    "**Computational complexity** analyzes the resources (like time and memory) required by an algorithm as the input size grows.\n",
    "\n",
    "*   **Time Complexity:** Measures the amount of time (typically number of elementary operations) taken by an algorithm as a function of the input size (`n`).\n",
    "*   **Space Complexity:** Measures the amount of memory space needed by an algorithm as a function of the input size (`n`).\n",
    "\n",
    "### Big-O Notation\n",
    "\n",
    "**Big-O notation** (e.g., `O(f(n))`) is used to express the efficiency (usually time complexity) of an algorithm, focusing on its **rate of growth** as the input size (`n`) increases. It typically describes the **worst-case scenario** and considers only the **highest-order term** of the function `f(n)`.\n",
    "\n",
    "Common Time Complexities (from most efficient to least efficient for large `n`):\n",
    "*   **O(1): Constant Time:** Execution time is independent of input size (e.g., accessing an array element by index).\n",
    "*   **O(log n): Logarithmic Time:** Time increases very slowly as `n` grows; common in algorithms that repeatedly halve the search space (e.g., Binary Search).\n",
    "*   **O(n): Linear Time:** Time increases directly proportional to `n` (e.g., Linear Search, iterating through a list once).\n",
    "*   **O(n log n): Linearithmic Time:** Grows faster than linear but much slower than quadratic; typical of efficient sorting algorithms (e.g., Merge Sort, Quicksort average case).\n",
    "*   **O(n²): Quadratic Time:** Time increases proportionally to the square of `n`; common in simpler sorting algorithms or nested loops processing pairs of elements (e.g., Bubble Sort, Insertion Sort).\n",
    "*   **O(2ⁿ): Exponential Time:** Time grows extremely rapidly; often impractical for large `n` (e.g., some brute-force algorithms)."
   ]
  },
  {
   "cell_type": "markdown",
   "id": "d9e8f7a6",
   "metadata": {},
   "source": [
    "### 6.1 Comparison of Sorting Algorithms\n",
    "\n",
    "| Sorting Algorithm | Time Complexity - Best Case | Time Complexity - Average Case | Time Complexity - Worst Case | Memory Usage | Stable | Notes                                                                 |\n",
    "|-------------------|-----------------------------|--------------------------------|------------------------------|--------------|--------|-----------------------------------------------------------------------|\n",
    "| **Insertion Sort**| O(n)                        | O(n²)                          | O(n²)                        | In-place     | Yes    | Simple. Efficient for small/nearly sorted lists.                      |\n",
    "| **Bubble Sort**   | O(n) (optimized)            | O(n²)                          | O(n²)                        | In-place     | Yes    | Simplest. Generally slowest. Optimized version stops early if sorted. |\n",
    "| **Quicksort**     | O(n log n)                  | O(n log n)                     | O(n²)                        | In-place     | No     | Very fast on average. Worst case possible with poor pivot choice.     |\n",
    "| **Merge Sort**    | O(n log n)                  | O(n log n)                     | O(n log n)                   | Not In-place | Yes    | Consistent O(n log n) performance. Requires extra O(n) memory.      |\n",
    "\n",
    "**Summary Points:**\n",
    "*   **Bubble Sort:** Simple but slow (O(n²)). Practical only for very small lists.\n",
    "*   **Insertion Sort:** Better than Bubble Sort (fewer swaps/comparisons). Good for nearly sorted data (O(n) best case), but still O(n²) average/worst.\n",
    "*   **Quicksort:** Generally the fastest practical sort (O(n log n) average). Vulnerable to O(n²) worst case.\n",
    "*   **Merge Sort:** Guaranteed O(n log n) performance and stable, but requires extra memory.\n",
    "\n",
    "**Choosing the Right Algorithm:**\n",
    "There's no single \"best\" sort. The choice depends on:\n",
    "*   **Number of elements:** For small `n`, simplicity (Insertion/Bubble) might suffice.\n",
    "*   **Initial order:** Insertion Sort excels if data is nearly sorted.\n",
    "*   **Memory constraints:** Merge Sort's O(n) space usage might be prohibitive.\n",
    "*   **Stability requirement:** If equal elements must retain order, use Insertion, Bubble, or Merge Sort.\n",
    "*   **Performance guarantee:** If O(n²) worst-case is unacceptable, Merge Sort is safer than Quicksort."
   ]
  },
  {
   "cell_type": "markdown",
   "id": "e5f4a3b2",
   "metadata": {},
   "source": [
    "---\n",
    "*End of Summary for Chapter S1C: Sorting Algorithms*\n",
    "---"
   ]
  }
 ],
 "metadata": {
  "jupytext": {
   "encoding": "# -*- coding: utf-8 -*-"
  },
  "kernelspec": {
   "display_name": "Python 3 (ipykernel)",
   "language": "python",
   "name": "python3"
  },
  "language_info": {
   "name": "python",
   "version": "3.9.12"
  }
 },
 "nbformat": 4,
 "nbformat_minor": 5
}